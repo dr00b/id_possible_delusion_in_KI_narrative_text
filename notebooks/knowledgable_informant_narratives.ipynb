{
 "cells": [
  {
   "attachments": {},
   "cell_type": "markdown",
   "id": "4ff44ee4",
   "metadata": {},
   "source": [
    "Installation\n",
    "```\n",
    "pip install spacy_experimental\n",
    "pip install chardet\n",
    "pip install thinc[torch]\n",
    "pip install https://github.com/explosion/spacy-experimental/releases/download/v0.6.1/en_coreference_web_trf-3.4.0a2-py3-none-any.whl\n",
    "```\n"
   ]
  },
  {
   "cell_type": "code",
   "execution_count": 71,
   "id": "bd900881",
   "metadata": {},
   "outputs": [
    {
     "data": {
      "text/plain": [
       "True"
      ]
     },
     "execution_count": 71,
     "metadata": {},
     "output_type": "execute_result"
    }
   ],
   "source": [
    "import spacy\n",
    "import pandas as pd\n",
    "import sqlite3\n",
    "import os\n",
    "from dotenv import load_dotenv\n",
    "import sys\n",
    "import matplotlib.pyplot as plt\n",
    "load_dotenv()"
   ]
  },
  {
   "cell_type": "code",
   "execution_count": 2,
   "id": "5037dd3e",
   "metadata": {},
   "outputs": [],
   "source": [
    "nlp_coref = spacy.load(\"en_coreference_web_trf\")"
   ]
  },
  {
   "cell_type": "code",
   "execution_count": 6,
   "id": "eb10596c",
   "metadata": {},
   "outputs": [
    {
     "name": "stdout",
     "output_type": "stream",
     "text": [
      "{'coref_clusters_1': [My dad, he, he, he, my dad's, his, my dad, he, his, he, his, his, him], 'coref_clusters_2': [the behavioral variant FTD, it, this disease], 'coref_clusters_3': [passed, that, diagnosis to death, his passing], 'coref_clusters_4': [My, my, my, I, my, I, my, I, I, I, I], 'coref_clusters_5': [wrote, it], 'coref_clusters_6': [one blessing, it], 'coref_clusters_7': [my mother, my mom, we], 'coref_clusters_8': [lost, that]}\n",
      "<class 'spacy.tokens.span_group.SpanGroup'>\n",
      "[My dad, he, he, he, my dad's, his, my dad, he, his, he, his, his, him]\n"
     ]
    }
   ],
   "source": [
    "doc = nlp_coref(\"My dad passed away last summer after suffering from the behavioral variant FTD, he was older when he was diagnosed but he probably had it longer but we probably missed a lot of signs over the years. When the symptoms really started getting bad that's when my dad's doctor ordered an MRI and we learned that the frontal part of his brain was shrinking and in atrophy.  For my dad, from diagnosis to death it took less than two years, a year and nine and a half months to be exact.    As another poster mentioned I wrote a journal of everything he went through and it was challenging for sure as my mother and I were his caregivers the entire time.  If there was one blessing it was that he never lost his memory of who my mom and I were so that was a good thing.  I could write a book here on what we went through with this disease but almost seven months since his passing, I wish I could take care of him for just one more day.\")\n",
    "print(doc.spans)\n",
    "print(type(doc.spans.get(\"coref_clusters_1\")))\n",
    "s = doc.spans.get(\"coref_clusters_1\")\n",
    "print(s)"
   ]
  },
  {
   "cell_type": "code",
   "execution_count": 47,
   "id": "4da7fbf1",
   "metadata": {},
   "outputs": [
    {
     "data": {
      "text/plain": [
       "spacy.tokens.doc.Doc"
      ]
     },
     "execution_count": 47,
     "metadata": {},
     "output_type": "execute_result"
    }
   ],
   "source": [
    "type(doc)"
   ]
  },
  {
   "cell_type": "code",
   "execution_count": 9,
   "id": "8f26cf4f",
   "metadata": {},
   "outputs": [
    {
     "name": "stdout",
     "output_type": "stream",
     "text": [
      "{'coref_clusters_1': [mom, She, she, her, her, her, she, her, herself, she, her, her], 'coref_clusters_2': [the remote, it], 'coref_clusters_3': [them, them], 'coref_clusters_4': [Dr. PERSON, I, I, I, your]}\n"
     ]
    }
   ],
   "source": [
    "doc = nlp_coref(\"Dr. PERSON, mom is behaving the opposite way. She lives in an assisted living facility and she is pushing the call button every few minutes to have them hand her the remote when it is sitting right next to her, wanting them to wipe her when she goes to the bathroom and many other things like that. The caregivers are so frustrated and the nurse is trying to get her to do these things for herself while she still can. I am frustrated and can’t be around her because I am just so exhausted and I feel like her slave. What is your advice?\")\n",
    "print(doc.spans)"
   ]
  },
  {
   "cell_type": "code",
   "execution_count": 46,
   "id": "8be0e853",
   "metadata": {},
   "outputs": [
    {
     "name": "stdout",
     "output_type": "stream",
     "text": [
      "{'coref_clusters_1': [I, my, me, me, I, I, I, my, my, my, I, I, I], 'coref_clusters_2': [her, my mother, She, She, She, her, She, her, her, my mother, she, she], 'coref_clusters_3': [am, it], 'coref_clusters_4': [They, they], 'coref_clusters_5': [frying, it], 'coref_clusters_6': [am, it]}\n"
     ]
    }
   ],
   "source": [
    "doc = nlp_coref(\"\"\"Yes but it all depends on the state of dementia of your LO. Anything I try to say, request her to do or discuss with my mother is met with hostility. She is deeply paranoid and suspicious. She makes unfounded and quite horrid accusations to and about me. She argues with me even when I am being nice to her. She argues about her arguing!!! Bascially I am her punch bag and it is soul destroying. If you haven't already get a PoA and do what you have to do without them making it harder for you. If day to day tasks become impossible to complete then get home help for assistance or check your LO into a care facility. There comes a point when the stress and aggravation is just not worth it. They have dementia what do they know? Many times I feel like my mother is frying my brain and it literally hurts my head and I just want out. Can't do it any more, but I am trapped and she knows it because as well as having dementia she is a manipulative selfish narcissist which is a terrible combination. Get help is all I can say. Trying to deal with contentious issues on a one to one basis with a LO who is resistant non compliant is, 99% of the time, going to fail.\"\"\")\n",
    "print(doc.spans)"
   ]
  },
  {
   "cell_type": "code",
   "execution_count": 11,
   "id": "d8ac3825",
   "metadata": {},
   "outputs": [
    {
     "name": "stdout",
     "output_type": "stream",
     "text": [
      "{'coref_clusters_1': [my husband's dementia, it, it, it], 'coref_clusters_2': [my husband's, he, him, his, he, he, him, him, his, his, he], 'coref_clusters_3': [We, we, our, We, we], 'coref_clusters_4': [my, I, I, I, I]}\n"
     ]
    }
   ],
   "source": [
    "doc = nlp_coref(\"\"\"We embraced my husband's dementia because.... it is what it is.   When he first got the diagnosis we were mostly relieved, better than the dramas and psychosis that plagued him for a few years.   That had been a miserable time and I was his target.   Knowing what it was,  made our lives better.\n",
    "\n",
    "We ended up with a good medical team, the right meds after a few months of trials, government pension,  did all the legal paperwork while he could still function and we told people what he had with no shame or hesitation.\n",
    "\n",
    "7 years down with him at a moderate to severe stage and him sitting most days with his own thoughts, I think maybe his life is not so bad, no decisions, no bills, no driving, no responsibility,  not answerable for anything...... perpetual holiday of the mind.  It's then I think he's the lucky one.   I just get the work.\n",
    "\"\"\"\n",
    ")\n",
    "print(doc.spans)"
   ]
  },
  {
   "attachments": {},
   "cell_type": "markdown",
   "id": "6ed2b0fc",
   "metadata": {},
   "source": [
    "# Identify Knowledgable Informant \n",
    "\n",
    "\n",
    "### Proposed NLP Pipeline\n",
    "1. Remove single sentence comments\n",
    "2. NER, replace names\n",
    "3. Remove thank you's\n",
    "4. Apply coreference pipeline\n",
    "\n",
    "\n",
    "### Proposed Methodology\n",
    "1. Sort most common head coref clusters of interest (start w/ my then a word...). Count them, calculate distribution of length of references.\n",
    "2. Create list of relevant coref cluster heads.\n",
    "3. Determine threshold for \"talking about self\". What is length of \"I\" (knowledgeable informant) vs. the patient?"
   ]
  },
  {
   "cell_type": "code",
   "execution_count": 3,
   "id": "64ee49d0",
   "metadata": {},
   "outputs": [
    {
     "data": {
      "text/plain": [
       "True"
      ]
     },
     "execution_count": 3,
     "metadata": {},
     "output_type": "execute_result"
    }
   ],
   "source": [
    "\n",
    "comments = pd.read_sql(\"SELECT ROWID, * FROM comments\", sqlite3.connect(os.path.join(\"..\", \"data\", os.environ[\"SQLITE_DB_NAME\"])))"
   ]
  },
  {
   "cell_type": "code",
   "execution_count": 13,
   "id": "760f446a",
   "metadata": {},
   "outputs": [
    {
     "name": "stdout",
     "output_type": "stream",
     "text": [
      "(232214, 13)\n"
     ]
    },
    {
     "data": {
      "text/plain": [
       "0.25164382439106703"
      ]
     },
     "execution_count": 13,
     "metadata": {},
     "output_type": "execute_result"
    }
   ],
   "source": [
    "print(comments.shape)\n",
    "sys.getsizeof(comments) / 1024**3 # GB"
   ]
  },
  {
   "cell_type": "code",
   "execution_count": 45,
   "id": "714c1afc",
   "metadata": {},
   "outputs": [
    {
     "name": "stderr",
     "output_type": "stream",
     "text": [
      "c:\\Users\\david\\anaconda3\\envs\\spacy_experimental\\lib\\site-packages\\spacy\\util.py:877: UserWarning: [W095] Model 'en_core_web_sm' (3.5.0) was trained with spaCy v3.5 and may not be 100% compatible with the current version (3.4.4). If you see errors or degraded performance, download a newer compatible model or retrain your custom model with the current spaCy version. For more details and available updates, run: python -m spacy validate\n",
      "  warnings.warn(warn_msg)\n"
     ]
    }
   ],
   "source": [
    "nlp_sm = spacy.load(\"en_core_web_sm\")"
   ]
  },
  {
   "attachments": {},
   "cell_type": "markdown",
   "id": "c134f71e",
   "metadata": {},
   "source": [
    "### Initial Filtering Dataset\n",
    "Reduce dataset size before apply compute heavy coref."
   ]
  },
  {
   "cell_type": "code",
   "execution_count": 15,
   "id": "cf3987b7",
   "metadata": {},
   "outputs": [
    {
     "name": "stdout",
     "output_type": "stream",
     "text": [
      "remove replies: 232214 -> 179816 (77.44%)\n",
      "remove replies by channel owner: 179816 -> 179816 (100.00%)\n",
      "remove comments with only one sentence: 179816 -> 87476 (48.65%)\n"
     ]
    }
   ],
   "source": [
    "# Reduce Before Applying Coref\n",
    "#### Filtering Criteria\n",
    "comments[\"sentence_count\"] = comments[\"comment_text\"].apply(lambda x: len(list(nlp_sm(x).sents)))\n",
    "filter_1 = (comments.is_reply == 0)\n",
    "# filter_2 = (comments.reply_by_channel_owner == 0) redudant\n",
    "filter_3 = (comments.sentence_count) > 1\n",
    "\n",
    "filters = [\n",
    "    ('remove replies', filter_1),\n",
    "    ('remove comments with only one sentence', filter_3)\n",
    "]\n",
    "\n",
    "filtered = comments.copy()\n",
    "for name, bool_srs in filters:\n",
    "    orig_rows = filtered.shape[0]\n",
    "    filtered = filtered.loc[bool_srs, :]\n",
    "    updated_rows = filtered.shape[0]\n",
    "    print(f\"{name}: {orig_rows} -> {updated_rows} ({updated_rows / orig_rows:.2%})\")\n",
    "\n",
    "filtered.to_pickle(os.path.join(\"..\", \"data\", \"filtered_comments.pkl\"))"
   ]
  },
  {
   "cell_type": "code",
   "execution_count": 27,
   "id": "f980e4fb",
   "metadata": {},
   "outputs": [
    {
     "data": {
      "text/plain": [
       "215671    I understand what you going through. keep the ...\n",
       "3450      Yes I have.  Just recently.  Good resource for...\n",
       "162735    Would love to hear her on a decent piano. That...\n",
       "10660     OMG all of them!!!! But then I looked at the p...\n",
       "160900    Is it out of tune?...I forgot how a perfectly ...\n",
       "61022     Doc… I love you man, but vegetable carbohydrat...\n",
       "87825     My grandma has dementia..her memory lasts like...\n",
       "114940    even though she’s and actress, i HATE that bit...\n",
       "10805     Yes, going to make a binder for myself and my ...\n",
       "103976    Why do some people scratch their heads when th...\n",
       "Name: comment_text, dtype: object"
      ]
     },
     "execution_count": 27,
     "metadata": {},
     "output_type": "execute_result"
    }
   ],
   "source": [
    "filtered.comment_text.sample(10)"
   ]
  },
  {
   "attachments": {},
   "cell_type": "markdown",
   "id": "bfb62c7c",
   "metadata": {},
   "source": [
    "### Apply Coreference Resolution"
   ]
  },
  {
   "cell_type": "code",
   "execution_count": 3,
   "id": "6b3bca20",
   "metadata": {},
   "outputs": [
    {
     "name": "stdout",
     "output_type": "stream",
     "text": [
      "Processing 0 to 1000, 0.00%\n",
      "Processing 1000 to 2000, 1.14%\n",
      "Processing 2000 to 3000, 2.29%\n"
     ]
    },
    {
     "name": "stderr",
     "output_type": "stream",
     "text": [
      "Token indices sequence length is longer than the specified maximum sequence length for this model (718 > 512). Running this sequence through the model will result in indexing errors\n"
     ]
    },
    {
     "name": "stdout",
     "output_type": "stream",
     "text": [
      "Processing 3000 to 4000, 3.43%\n",
      "Processing 4000 to 5000, 4.57%\n",
      "Processing 5000 to 6000, 5.72%\n",
      "Processing 6000 to 7000, 6.86%\n",
      "Processing 7000 to 8000, 8.00%\n",
      "Processing 8000 to 9000, 9.15%\n",
      "Processing 9000 to 10000, 10.29%\n",
      "Processing 10000 to 11000, 11.43%\n",
      "Processing 11000 to 12000, 12.57%\n",
      "Processing 12000 to 13000, 13.72%\n",
      "Processing 13000 to 14000, 14.86%\n",
      "Processing 14000 to 15000, 16.00%\n",
      "Processing 15000 to 16000, 17.15%\n",
      "Processing 16000 to 17000, 18.29%\n",
      "Processing 17000 to 18000, 19.43%\n",
      "Processing 18000 to 19000, 20.58%\n",
      "Processing 19000 to 20000, 21.72%\n",
      "Processing 20000 to 21000, 22.86%\n",
      "Processing 21000 to 22000, 24.01%\n",
      "Processing 22000 to 23000, 25.15%\n",
      "Processing 23000 to 24000, 26.29%\n",
      "Processing 24000 to 25000, 27.44%\n",
      "Processing 25000 to 26000, 28.58%\n",
      "Processing 26000 to 27000, 29.72%\n",
      "Processing 27000 to 28000, 30.87%\n",
      "Processing 28000 to 29000, 32.01%\n",
      "Processing 29000 to 30000, 33.15%\n",
      "Processing 30000 to 31000, 34.30%\n",
      "Processing 31000 to 32000, 35.44%\n",
      "Processing 32000 to 33000, 36.58%\n",
      "Processing 33000 to 34000, 37.72%\n",
      "Processing 34000 to 35000, 38.87%\n",
      "Processing 35000 to 36000, 40.01%\n",
      "Processing 36000 to 37000, 41.15%\n",
      "Processing 37000 to 38000, 42.30%\n",
      "Processing 38000 to 39000, 43.44%\n",
      "Processing 39000 to 40000, 44.58%\n",
      "Processing 40000 to 41000, 45.73%\n",
      "Processing 41000 to 42000, 46.87%\n",
      "Processing 42000 to 43000, 48.01%\n",
      "Processing 43000 to 44000, 49.16%\n",
      "Processing 44000 to 45000, 50.30%\n",
      "Processing 45000 to 46000, 51.44%\n",
      "Processing 46000 to 47000, 52.59%\n",
      "Processing 47000 to 48000, 53.73%\n",
      "Processing 48000 to 49000, 54.87%\n",
      "Processing 49000 to 50000, 56.02%\n",
      "Processing 50000 to 51000, 57.16%\n",
      "Processing 51000 to 52000, 58.30%\n",
      "Processing 52000 to 53000, 59.44%\n",
      "Processing 53000 to 54000, 60.59%\n",
      "Processing 54000 to 55000, 61.73%\n",
      "Processing 55000 to 56000, 62.87%\n",
      "Processing 56000 to 57000, 64.02%\n",
      "Processing 57000 to 58000, 65.16%\n",
      "Processing 58000 to 59000, 66.30%\n",
      "Processing 59000 to 60000, 67.45%\n",
      "Processing 60000 to 61000, 68.59%\n",
      "Processing 61000 to 62000, 69.73%\n",
      "Processing 62000 to 63000, 70.88%\n",
      "Processing 63000 to 64000, 72.02%\n",
      "Processing 64000 to 65000, 73.16%\n",
      "Processing 65000 to 66000, 74.31%\n",
      "Processing 66000 to 67000, 75.45%\n",
      "Processing 67000 to 68000, 76.59%\n",
      "Processing 68000 to 69000, 77.74%\n",
      "Processing 69000 to 70000, 78.88%\n",
      "Processing 70000 to 71000, 80.02%\n",
      "Processing 71000 to 72000, 81.17%\n",
      "Processing 72000 to 73000, 82.31%\n",
      "Processing 73000 to 74000, 83.45%\n",
      "Processing 74000 to 75000, 84.59%\n",
      "Processing 75000 to 76000, 85.74%\n",
      "Processing 76000 to 77000, 86.88%\n",
      "Processing 77000 to 78000, 88.02%\n",
      "Processing 78000 to 79000, 89.17%\n",
      "Processing 79000 to 80000, 90.31%\n",
      "Processing 80000 to 81000, 91.45%\n",
      "Processing 81000 to 82000, 92.60%\n",
      "Processing 82000 to 83000, 93.74%\n",
      "Processing 83000 to 84000, 94.88%\n",
      "Processing 84000 to 85000, 96.03%\n",
      "Processing 85000 to 86000, 97.17%\n",
      "Processing 86000 to 87000, 98.31%\n",
      "Processing 87000 to 88000, 99.46%\n"
     ]
    }
   ],
   "source": [
    "filtered = pd.read_pickle(os.path.join(\"..\", \"data\", \"filtered_comments.pkl\"))\n",
    "database_path = os.path.join(\"..\", \"data\", os.environ[\"SQLITE_DB_NAME\"])\n",
    "conn = sqlite3.connect(database_path)\n",
    "\n",
    "# iterate over filtered in batches\n",
    "batch_size = 1000\n",
    "for i in range(0, filtered.shape[0], batch_size):\n",
    "    print(f\"Processing {i} to {i+batch_size}, {i / filtered.shape[0]:.2%}\")\n",
    "    batch = filtered.iloc[i:i+batch_size, :].copy()\n",
    "    batch[\"coref_result\"] = batch[\"comment_text\"].apply(lambda x: nlp_coref(x))\n",
    "    batch[\"coref_result_json\"] = batch[\"coref_result\"].apply(lambda x: str(x.to_json()))\n",
    "    batch[\"coref_spans_json\"] = batch[\"coref_result\"].apply(lambda x: str(x.spans))\n",
    "    batch[\"coref_doc_bytes\"] = batch[\"coref_result\"].apply(lambda x: x.to_bytes())\n",
    "    batch.rename(columns={\"rowid\": \"comment_rowid\"}, inplace=True)\n",
    "    batch.drop(columns=[c for c in batch.columns if c not in [\"comment_rowid\", \"coref_result_json\", \"coref_spans_json\", \"coref_doc_bytes\"]], inplace=True)\n",
    "    batch.to_sql(con=conn, name=\"comments_coref\", if_exists=\"append\", index=False)\n"
   ]
  },
  {
   "attachments": {},
   "cell_type": "markdown",
   "id": "c84f7b53",
   "metadata": {},
   "source": [
    "### Load Coref Results"
   ]
  },
  {
   "cell_type": "code",
   "execution_count": 52,
   "id": "ae5c1648",
   "metadata": {},
   "outputs": [
    {
     "ename": "",
     "evalue": "",
     "output_type": "error",
     "traceback": [
      "\u001b[1;31mCanceled future for execute_request message before replies were done"
     ]
    }
   ],
   "source": [
    "database_path = os.path.join(\"..\", \"data\", os.environ[\"SQLITE_DB_NAME\"])\n",
    "conn = sqlite3.connect(database_path)\n",
    "\n",
    "comments_coref = pd.read_sql(\"SELECT * FROM comments_coref\", conn)\n",
    "comments_coref[\"coref_result\"] = comments_coref[\"coref_doc_bytes\"].apply(lambda x: spacy.tokens.doc.Doc(nlp_coref.vocab).from_bytes(x))"
   ]
  },
  {
   "cell_type": "code",
   "execution_count": 7,
   "id": "8b8513e5",
   "metadata": {},
   "outputs": [],
   "source": [
    "\n",
    "def unpack_coref_to_tokens(row):\n",
    "    lst = []\n",
    "    all_coref_chains = row[\"coref_result\"].spans\n",
    "    for span in all_coref_chains:\n",
    "        span_index = span.split(\"_\")[-1]\n",
    "        for j, ent in enumerate(all_coref_chains[span]):\n",
    "            p = nlp_sm(ent.text)\n",
    "            s = next(p.sents)\n",
    "\n",
    "            possessive_tup = None\n",
    "            possessive_lemma = None\n",
    "            root_tup = None\n",
    "            root_first = True\n",
    "            root_lemma = None\n",
    "            compressed_possessive = None\n",
    "            compressed_possessive_lemma = None\n",
    "\n",
    "            for i, t in enumerate(s):\n",
    "                if t.dep_ == \"poss\" and t.pos_ == \"PRON\":\n",
    "                    possessive_tup = (t.text, i)\n",
    "                    possessive_lemma = t.lemma_\n",
    "                elif t.dep_ == \"ROOT\":\n",
    "                    root_tup = (t.text, i, t.pos_)\n",
    "                    root_lemma = t.lemma_\n",
    "            if root_tup is not None and possessive_tup is not None:\n",
    "                root_first = root_tup[1] < possessive_tup[1]\n",
    "                if root_first:\n",
    "                    compressed_possessive = root_tup[0] + \" \" + possessive_tup[0] \n",
    "                    compressed_possessive_lemma = root_lemma + \" \" + possessive_lemma\n",
    "                else:\n",
    "                    compressed_possessive = possessive_tup[0] + \" \" + root_tup[0]\n",
    "                    compressed_possessive_lemma = possessive_lemma + \" \" + root_lemma\n",
    "                    \n",
    "                \n",
    "            row_dict = {\n",
    "                \"comment_rowid\": row[\"comment_rowid\"],\n",
    "                \"ref_chain_index\": span_index,\n",
    "                \"ref_index\": j,\n",
    "                \"original_token\": ent.text,\n",
    "                \"lower_token\": ent.text.lower(),\n",
    "                \"root\": s.root.text,\n",
    "                \"root_lemmatized\": root_lemma,\n",
    "                \"root_pos\": root_tup[2] if root_tup is not None else None ,\n",
    "                \"compressed_possessive\": compressed_possessive,\n",
    "                \"compressed_possessive_lemmatized\": compressed_possessive_lemma\n",
    "            }\n",
    "            lst.append(row_dict)\n",
    "    return lst"
   ]
  },
  {
   "cell_type": "code",
   "execution_count": 8,
   "id": "d53a07f6",
   "metadata": {},
   "outputs": [],
   "source": [
    "for i, row in comments_coref.iterrows():\n",
    "    lst = unpack_coref_to_tokens(row)\n",
    "    if i == 0:\n",
    "        df = pd.DataFrame(lst)\n",
    "    else:\n",
    "        df = pd.concat([df, pd.DataFrame(lst)])"
   ]
  },
  {
   "cell_type": "code",
   "execution_count": 10,
   "id": "90de594d",
   "metadata": {},
   "outputs": [],
   "source": [
    "\n",
    "df[\"final_token\"] = df[\"compressed_possessive_lemmatized\"].fillna(df[\"root_lemmatized\"]).str.lower()\n",
    "df[\"final_token_len\"] = df[\"final_token\"].str.len()\n",
    "df[\"within_chain_max_len\"] = df.groupby([\"comment_rowid\", \"ref_chain_index\"])[\"final_token_len\"].transform(lambda x: x.max())\n"
   ]
  },
  {
   "cell_type": "code",
   "execution_count": 11,
   "id": "4c3e02b8",
   "metadata": {},
   "outputs": [],
   "source": [
    "df[\"chain_len\"] = df.groupby([\"comment_rowid\", \"ref_chain_index\"])[\"final_token_len\"].transform(lambda x: x.count())"
   ]
  },
  {
   "cell_type": "code",
   "execution_count": 12,
   "id": "5cf891e8",
   "metadata": {},
   "outputs": [],
   "source": [
    "df['chain_i_count'] = df.groupby([\"comment_rowid\", \"ref_chain_index\"])['final_token'].transform(lambda x: x[x == 'i'].count())"
   ]
  },
  {
   "cell_type": "code",
   "execution_count": 14,
   "id": "14f93600",
   "metadata": {},
   "outputs": [
    {
     "data": {
      "text/plain": [
       "(723633, 15)"
      ]
     },
     "execution_count": 14,
     "metadata": {},
     "output_type": "execute_result"
    }
   ],
   "source": [
    "df.shape"
   ]
  },
  {
   "cell_type": "code",
   "execution_count": 51,
   "id": "9a3c3aa1",
   "metadata": {},
   "outputs": [
    {
     "name": "stderr",
     "output_type": "stream",
     "text": [
      "C:\\Users\\david\\AppData\\Local\\Temp\\ipykernel_29888\\2134857202.py:2: DeprecationWarning: [W107] The property `Doc.is_nered` is deprecated. Use `Doc.has_annotation(\"ENT_IOB\")` instead.\n",
      "  a.is_nered\n"
     ]
    },
    {
     "data": {
      "text/plain": [
       "True"
      ]
     },
     "execution_count": 51,
     "metadata": {},
     "output_type": "execute_result"
    }
   ],
   "source": [
    "a = nlp_sm(\"my husband is a person\")\n",
    "a.is_nered"
   ]
  },
  {
   "cell_type": "code",
   "execution_count": null,
   "id": "d3b6d563",
   "metadata": {},
   "outputs": [],
   "source": [
    "df.to_pickle(os.path.join(\"..\", \"data\", \"coref_chain_tokens.pkl\"))"
   ]
  },
  {
   "cell_type": "code",
   "execution_count": 115,
   "id": "b2f4ab70",
   "metadata": {},
   "outputs": [],
   "source": [
    "df = pd.read_pickle(os.path.join(\"..\", \"data\", \"coref_chain_tokens.pkl\"))"
   ]
  },
  {
   "cell_type": "code",
   "execution_count": 34,
   "id": "f90e46a7",
   "metadata": {},
   "outputs": [
    {
     "data": {
      "text/plain": [
       "Index(['comment_rowid', 'ref_chain_index', 'ref_index', 'original_token',\n",
       "       'lower_token', 'root', 'root_lemmatized', 'root_pos',\n",
       "       'compressed_possessive', 'compressed_possessive_lemmatized',\n",
       "       'final_token', 'final_token_len', 'within_chain_max_len', 'chain_len',\n",
       "       'chain_i_count'],\n",
       "      dtype='object')"
      ]
     },
     "execution_count": 34,
     "metadata": {},
     "output_type": "execute_result"
    }
   ],
   "source": [
    "df.head(10)"
   ]
  },
  {
   "cell_type": "code",
   "execution_count": 11,
   "id": "01b6c842",
   "metadata": {},
   "outputs": [],
   "source": [
    "comment_chains = df.groupby([\"comment_rowid\"]).agg({\"ref_chain_index\": \"max\", \"chain_len\": [\"min\", \"median\", \"max\"]})"
   ]
  },
  {
   "cell_type": "code",
   "execution_count": 9,
   "id": "8ac18b22",
   "metadata": {},
   "outputs": [
    {
     "data": {
      "text/plain": [
       "MultiIndex([('ref_chain_index',    'max'),\n",
       "            (      'chain_len',    'min'),\n",
       "            (      'chain_len', 'median'),\n",
       "            (      'chain_len',    'max')],\n",
       "           )"
      ]
     },
     "execution_count": 9,
     "metadata": {},
     "output_type": "execute_result"
    }
   ],
   "source": [
    "comment_chains.columns"
   ]
  },
  {
   "cell_type": "code",
   "execution_count": 12,
   "id": "14f2b7c0",
   "metadata": {},
   "outputs": [],
   "source": [
    "comment_chains.columns = comment_chains.columns.to_flat_index()\n",
    "# merge column index to one column\n",
    "comment_chains.columns = [\"_\".join(x) for x in comment_chains.columns]\n",
    "comment_chains[\"ref_chain_index_max\"] = comment_chains[\"ref_chain_index_max\"].astype(float)"
   ]
  },
  {
   "cell_type": "code",
   "execution_count": 13,
   "id": "33cea4e1",
   "metadata": {},
   "outputs": [
    {
     "data": {
      "text/plain": [
       "Text(0, 0.5, 'Number of Comments')"
      ]
     },
     "execution_count": 13,
     "metadata": {},
     "output_type": "execute_result"
    },
    {
     "data": {
      "image/png": "[encoded data removed]",
      "text/plain": [
       "<Figure size 2000x1500 with 1 Axes>"
      ]
     },
     "metadata": {},
     "output_type": "display_data"
    }
   ],
   "source": [
    "os.environ[\"KMP_DUPLICATE_LIB_OK\"]=\"TRUE\"\n",
    "comment_chains[(\"ref_chain_index_max\")].plot.hist(bins=50, figsize=(20,15))\n",
    "plt.title(\"Number of Coreference Chains per Comment\")\n",
    "plt.xlabel(\"Number of Coreference Chains\")\n",
    "plt.ylabel(\"Number of Comments\")"
   ]
  },
  {
   "cell_type": "code",
   "execution_count": 14,
   "id": "be4d4239",
   "metadata": {},
   "outputs": [
    {
     "data": {
      "text/plain": [
       "(0.0, 30.0)"
      ]
     },
     "execution_count": 14,
     "metadata": {},
     "output_type": "execute_result"
    },
    {
     "data": {
      "image/png": "[encoded data removed]",
      "text/plain": [
       "<Figure size 2000x1500 with 1 Axes>"
      ]
     },
     "metadata": {},
     "output_type": "display_data"
    }
   ],
   "source": [
    "comment_chains.loc[(comment_chains[(\"chain_len_median\")] < 30), (\"chain_len_median\")].plot.hist(bins=30, figsize=(20,15))\n",
    "plt.title(\"Median Chain Length Per Comment\")\n",
    "plt.xlabel(\"Chain Length\")\n",
    "plt.ylabel(\"Number of Comments\")\n",
    "plt.xlim(0, 30)"
   ]
  },
  {
   "cell_type": "code",
   "execution_count": 52,
   "id": "b7a9e668",
   "metadata": {},
   "outputs": [],
   "source": [
    "# assume the longest token in a chain is coref chain principal entity\n",
    "# if two tokens have same length, keep them both\n",
    "# root token is a noun, not a pronoun\n",
    "### Noun requirement filters out I, you, we, our, my...\n",
    "df_chains_w_nouns = df.loc[df.root_pos.isin([\"NOUN\", \"PROPN\"]), :].copy()\n",
    "\n",
    "#df_chain_head.loc[df_chain_head.final_token.str.contains(\"mom|dad|father|mother|grand\")].groupby([\"final_token\"])[\"lower_token\"].value_counts().sort_values(ascending=False).to_excel(os.path.join(\"..\", \"data\", \"occurences_chain_head_family.xlsx\"))"
   ]
  },
  {
   "cell_type": "code",
   "execution_count": 53,
   "id": "8ca46568",
   "metadata": {},
   "outputs": [
    {
     "data": {
      "text/html": [
       "<div>\n",
       "<style scoped>\n",
       "    .dataframe tbody tr th:only-of-type {\n",
       "        vertical-align: middle;\n",
       "    }\n",
       "\n",
       "    .dataframe tbody tr th {\n",
       "        vertical-align: top;\n",
       "    }\n",
       "\n",
       "    .dataframe thead th {\n",
       "        text-align: right;\n",
       "    }\n",
       "</style>\n",
       "<table border=\"1\" class=\"dataframe\">\n",
       "  <thead>\n",
       "    <tr style=\"text-align: right;\">\n",
       "      <th></th>\n",
       "      <th>comment_rowid</th>\n",
       "      <th>ref_chain_index</th>\n",
       "      <th>ref_index</th>\n",
       "      <th>original_token</th>\n",
       "      <th>lower_token</th>\n",
       "      <th>root</th>\n",
       "      <th>root_lemmatized</th>\n",
       "      <th>root_pos</th>\n",
       "      <th>compressed_possessive</th>\n",
       "      <th>compressed_possessive_lemmatized</th>\n",
       "      <th>final_token</th>\n",
       "      <th>final_token_len</th>\n",
       "      <th>within_chain_max_len</th>\n",
       "      <th>chain_len</th>\n",
       "      <th>chain_i_count</th>\n",
       "    </tr>\n",
       "  </thead>\n",
       "  <tbody>\n",
       "    <tr>\n",
       "      <th>15</th>\n",
       "      <td>1</td>\n",
       "      <td>2</td>\n",
       "      <td>0</td>\n",
       "      <td>My 64 year old husband</td>\n",
       "      <td>my 64 year old husband</td>\n",
       "      <td>husband</td>\n",
       "      <td>husband</td>\n",
       "      <td>NOUN</td>\n",
       "      <td>My husband</td>\n",
       "      <td>my husband</td>\n",
       "      <td>my husband</td>\n",
       "      <td>10.0</td>\n",
       "      <td>10.0</td>\n",
       "      <td>11</td>\n",
       "      <td>1</td>\n",
       "    </tr>\n",
       "    <tr>\n",
       "      <th>17</th>\n",
       "      <td>1</td>\n",
       "      <td>2</td>\n",
       "      <td>2</td>\n",
       "      <td>My husband</td>\n",
       "      <td>my husband</td>\n",
       "      <td>husband</td>\n",
       "      <td>husband</td>\n",
       "      <td>NOUN</td>\n",
       "      <td>My husband</td>\n",
       "      <td>my husband</td>\n",
       "      <td>my husband</td>\n",
       "      <td>10.0</td>\n",
       "      <td>10.0</td>\n",
       "      <td>11</td>\n",
       "      <td>1</td>\n",
       "    </tr>\n",
       "    <tr>\n",
       "      <th>24</th>\n",
       "      <td>1</td>\n",
       "      <td>2</td>\n",
       "      <td>9</td>\n",
       "      <td>My husband</td>\n",
       "      <td>my husband</td>\n",
       "      <td>husband</td>\n",
       "      <td>husband</td>\n",
       "      <td>NOUN</td>\n",
       "      <td>My husband</td>\n",
       "      <td>my husband</td>\n",
       "      <td>my husband</td>\n",
       "      <td>10.0</td>\n",
       "      <td>10.0</td>\n",
       "      <td>11</td>\n",
       "      <td>1</td>\n",
       "    </tr>\n",
       "    <tr>\n",
       "      <th>28</th>\n",
       "      <td>1</td>\n",
       "      <td>4</td>\n",
       "      <td>0</td>\n",
       "      <td>an attorney</td>\n",
       "      <td>an attorney</td>\n",
       "      <td>attorney</td>\n",
       "      <td>attorney</td>\n",
       "      <td>NOUN</td>\n",
       "      <td>None</td>\n",
       "      <td>None</td>\n",
       "      <td>attorney</td>\n",
       "      <td>8.0</td>\n",
       "      <td>8.0</td>\n",
       "      <td>2</td>\n",
       "      <td>0</td>\n",
       "    </tr>\n",
       "    <tr>\n",
       "      <th>33</th>\n",
       "      <td>1</td>\n",
       "      <td>6</td>\n",
       "      <td>0</td>\n",
       "      <td>FTD</td>\n",
       "      <td>ftd</td>\n",
       "      <td>FTD</td>\n",
       "      <td>FTD</td>\n",
       "      <td>PROPN</td>\n",
       "      <td>None</td>\n",
       "      <td>None</td>\n",
       "      <td>ftd</td>\n",
       "      <td>3.0</td>\n",
       "      <td>7.0</td>\n",
       "      <td>2</td>\n",
       "      <td>0</td>\n",
       "    </tr>\n",
       "    <tr>\n",
       "      <th>...</th>\n",
       "      <td>...</td>\n",
       "      <td>...</td>\n",
       "      <td>...</td>\n",
       "      <td>...</td>\n",
       "      <td>...</td>\n",
       "      <td>...</td>\n",
       "      <td>...</td>\n",
       "      <td>...</td>\n",
       "      <td>...</td>\n",
       "      <td>...</td>\n",
       "      <td>...</td>\n",
       "      <td>...</td>\n",
       "      <td>...</td>\n",
       "      <td>...</td>\n",
       "      <td>...</td>\n",
       "    </tr>\n",
       "    <tr>\n",
       "      <th>0</th>\n",
       "      <td>232171</td>\n",
       "      <td>1</td>\n",
       "      <td>0</td>\n",
       "      <td>PERSON</td>\n",
       "      <td>person</td>\n",
       "      <td>PERSON</td>\n",
       "      <td>person</td>\n",
       "      <td>NOUN</td>\n",
       "      <td>None</td>\n",
       "      <td>None</td>\n",
       "      <td>person</td>\n",
       "      <td>6.0</td>\n",
       "      <td>6.0</td>\n",
       "      <td>2</td>\n",
       "      <td>0</td>\n",
       "    </tr>\n",
       "    <tr>\n",
       "      <th>1</th>\n",
       "      <td>232171</td>\n",
       "      <td>1</td>\n",
       "      <td>1</td>\n",
       "      <td>PERSON</td>\n",
       "      <td>person</td>\n",
       "      <td>PERSON</td>\n",
       "      <td>person</td>\n",
       "      <td>NOUN</td>\n",
       "      <td>None</td>\n",
       "      <td>None</td>\n",
       "      <td>person</td>\n",
       "      <td>6.0</td>\n",
       "      <td>6.0</td>\n",
       "      <td>2</td>\n",
       "      <td>0</td>\n",
       "    </tr>\n",
       "    <tr>\n",
       "      <th>3</th>\n",
       "      <td>232177</td>\n",
       "      <td>2</td>\n",
       "      <td>0</td>\n",
       "      <td>PERSON</td>\n",
       "      <td>person</td>\n",
       "      <td>PERSON</td>\n",
       "      <td>person</td>\n",
       "      <td>NOUN</td>\n",
       "      <td>None</td>\n",
       "      <td>None</td>\n",
       "      <td>person</td>\n",
       "      <td>6.0</td>\n",
       "      <td>6.0</td>\n",
       "      <td>3</td>\n",
       "      <td>0</td>\n",
       "    </tr>\n",
       "    <tr>\n",
       "      <th>1</th>\n",
       "      <td>232191</td>\n",
       "      <td>1</td>\n",
       "      <td>1</td>\n",
       "      <td>️</td>\n",
       "      <td>️</td>\n",
       "      <td>️</td>\n",
       "      <td>️</td>\n",
       "      <td>PROPN</td>\n",
       "      <td>None</td>\n",
       "      <td>None</td>\n",
       "      <td>️</td>\n",
       "      <td>1.0</td>\n",
       "      <td>1.0</td>\n",
       "      <td>2</td>\n",
       "      <td>0</td>\n",
       "    </tr>\n",
       "    <tr>\n",
       "      <th>3</th>\n",
       "      <td>232191</td>\n",
       "      <td>2</td>\n",
       "      <td>1</td>\n",
       "      <td>️ 😆</td>\n",
       "      <td>️ 😆</td>\n",
       "      <td>️</td>\n",
       "      <td>️</td>\n",
       "      <td>PROPN</td>\n",
       "      <td>None</td>\n",
       "      <td>None</td>\n",
       "      <td>️</td>\n",
       "      <td>1.0</td>\n",
       "      <td>1.0</td>\n",
       "      <td>2</td>\n",
       "      <td>0</td>\n",
       "    </tr>\n",
       "  </tbody>\n",
       "</table>\n",
       "<p>150794 rows × 15 columns</p>\n",
       "</div>"
      ],
      "text/plain": [
       "    comment_rowid ref_chain_index  ref_index          original_token  \\\n",
       "15              1               2          0  My 64 year old husband   \n",
       "17              1               2          2              My husband   \n",
       "24              1               2          9              My husband   \n",
       "28              1               4          0             an attorney   \n",
       "33              1               6          0                     FTD   \n",
       "..            ...             ...        ...                     ...   \n",
       "0          232171               1          0                  PERSON   \n",
       "1          232171               1          1                  PERSON   \n",
       "3          232177               2          0                  PERSON   \n",
       "1          232191               1          1                       ️   \n",
       "3          232191               2          1                     ️ 😆   \n",
       "\n",
       "               lower_token      root root_lemmatized root_pos  \\\n",
       "15  my 64 year old husband   husband         husband     NOUN   \n",
       "17              my husband   husband         husband     NOUN   \n",
       "24              my husband   husband         husband     NOUN   \n",
       "28             an attorney  attorney        attorney     NOUN   \n",
       "33                     ftd       FTD             FTD    PROPN   \n",
       "..                     ...       ...             ...      ...   \n",
       "0                   person    PERSON          person     NOUN   \n",
       "1                   person    PERSON          person     NOUN   \n",
       "3                   person    PERSON          person     NOUN   \n",
       "1                        ️         ️               ️    PROPN   \n",
       "3                      ️ 😆         ️               ️    PROPN   \n",
       "\n",
       "   compressed_possessive compressed_possessive_lemmatized final_token  \\\n",
       "15            My husband                       my husband  my husband   \n",
       "17            My husband                       my husband  my husband   \n",
       "24            My husband                       my husband  my husband   \n",
       "28                  None                             None    attorney   \n",
       "33                  None                             None         ftd   \n",
       "..                   ...                              ...         ...   \n",
       "0                   None                             None      person   \n",
       "1                   None                             None      person   \n",
       "3                   None                             None      person   \n",
       "1                   None                             None           ️   \n",
       "3                   None                             None           ️   \n",
       "\n",
       "    final_token_len  within_chain_max_len  chain_len  chain_i_count  \n",
       "15             10.0                  10.0         11              1  \n",
       "17             10.0                  10.0         11              1  \n",
       "24             10.0                  10.0         11              1  \n",
       "28              8.0                   8.0          2              0  \n",
       "33              3.0                   7.0          2              0  \n",
       "..              ...                   ...        ...            ...  \n",
       "0               6.0                   6.0          2              0  \n",
       "1               6.0                   6.0          2              0  \n",
       "3               6.0                   6.0          3              0  \n",
       "1               1.0                   1.0          2              0  \n",
       "3               1.0                   1.0          2              0  \n",
       "\n",
       "[150794 rows x 15 columns]"
      ]
     },
     "execution_count": 53,
     "metadata": {},
     "output_type": "execute_result"
    }
   ],
   "source": [
    "df_chains_w_nouns"
   ]
  },
  {
   "cell_type": "code",
   "execution_count": 59,
   "id": "9b01b06d",
   "metadata": {},
   "outputs": [
    {
     "data": {
      "text/plain": [
       "Index(['comment_rowid_nunique', 'chain_len_min', 'chain_len_median',\n",
       "       'chain_len_max', 'chain_i_count_median'],\n",
       "      dtype='object')"
      ]
     },
     "execution_count": 59,
     "metadata": {},
     "output_type": "execute_result"
    }
   ],
   "source": [
    "starts_with_my = df_chains_w_nouns.final_token.str[0:2] == \"my\"\n",
    "df_final_token = df_chains_w_nouns.loc[starts_with_my].groupby([\"final_token\"]).agg(\n",
    "    {\n",
    "        \"comment_rowid\": \"nunique\",\n",
    "        \"chain_len\": (\"min\", \"median\", \"max\"),\n",
    "        \"chain_i_count\": \"median\"\n",
    "    }\n",
    ")\n",
    "df_final_token.columns = df_final_token.columns.to_flat_index()\n",
    "df_final_token.columns = [\"_\".join(x) for x in df_final_token.columns]\n",
    "df_final_token.columns"
   ]
  },
  {
   "attachments": {},
   "cell_type": "markdown",
   "id": "2abb71ca",
   "metadata": {},
   "source": [
    "### Looks Promising!"
   ]
  },
  {
   "cell_type": "code",
   "execution_count": 60,
   "id": "83c52a48",
   "metadata": {},
   "outputs": [
    {
     "data": {
      "text/html": [
       "<div>\n",
       "<style scoped>\n",
       "    .dataframe tbody tr th:only-of-type {\n",
       "        vertical-align: middle;\n",
       "    }\n",
       "\n",
       "    .dataframe tbody tr th {\n",
       "        vertical-align: top;\n",
       "    }\n",
       "\n",
       "    .dataframe thead th {\n",
       "        text-align: right;\n",
       "    }\n",
       "</style>\n",
       "<table border=\"1\" class=\"dataframe\">\n",
       "  <thead>\n",
       "    <tr style=\"text-align: right;\">\n",
       "      <th></th>\n",
       "      <th>final_token</th>\n",
       "      <th>comment_rowid_nunique</th>\n",
       "      <th>chain_len_min</th>\n",
       "      <th>chain_len_median</th>\n",
       "      <th>chain_len_max</th>\n",
       "      <th>chain_i_count_median</th>\n",
       "    </tr>\n",
       "  </thead>\n",
       "  <tbody>\n",
       "    <tr>\n",
       "      <th>636</th>\n",
       "      <td>my mom</td>\n",
       "      <td>4366</td>\n",
       "      <td>2</td>\n",
       "      <td>5.0</td>\n",
       "      <td>144</td>\n",
       "      <td>0.0</td>\n",
       "    </tr>\n",
       "    <tr>\n",
       "      <th>651</th>\n",
       "      <td>my mother</td>\n",
       "      <td>2973</td>\n",
       "      <td>2</td>\n",
       "      <td>5.0</td>\n",
       "      <td>118</td>\n",
       "      <td>0.0</td>\n",
       "    </tr>\n",
       "    <tr>\n",
       "      <th>205</th>\n",
       "      <td>my dad</td>\n",
       "      <td>2145</td>\n",
       "      <td>2</td>\n",
       "      <td>4.0</td>\n",
       "      <td>129</td>\n",
       "      <td>0.0</td>\n",
       "    </tr>\n",
       "    <tr>\n",
       "      <th>400</th>\n",
       "      <td>my grandma</td>\n",
       "      <td>1774</td>\n",
       "      <td>2</td>\n",
       "      <td>5.0</td>\n",
       "      <td>48</td>\n",
       "      <td>0.0</td>\n",
       "    </tr>\n",
       "    <tr>\n",
       "      <th>412</th>\n",
       "      <td>my grandmother</td>\n",
       "      <td>1629</td>\n",
       "      <td>2</td>\n",
       "      <td>5.0</td>\n",
       "      <td>77</td>\n",
       "      <td>0.0</td>\n",
       "    </tr>\n",
       "    <tr>\n",
       "      <th>492</th>\n",
       "      <td>my husband</td>\n",
       "      <td>1565</td>\n",
       "      <td>2</td>\n",
       "      <td>5.0</td>\n",
       "      <td>66</td>\n",
       "      <td>0.0</td>\n",
       "    </tr>\n",
       "    <tr>\n",
       "      <th>299</th>\n",
       "      <td>my father</td>\n",
       "      <td>1206</td>\n",
       "      <td>2</td>\n",
       "      <td>5.0</td>\n",
       "      <td>65</td>\n",
       "      <td>0.0</td>\n",
       "    </tr>\n",
       "    <tr>\n",
       "      <th>734</th>\n",
       "      <td>my person</td>\n",
       "      <td>684</td>\n",
       "      <td>2</td>\n",
       "      <td>5.0</td>\n",
       "      <td>67</td>\n",
       "      <td>0.0</td>\n",
       "    </tr>\n",
       "    <tr>\n",
       "      <th>395</th>\n",
       "      <td>my grandfather</td>\n",
       "      <td>669</td>\n",
       "      <td>2</td>\n",
       "      <td>5.0</td>\n",
       "      <td>67</td>\n",
       "      <td>0.0</td>\n",
       "    </tr>\n",
       "    <tr>\n",
       "      <th>416</th>\n",
       "      <td>my grandpa</td>\n",
       "      <td>653</td>\n",
       "      <td>2</td>\n",
       "      <td>5.0</td>\n",
       "      <td>81</td>\n",
       "      <td>0.0</td>\n",
       "    </tr>\n",
       "  </tbody>\n",
       "</table>\n",
       "</div>"
      ],
      "text/plain": [
       "        final_token  comment_rowid_nunique  chain_len_min  chain_len_median  \\\n",
       "636          my mom                   4366              2               5.0   \n",
       "651       my mother                   2973              2               5.0   \n",
       "205          my dad                   2145              2               4.0   \n",
       "400      my grandma                   1774              2               5.0   \n",
       "412  my grandmother                   1629              2               5.0   \n",
       "492      my husband                   1565              2               5.0   \n",
       "299       my father                   1206              2               5.0   \n",
       "734       my person                    684              2               5.0   \n",
       "395  my grandfather                    669              2               5.0   \n",
       "416      my grandpa                    653              2               5.0   \n",
       "\n",
       "     chain_len_max  chain_i_count_median  \n",
       "636            144                   0.0  \n",
       "651            118                   0.0  \n",
       "205            129                   0.0  \n",
       "400             48                   0.0  \n",
       "412             77                   0.0  \n",
       "492             66                   0.0  \n",
       "299             65                   0.0  \n",
       "734             67                   0.0  \n",
       "395             67                   0.0  \n",
       "416             81                   0.0  "
      ]
     },
     "execution_count": 60,
     "metadata": {},
     "output_type": "execute_result"
    }
   ],
   "source": [
    "df_final_token.reset_index(inplace=True)\n",
    "df_final_token.sort_values(by=\"comment_rowid_nunique\", ascending=False).head(10)"
   ]
  },
  {
   "cell_type": "code",
   "execution_count": 61,
   "id": "7f0ad6d0",
   "metadata": {},
   "outputs": [
    {
     "data": {
      "text/plain": [
       "(1009, 6)"
      ]
     },
     "execution_count": 61,
     "metadata": {},
     "output_type": "execute_result"
    }
   ],
   "source": [
    "df_final_token.shape"
   ]
  },
  {
   "attachments": {},
   "cell_type": "markdown",
   "id": "0cf48247",
   "metadata": {},
   "source": [
    "### Identify entities of interest\n",
    "- Reviewed all final token combinatinos (my and noun) present in greater than 1 comment\n",
    "- Chose if is plausible term for patient when described by knowledgeable informant\n",
    "- Focused on adult dementia, removed references to kids"
   ]
  },
  {
   "cell_type": "code",
   "execution_count": 63,
   "id": "c5b704c1",
   "metadata": {},
   "outputs": [],
   "source": [
    "df_final_token.to_excel(os.path.join(\"..\", \"data\", \"final_tokens_coref_heads.xlsx\"))"
   ]
  },
  {
   "cell_type": "code",
   "execution_count": 164,
   "id": "12b851ec",
   "metadata": {},
   "outputs": [],
   "source": [
    "df_entities_of_interest = pd.read_excel(os.path.join(\"..\", \"data\", \"final_tokens_coref_heads_labelled.xlsx\"))"
   ]
  },
  {
   "cell_type": "code",
   "execution_count": 165,
   "id": "b1e7fb35",
   "metadata": {},
   "outputs": [
    {
     "data": {
      "text/html": [
       "<div>\n",
       "<style scoped>\n",
       "    .dataframe tbody tr th:only-of-type {\n",
       "        vertical-align: middle;\n",
       "    }\n",
       "\n",
       "    .dataframe tbody tr th {\n",
       "        vertical-align: top;\n",
       "    }\n",
       "\n",
       "    .dataframe thead th {\n",
       "        text-align: right;\n",
       "    }\n",
       "</style>\n",
       "<table border=\"1\" class=\"dataframe\">\n",
       "  <thead>\n",
       "    <tr style=\"text-align: right;\">\n",
       "      <th></th>\n",
       "      <th>final_token</th>\n",
       "      <th>include</th>\n",
       "      <th>acronym expanded</th>\n",
       "      <th>comment_rowid_nunique</th>\n",
       "      <th>chain_len_min</th>\n",
       "      <th>chain_len_median</th>\n",
       "      <th>chain_len_max</th>\n",
       "      <th>chain_i_count_median</th>\n",
       "    </tr>\n",
       "  </thead>\n",
       "  <tbody>\n",
       "    <tr>\n",
       "      <th>0</th>\n",
       "      <td>my mom</td>\n",
       "      <td>1.0</td>\n",
       "      <td>NaN</td>\n",
       "      <td>4366</td>\n",
       "      <td>2</td>\n",
       "      <td>5.0</td>\n",
       "      <td>144</td>\n",
       "      <td>0.0</td>\n",
       "    </tr>\n",
       "    <tr>\n",
       "      <th>1</th>\n",
       "      <td>my mother</td>\n",
       "      <td>1.0</td>\n",
       "      <td>NaN</td>\n",
       "      <td>2973</td>\n",
       "      <td>2</td>\n",
       "      <td>5.0</td>\n",
       "      <td>118</td>\n",
       "      <td>0.0</td>\n",
       "    </tr>\n",
       "    <tr>\n",
       "      <th>2</th>\n",
       "      <td>my dad</td>\n",
       "      <td>1.0</td>\n",
       "      <td>NaN</td>\n",
       "      <td>2145</td>\n",
       "      <td>2</td>\n",
       "      <td>4.0</td>\n",
       "      <td>129</td>\n",
       "      <td>0.0</td>\n",
       "    </tr>\n",
       "    <tr>\n",
       "      <th>3</th>\n",
       "      <td>my grandma</td>\n",
       "      <td>1.0</td>\n",
       "      <td>NaN</td>\n",
       "      <td>1774</td>\n",
       "      <td>2</td>\n",
       "      <td>5.0</td>\n",
       "      <td>48</td>\n",
       "      <td>0.0</td>\n",
       "    </tr>\n",
       "    <tr>\n",
       "      <th>4</th>\n",
       "      <td>my grandmother</td>\n",
       "      <td>1.0</td>\n",
       "      <td>NaN</td>\n",
       "      <td>1629</td>\n",
       "      <td>2</td>\n",
       "      <td>5.0</td>\n",
       "      <td>77</td>\n",
       "      <td>0.0</td>\n",
       "    </tr>\n",
       "    <tr>\n",
       "      <th>5</th>\n",
       "      <td>my husband</td>\n",
       "      <td>1.0</td>\n",
       "      <td>NaN</td>\n",
       "      <td>1565</td>\n",
       "      <td>2</td>\n",
       "      <td>5.0</td>\n",
       "      <td>66</td>\n",
       "      <td>0.0</td>\n",
       "    </tr>\n",
       "    <tr>\n",
       "      <th>6</th>\n",
       "      <td>my father</td>\n",
       "      <td>1.0</td>\n",
       "      <td>NaN</td>\n",
       "      <td>1206</td>\n",
       "      <td>2</td>\n",
       "      <td>5.0</td>\n",
       "      <td>65</td>\n",
       "      <td>0.0</td>\n",
       "    </tr>\n",
       "    <tr>\n",
       "      <th>7</th>\n",
       "      <td>my person</td>\n",
       "      <td>0.0</td>\n",
       "      <td>NaN</td>\n",
       "      <td>684</td>\n",
       "      <td>2</td>\n",
       "      <td>5.0</td>\n",
       "      <td>67</td>\n",
       "      <td>0.0</td>\n",
       "    </tr>\n",
       "    <tr>\n",
       "      <th>8</th>\n",
       "      <td>my grandfather</td>\n",
       "      <td>1.0</td>\n",
       "      <td>NaN</td>\n",
       "      <td>669</td>\n",
       "      <td>2</td>\n",
       "      <td>5.0</td>\n",
       "      <td>67</td>\n",
       "      <td>0.0</td>\n",
       "    </tr>\n",
       "    <tr>\n",
       "      <th>9</th>\n",
       "      <td>my grandpa</td>\n",
       "      <td>1.0</td>\n",
       "      <td>NaN</td>\n",
       "      <td>653</td>\n",
       "      <td>2</td>\n",
       "      <td>5.0</td>\n",
       "      <td>81</td>\n",
       "      <td>0.0</td>\n",
       "    </tr>\n",
       "  </tbody>\n",
       "</table>\n",
       "</div>"
      ],
      "text/plain": [
       "      final_token  include acronym expanded  comment_rowid_nunique  \\\n",
       "0  my mom          1.0      NaN              4366                    \n",
       "1  my mother       1.0      NaN              2973                    \n",
       "2  my dad          1.0      NaN              2145                    \n",
       "3  my grandma      1.0      NaN              1774                    \n",
       "4  my grandmother  1.0      NaN              1629                    \n",
       "5  my husband      1.0      NaN              1565                    \n",
       "6  my father       1.0      NaN              1206                    \n",
       "7  my person       0.0      NaN              684                     \n",
       "8  my grandfather  1.0      NaN              669                     \n",
       "9  my grandpa      1.0      NaN              653                     \n",
       "\n",
       "   chain_len_min  chain_len_median  chain_len_max  chain_i_count_median  \n",
       "0  2              5.0               144            0.0                   \n",
       "1  2              5.0               118            0.0                   \n",
       "2  2              4.0               129            0.0                   \n",
       "3  2              5.0               48             0.0                   \n",
       "4  2              5.0               77             0.0                   \n",
       "5  2              5.0               66             0.0                   \n",
       "6  2              5.0               65             0.0                   \n",
       "7  2              5.0               67             0.0                   \n",
       "8  2              5.0               67             0.0                   \n",
       "9  2              5.0               81             0.0                   "
      ]
     },
     "execution_count": 165,
     "metadata": {},
     "output_type": "execute_result"
    }
   ],
   "source": [
    "df_entities_of_interest.head(10)"
   ]
  },
  {
   "cell_type": "code",
   "execution_count": 166,
   "id": "10fa5cd2",
   "metadata": {},
   "outputs": [],
   "source": [
    "df_entities_of_interest[\"without_my\"] = df_entities_of_interest.final_token.str[3:].str.strip()\n",
    "pt_reference_terms = df_entities_of_interest.loc[df_entities_of_interest.include==1, [\"without_my\", \"comment_rowid_nunique\"]].rename(columns={\"without_my\": \"final_token\", \"commment_count\": \"count\"})"
   ]
  },
  {
   "cell_type": "code",
   "execution_count": 167,
   "id": "055fb756",
   "metadata": {},
   "outputs": [
    {
     "data": {
      "text/plain": [
       "143"
      ]
     },
     "execution_count": 167,
     "metadata": {},
     "output_type": "execute_result"
    }
   ],
   "source": [
    "conn = sqlite3.connect(os.path.join(\"..\", \"data\", os.environ[\"SQLITE_DB_NAME\"]))\n",
    "pt_reference_terms.to_sql(con=conn, name=\"pt_reference\", if_exists=\"replace\", index=False)"
   ]
  },
  {
   "cell_type": "code",
   "execution_count": 168,
   "id": "3b6d65ae",
   "metadata": {},
   "outputs": [
    {
     "data": {
      "text/html": [
       "<div>\n",
       "<style scoped>\n",
       "    .dataframe tbody tr th:only-of-type {\n",
       "        vertical-align: middle;\n",
       "    }\n",
       "\n",
       "    .dataframe tbody tr th {\n",
       "        vertical-align: top;\n",
       "    }\n",
       "\n",
       "    .dataframe thead th {\n",
       "        text-align: right;\n",
       "    }\n",
       "</style>\n",
       "<table border=\"1\" class=\"dataframe\">\n",
       "  <thead>\n",
       "    <tr style=\"text-align: right;\">\n",
       "      <th></th>\n",
       "      <th>final_token</th>\n",
       "      <th>comment_rowid_nunique</th>\n",
       "    </tr>\n",
       "  </thead>\n",
       "  <tbody>\n",
       "    <tr>\n",
       "      <th>0</th>\n",
       "      <td>mom</td>\n",
       "      <td>4366</td>\n",
       "    </tr>\n",
       "    <tr>\n",
       "      <th>1</th>\n",
       "      <td>mother</td>\n",
       "      <td>2973</td>\n",
       "    </tr>\n",
       "    <tr>\n",
       "      <th>2</th>\n",
       "      <td>dad</td>\n",
       "      <td>2145</td>\n",
       "    </tr>\n",
       "    <tr>\n",
       "      <th>3</th>\n",
       "      <td>grandma</td>\n",
       "      <td>1774</td>\n",
       "    </tr>\n",
       "    <tr>\n",
       "      <th>4</th>\n",
       "      <td>grandmother</td>\n",
       "      <td>1629</td>\n",
       "    </tr>\n",
       "    <tr>\n",
       "      <th>5</th>\n",
       "      <td>husband</td>\n",
       "      <td>1565</td>\n",
       "    </tr>\n",
       "    <tr>\n",
       "      <th>6</th>\n",
       "      <td>father</td>\n",
       "      <td>1206</td>\n",
       "    </tr>\n",
       "    <tr>\n",
       "      <th>8</th>\n",
       "      <td>grandfather</td>\n",
       "      <td>669</td>\n",
       "    </tr>\n",
       "    <tr>\n",
       "      <th>9</th>\n",
       "      <td>grandpa</td>\n",
       "      <td>653</td>\n",
       "    </tr>\n",
       "    <tr>\n",
       "      <th>10</th>\n",
       "      <td>wife</td>\n",
       "      <td>650</td>\n",
       "    </tr>\n",
       "  </tbody>\n",
       "</table>\n",
       "</div>"
      ],
      "text/plain": [
       "    final_token  comment_rowid_nunique\n",
       "0   mom          4366                 \n",
       "1   mother       2973                 \n",
       "2   dad          2145                 \n",
       "3   grandma      1774                 \n",
       "4   grandmother  1629                 \n",
       "5   husband      1565                 \n",
       "6   father       1206                 \n",
       "8   grandfather  669                  \n",
       "9   grandpa      653                  \n",
       "10  wife         650                  "
      ]
     },
     "execution_count": 168,
     "metadata": {},
     "output_type": "execute_result"
    }
   ],
   "source": [
    "pt_reference_terms.head(10)"
   ]
  },
  {
   "cell_type": "code",
   "execution_count": 169,
   "id": "d8066d79",
   "metadata": {},
   "outputs": [
    {
     "name": "stdout",
     "output_type": "stream",
     "text": [
      "(\\b(?:mom|mother|dad|grandma|grandmother|husband|father|grandfather|grandpa|wife|sister|mum|brother|friend|aunt|parent|granny|uncle|life|daddy|partner|grandparent|mama|lo|nana|sibling|grandad|patient|client|nan|lowd|mil|momma|neighbor|papa|boyfriend|hubby|gran|gma|girlfriend|pop|spouse|stepdad|granddad|man|gram|girl|lady|auntie|mam|love|ma|stepfather|ex|fil|neighbour|stepmom|dear|mommy|grammy|grandmom|step|abuela|gramp|mamaw|sis|inlaw|elder|gramma|great-|nanny|boss|fiance|gpa|grampa|mamma|papaw|aunty|grama|twin|guy|step-|bro|colleague|fiancee|gf|godmother|granddaddy|nanna|pa|abuelita|bf|fiancé|grandpas|granpa|hub|maw|moma|nonna|stepmother|gp|grandmomma|grannie|lowvd|opa|pawpaw|sib|sweetheart|buddy|companion|dude|ex-|father-|ggma|grand|grandmama|grandmas|momm|mwd|poppy|supervisor|sweetie|g'ma|gmom|gradfather|grammie|granda|grandaunt|grandp|granfather|granmda|greatgrandma|grumma|lola|lover|m|mate|milaw|mommom|mon|mother´s|nannie|senior)\\b)\n"
     ]
    }
   ],
   "source": [
    "match_string = r'(\\b(?:{})\\b)'.format(\"|\".join(pt_reference_terms.final_token.to_list()))\n",
    "print(match_string)\n",
    "#df.reset_index(inplace=True)\n",
    "chain_has_target_token = df.final_token.str.extract(match_string).notnull().any(axis=1)\n",
    "target_token_has_long_reference_chain = df.chain_len >= 4"
   ]
  },
  {
   "cell_type": "code",
   "execution_count": 170,
   "id": "de4a3351",
   "metadata": {},
   "outputs": [
    {
     "data": {
      "text/plain": [
       "44779     my mama    \n",
       "580696    your mother\n",
       "79543     my dad     \n",
       "595698    guy        \n",
       "209762    m          \n",
       "614632    grandpa    \n",
       "302220    my sister  \n",
       "678440    m          \n",
       "206776    my friend  \n",
       "179459    uncle      \n",
       "Name: final_token, dtype: object"
      ]
     },
     "execution_count": 170,
     "metadata": {},
     "output_type": "execute_result"
    }
   ],
   "source": [
    "df.loc[chain_has_target_token & target_token_has_long_reference_chain].final_token.sample(10)"
   ]
  },
  {
   "cell_type": "code",
   "execution_count": 171,
   "id": "d05f06cc",
   "metadata": {},
   "outputs": [],
   "source": [
    "comment_ids = list(df.loc[chain_has_target_token & target_token_has_long_reference_chain].comment_rowid.unique())"
   ]
  },
  {
   "cell_type": "code",
   "execution_count": 172,
   "id": "e9224086",
   "metadata": {},
   "outputs": [
    {
     "data": {
      "text/plain": [
       "15388"
      ]
     },
     "execution_count": 172,
     "metadata": {},
     "output_type": "execute_result"
    }
   ],
   "source": [
    "len(comment_ids)"
   ]
  },
  {
   "cell_type": "code",
   "execution_count": 174,
   "id": "bacfde80",
   "metadata": {},
   "outputs": [
    {
     "data": {
      "text/plain": [
       "15388"
      ]
     },
     "execution_count": 174,
     "metadata": {},
     "output_type": "execute_result"
    }
   ],
   "source": [
    "final_comment_set = pd.DataFrame({\"comment_rowid\": comment_ids})\n",
    "final_comment_set[\"criteria_id\"] = 1\n",
    "final_comment_set[\"criteria\"] = \"chain_has_target_token & target_token_has_long_reference_chain\"\n",
    "final_comment_set.to_sql(con=conn, name=\"knowledgeable_informant_narratives\", if_exists=\"replace\", index=False)"
   ]
  },
  {
   "cell_type": "code",
   "execution_count": 177,
   "id": "3b9a2f9e",
   "metadata": {},
   "outputs": [],
   "source": [
    "text_df = pd.read_sql(\n",
    "\"\"\"SELECT comment_text FROM comments c\n",
    "INNER JOIN knowledgeable_informant_narratives kn\n",
    "ON c.ROWID = kn.comment_rowid\n",
    "\"\"\", con=conn)"
   ]
  },
  {
   "cell_type": "code",
   "execution_count": 178,
   "id": "a7ebe7de",
   "metadata": {},
   "outputs": [
    {
     "data": {
      "text/html": [
       "<div>\n",
       "<style scoped>\n",
       "    .dataframe tbody tr th:only-of-type {\n",
       "        vertical-align: middle;\n",
       "    }\n",
       "\n",
       "    .dataframe tbody tr th {\n",
       "        vertical-align: top;\n",
       "    }\n",
       "\n",
       "    .dataframe thead th {\n",
       "        text-align: right;\n",
       "    }\n",
       "</style>\n",
       "<table border=\"1\" class=\"dataframe\">\n",
       "  <thead>\n",
       "    <tr style=\"text-align: right;\">\n",
       "      <th></th>\n",
       "      <th>comment_text</th>\n",
       "    </tr>\n",
       "  </thead>\n",
       "  <tbody>\n",
       "    <tr>\n",
       "      <th>12275</th>\n",
       "      <td>I worked in a nursing home when I was younger and it was a bit different to others, in that if we had a patient with dementia and their partner had the option to also move in with them. One patient I nursed PERSON her husband PERSON lived with her they had a twin room and he was with her all of the time as well as group activities but he didn''t want to be apart from her at any time. \\n\\nTheir story was actually truly tragic they had two children and lost one to a drowing when they were 20 and the other to cancer at 42 meaning they had no immediate family left, so they were one anothers everything. PERSON died aged 86 and PERSON survived her by 2 years. I had the privilege of going with PERSON for his wife's funeral so got to say goodbye to her properly. \\n\\nPERSON had no care needs when he moved in with his wife and minimal care needs when she passed away and chose to return to the home and live out his life in the place he and PERSON had spent the last ten years of their marriage. This home is in the UK and I was happy during my time there and was relieved at how well the people were looked after and I know it is not always the case even in the UK we have horror stories of elderly abuse and it always breaks my heart to hear it.</td>\n",
       "    </tr>\n",
       "    <tr>\n",
       "      <th>311</th>\n",
       "      <td>The one constant in my fathers Dementia is that he feels unsafe, I try to tell him he is safe. I found that even if it takes a while it seems to be the thing that he wants to know</td>\n",
       "    </tr>\n",
       "    <tr>\n",
       "      <th>6153</th>\n",
       "      <td>I’m a former carer with a qualification in dementia care and cared for those with dementia and much of what I learned goes against what we know to do in social interactions, but it’s for the persons best.\\nYou have to accept their narrative in most cases. If you’re “Betty” and your friend says you didn’t call earlier then you didn’t call earlier. If it’s Tuesday and you arrive at your parents house having last seen them on Friday but they are certain they saw you this morning then they are correct. All you do by arguing is confuse them, they won’t remember later why they were confused but they’ll remember that they were confused. They might not remember they saw the grandkids at one o’clock but they’ll have positive feelings that something happened earlier that made them feel happy and that is enough.\\n\\nI’m in my thirties, I don’t have dementia but it runs in my family, I’ve accepted there is a high chance that I’ll get it when I’m MUCH older, I’d rather spend my last years in blissful ignorance than confused panic.</td>\n",
       "    </tr>\n",
       "    <tr>\n",
       "      <th>11016</th>\n",
       "      <td>My dad had the healthiest lifestyle, exercised at the gym until he was almost 70, regularly ate DHA fatty fish, never ate sugary milk chocolate etc. Yet he still came down with dementia in his 70s.</td>\n",
       "    </tr>\n",
       "    <tr>\n",
       "      <th>7328</th>\n",
       "      <td>My husband died from Early Onset Alzheimer's.  At the end he didn't know my name but I was the only one who could hug him.  If I played slow music he would dance with me. Although he didn't know my name I know that he knew me. The nurses said he became calmer the minute he saw me everyday. I held him all the way to the end.</td>\n",
       "    </tr>\n",
       "    <tr>\n",
       "      <th>565</th>\n",
       "      <td>A friend was told her parents had dementia and she assumed Altzeimers.  After they died she was told it was \"alcoholic dementia\".   She had been taking alcohol to them every day for an afternoon pick me up in the nursing home!  Yes, they had been heavy drinkers but she didn't know bringing alcohol would make them worse!</td>\n",
       "    </tr>\n",
       "    <tr>\n",
       "      <th>80</th>\n",
       "      <td>This happened to a mate who gave up everything for loved one but when delusional he started ringing the police and they abused her as his flat was trashed due to his condition and they got social workers who further abused her and he lied to them and hospital, it was a nightmare.   It took a visit from a go between who on a visit said to her 'he thought they got it wrong'  Just before lockdown and a planned meeting at family court the go between attended a pre court meeting to remove power of attorned and harm mate she rang him and he said the case was dropped as it was not warranted.  No apology from safeguarding as shoddy social workers rang the job she had to leave due to the situation telling them she was on safeguarding.  This needs addressing.</td>\n",
       "    </tr>\n",
       "    <tr>\n",
       "      <th>3174</th>\n",
       "      <td>My Mom, who has Alzheimer, and has been staying with me, because my Dad is in the hospital.   Not only does she has Alzheimer, she is severely hard of hearing.  We have tried for at least 10 years for her to get hearing aides.  My Mom has tried a few different types of hearing aides for a short time, but will not use them.  My last try was to just get her a hand held amplifier, with ear buds.  She used it for a bit, but will not use it either.  It is really hard to do any of these really great tips that Dr. PERSON is suggesting, when everyone has to shout really loud at her to just hear basic things.  Mom cannot hear a conversation or it is hard for her to be a part of a conversation, because one cannot have a conversation continually shouting at her...it get's exhausting, and my voice gets hoarse. Although she has had two assessments at the geriatric clinic over several years; which they all agree she has Alzheimer, and I agree as well; I can't help but wonder how much is it the Alzheimer, and how much is it the hard of hearing, that is causing her not to understand. I was wondering if anyone can help or have some tips to help me out?</td>\n",
       "    </tr>\n",
       "    <tr>\n",
       "      <th>13837</th>\n",
       "      <td>As a child of someone that passed that had dementia I watch her evaporated my brothers and sisters also and we could do nothing other than to love her and to be there for her until she became absolutely nonverbal and pass all I have to say is never stop loving your grandma no matter what she says or what she does.\\nLove conquers all just like it says in the Bible.</td>\n",
       "    </tr>\n",
       "    <tr>\n",
       "      <th>8373</th>\n",
       "      <td>Couple weeks ago i visited my grandpa and i only heard from my family members or relatives that he forgets or acts lost. So for the first time he didnt recognize me..he was afraid to look because he \"didnt know\" me..i couldn't hold it in i teard up a bit</td>\n",
       "    </tr>\n",
       "    <tr>\n",
       "      <th>6075</th>\n",
       "      <td>My grandfather has dementia, and I went to visit him with my family very recently. We showed him a bunch of pictures from when he was younger, like at his wedding. He recognized his parents in the photos, and we were quite shocked. My grandpa can't even recognize my dad (his son) and my uncles, but when we showed him a picture of my dad when he was a very young child, my grandpa suddenly started talking abt my dad and saying things like \"he's a good boy.\" Suffice to say, there was a lot of emotion that day.</td>\n",
       "    </tr>\n",
       "    <tr>\n",
       "      <th>4678</th>\n",
       "      <td>The part where she did the Dementia/Alzheimer made me cry because it reminded me of my grandma who sadly passed away this January two weeks after her daughter's passing (my aunt). When I saw this video, it reminded of what my grandma did, she would accuse someone stealing and entering her house even though it wasn't true then she made up a story that we somehow believed lol then we will have a cycle of her asking the same question over and over again and revert back to her old attitude. As years passed from her diagnosis, she would have a hard time remembering us and her children's name but she tries her best and calls us random nicknames. What got us really emotional is despite that, she would repeatedly tell her old tale memories which happened in her last moments. It's been months but my heart aches missing her yet I know she's in her happy place with my grandpa and two kids.</td>\n",
       "    </tr>\n",
       "    <tr>\n",
       "      <th>13145</th>\n",
       "      <td>I run an adult day care center where the majority of my clients have some form of dementia. It is the most rewarding job, so much so that I have been there for nearly 30 years. I was destined for this type of work and truly love caring for those with this abhorrent disease. I see my purpose as giving my clients the best I ( my staff) have to offer them and what they deserve, love, dignity, respect laughter, honor, dance, fun, consideration, compassion, attentiveness, more fun, more love and lots more dancing!!! I can go on forever about my job, but I’ll end in just saying my motto is;  “No matter what my clients say  to me, I ALWAYS AGREE”</td>\n",
       "    </tr>\n",
       "    <tr>\n",
       "      <th>7404</th>\n",
       "      <td>dad just wanted to say you went to heaven feb 23 2016 and I will miss you everyday   the holidays are tough without you and mom but I hugged you while you still knew me and I gotta hug you and let you know I LOVE YA DAD  ill see you in heaven  YOUR DAUGHTER   RHONDA</td>\n",
       "    </tr>\n",
       "    <tr>\n",
       "      <th>11729</th>\n",
       "      <td>I'm in the same situation PERSON...im 29yo and i dunno what a have to do? can't a have a normal life,job doesn't works...i feel so lost...she drains my whole life...sometimes i feel so empty,no feelings...\\nTake care dude...a huge hug from Italy</td>\n",
       "    </tr>\n",
       "    <tr>\n",
       "      <th>3194</th>\n",
       "      <td>My problem is my wife's misdiagnosis \\nLabeled bipolar scitzoeffective disorder \\nReality she had spinal meningitis as a child and complex ptsd \\nListening to her she was constantly getting blood in urine ear infections \\nLived 2 blocks from old PERSON plant \\nEars bled out kidney failure school for deaf spinal stenosis 2 locations identified before age of 30 she was also given a shot in her back this is stuff in her memory \\nAs child they later said d she had adhd\\nShe was never properly treated for long-term sidefects of spinal meningitis as a child or  complex ptsd</td>\n",
       "    </tr>\n",
       "    <tr>\n",
       "      <th>9277</th>\n",
       "      <td>So sad. My dad was diagnosed about 15 years ago. I quit my job to take care of him full time, he had a good retirement as a fire captain so I could get by with that money coming in. My great wife worked full time and put her life with me on hold so I could do this for him. As my father went through all the stages of the disease I was so glad my mom was gone before him, I do not believe she could have watch it happen to him. It was the PERSON thing I ever had to do. There were days I felt as if my heart was going to stop with the unbearable weight of sadness that was upon me. I had my dad with me for 6 years before he was at rest with my mom. I remember the joy and sadness I felt when he went home. It took months for me not to wake up and run to see if he was ok after he was gone. I still feel guilt that maybe I could have done better for him but I did the best that I could. He was always feed, clean and cared for. But I guess we who have gone through such A horrible disease with our loved ones always feels that way. PERSON us who care for them.</td>\n",
       "    </tr>\n",
       "    <tr>\n",
       "      <th>5976</th>\n",
       "      <td>This is amazing! My mom is a baby boomer. She turned 70 last year .I noticed in the last 2 years she cant hear as well and she repeats stuff she told me a week ago,a say ago,a few hours ago like she never told me . I dismiss it alot because it reminds me of my nan ( her mother) when she started doing the same thing and she wound up in a home with alzheimers. Luckily we now have video games or app games that test her memory and she is very tech savvy for her age. Bubble witch saga and candy crush are her favourite games. She can still drive but relies more on my stepfather to drive at night as she has a degenerative eye disease in one of her eyes that is more bothersome at night or bad weather driving. But she would love this place because she was born in 1949 and remembers all these diners and cars from her sisters and brothers.❤</td>\n",
       "    </tr>\n",
       "    <tr>\n",
       "      <th>2984</th>\n",
       "      <td>It’s criminal that doctors do not study food as a healer! My mom is 94 with dementia living in a memory care unit. She actually made it to 90+ before she was unable to live in her assisted living apartment on her own. She never necessarily had the best diet, but it was better than any food she ever got in any of the places she has lived. The food is passable, but over processed, over cooked, over sweetened, etc., etc. She spent a few days in a rehab (nursing home) facility after a fall and the food was unrecognizable! Seriously - I could not tell what it was they were serving her. The food where she is now is pretty good, but nowhere near the kind of healthy it needs to be. And they always serve desert after every meal! Not fruit, not nuts or seeds, but cake, pie, pudding, etc. Nobody ever talks about nutrition! Thank you and I hope you can push your peers to talk about this more!</td>\n",
       "    </tr>\n",
       "    <tr>\n",
       "      <th>10233</th>\n",
       "      <td>My mom always do these things for us and I will hate myself if I she will be having the same situation...God I cried a lot watching this film...I just want everyone to know that I LOVE YOU MOM! Please love your parents always because life is only temporary.</td>\n",
       "    </tr>\n",
       "    <tr>\n",
       "      <th>5638</th>\n",
       "      <td>Is  there  medicine  for  alzheimers?  Im  worried  about  a  friend  of  mine  he  complains  everyday  thinking  people  talks  about  him  randomly  and  he  halucinates  telling  me  he  hears  people  talking  from  inside  appartments  what  kind  of  doctor  does  he  need?  Hes  been  to  counselors  i  dont  know  whats  he  diagnosed  as?</td>\n",
       "    </tr>\n",
       "    <tr>\n",
       "      <th>9657</th>\n",
       "      <td>I want my Mom not to do what she can’t do but I want her to do what she can to keep her viable . Does that make sense ? Yes she is very sick . I would say she has severe moderate Alzheimer’s</td>\n",
       "    </tr>\n",
       "    <tr>\n",
       "      <th>593</th>\n",
       "      <td>At this moment, with my Mom ( 89 ) I would welcome her not knowing me. That may sound cruel. She has mostly short term memory problems and I am extremely patient - asking the same thing about 7 times in a row. I always answer her as if it the first time she has asked. \\n\\nBut she has always been critical of me as being “ lazy “ ( I was depressed as a teenager, but that does not exist in her old Slavic world ) \\nI am a mother of 4 and was a mother to my granddaughter as well. \\nI was extremely hardworking and became an athlete as well. \\nBut 8 years ago, I developed a disorder called ME/CFS - unfortunately, no biomarker and not studied in Med school. \\nFor four years - from 64 to 67 - I was bedbound. To my Mom, laziness and no note from any Dr. - illness is invalid. \\nThe lectures I received and still receive are exhausting. I had to stay away for 2 weeks for my health. BTW, 8 siblings were all here at our lake from all over N. America. So no lack of help. \\n\\nNow if this were my sister or husband, I would find them not knowing me heartbreaking and I would be glad of these wonderful strategies. \\nBut at the moment, no. I have spent so much of my life being criticized, I could finally do without it.</td>\n",
       "    </tr>\n",
       "    <tr>\n",
       "      <th>7830</th>\n",
       "      <td>My grandpa is 84 years old and has been in great shape both physically and mentally(knock on wood), aside from a few falls. I’m super grateful that at his age he’s still capable of taking care of himself, and I tear up imagining him this helpless, neglected and taken advantage of.</td>\n",
       "    </tr>\n",
       "    <tr>\n",
       "      <th>9717</th>\n",
       "      <td>My Mom has Dellusions, Hallucinations, Paranoia and Rages. And is at a point where she refuses meds and will eat less and will not sleep in bed she sees bugs and will not watch tv she see animals and people come out. She will sleep on her wheelchair. She hears helicopters. Will tell me my brother got killed or that she talked to him all night and that he came out of the chimney. So much more. There are Stages.</td>\n",
       "    </tr>\n",
       "    <tr>\n",
       "      <th>9406</th>\n",
       "      <td>My mother suffers with this n if someone is not with her she would not remember to eat. I moved away 6 years ago n when we moved she would just forget little things but now she cannot walk n really cannot do n e thing for herself so we have 24 hour care with her. My dad died in 2012 so he is not around to care for her n she is ready to go meet him in heaven. PERSON n love to all</td>\n",
       "    </tr>\n",
       "    <tr>\n",
       "      <th>11981</th>\n",
       "      <td>You are so strong and so isn't your mother. She knows when you're crying every time. You play it off like you're not, but she knows. She's your mom and no disease in the world would ever change that. Don't lie to your mother. haha  :)  \\n((Hugs))</td>\n",
       "    </tr>\n",
       "    <tr>\n",
       "      <th>77</th>\n",
       "      <td>I'm about to say some lie about Tylenol PM having a recall, or being out of stock because my MIL keeps requesting it, and her son keeps buying it no matter how many times I say to stop. I know she isn't my mother, but I know damn well she is not supposed to be taking anything with Diphenhydramine. I don't want to lose her earlier than she already has. I adore her, and respect her dignity. I can't allow her to keep taking it.</td>\n",
       "    </tr>\n",
       "    <tr>\n",
       "      <th>11557</th>\n",
       "      <td>Hello PERSON, \\nThis is The First Video of Yours That i Have Seen, \\nIt's Very Moving To See Such A Beautiful Mana with Her Son, You Look So Close, &amp; i Can Feel The Love You Have for Each Other, Am So Deeply Sorry Your Mom Has This Cruel Desease, it's So Confusing for Your Mum, i Sinserely Hope They Find A Cure Asap &amp; That Your Mom Gets The Right Medication To Stop This in it's Tracks, \\nYour Mom is Very Lucky To Have Such A Big Hearted Son, Your Tender Manor &amp; Thoughtful Conversation Really Helps Your Mum, Your Better Then Any Medication, \\nMuch Love To You &amp; Your Beautiful Mom XOXO ♡</td>\n",
       "    </tr>\n",
       "    <tr>\n",
       "      <th>11605</th>\n",
       "      <td>Continue being a wonderful and strong man for your mother. She loves you more than anything in the entire world. You’re her baby boy.. forever in her eyes.</td>\n",
       "    </tr>\n",
       "    <tr>\n",
       "      <th>5991</th>\n",
       "      <td>Oh my gosh this is brilliant!  My uncle was in his 90's and suffering from Alzheimer's and as far as he was concerned the here and now so so long ago that his parents were still alive and he and his brothers were young men before the army.  When I tried to remind him who I was, his youngest brother's daughter the look of confusion on his face was frightening.  Their history truly becomes there here and now, their current time.</td>\n",
       "    </tr>\n",
       "    <tr>\n",
       "      <th>823</th>\n",
       "      <td>This was so extremely helpful I have kind of thought my husband could have dementia over the last year he forgets everything he never knows what day, month, year we are in he will ask me 50 times a day is it time for the kids to come home our kids get picked up by  the bus but he meets them at the bus stop so right after he gets home from taking them to the bus stop he starts asking me if it's time to go pick them up it pretty much every 5 to 10 minutes  all day until 3 pm its mentally taxing on me.  But the one thing you mentioned is psychiatric issues can be misdiagnosed and really it could be dementia  which makes so much sense  its only been  a year that I thought we were dealing with dementia but he has been dealing with psychiatric issues for 14 years its all so much clearer so he has been treated with medication for psych issues and it was probably dementia all along and it just got worse over the last year thank you for helping to clear this topic up for me.</td>\n",
       "    </tr>\n",
       "    <tr>\n",
       "      <th>8299</th>\n",
       "      <td>I got a score of 22 and I have to see a Neuropsych soon for a full 6 hour test and I am young and still in school so im really worried honestly</td>\n",
       "    </tr>\n",
       "    <tr>\n",
       "      <th>272</th>\n",
       "      <td>I'm tapping this as I'm listening so you probably will go over it in one of your videos. My mom is in early stages and even before she was not the top to go to the doctor but she would go maybe once a year but now specially after covid turned political I don't know how to go to the doctor. She takes 10 Tylenol PMs every night which I know it's just going to probably speed up the process of dementia</td>\n",
       "    </tr>\n",
       "    <tr>\n",
       "      <th>12417</th>\n",
       "      <td>I’m caregiving for my 88 year old mom with vascular dementia. It’s extremely difficult .  She gets sundowners which is aweful. I try to be scarce when this happens because there’s nothing that helps other than putting on her PERSON and being in hearing distance in case she needs something.  😢😢😢</td>\n",
       "    </tr>\n",
       "    <tr>\n",
       "      <th>14688</th>\n",
       "      <td>This brings tears to my eyes. They don't have alot of lucid moments. So happy for her and her father.  Her dads reply was so beautiful thats what we do. That is so true and now she's doing it for him. Cherish each and every moment you get. I  lived for each one with my father.</td>\n",
       "    </tr>\n",
       "    <tr>\n",
       "      <th>4136</th>\n",
       "      <td>Great video as usual! I'm currently wondering even about going to the opthalmologist because I'm not sure that my wife with FTD will be able to respond properly to their instructions when they're flipping the little lenses and asking her to read the letters on the wall, etc. Considering that I have to keep explaining to her over and over what an egg is, I just don't know if that's going to be worth the effort.  I do, of course, want to be sure that she can still see clearly, but one of the big problems with dementia is obviously that things that \"normal\" people do routinely can be very difficult. What if I tried to take a little Russian lady who spoke no English to the opthalmologist; how would that go?</td>\n",
       "    </tr>\n",
       "    <tr>\n",
       "      <th>4995</th>\n",
       "      <td>My lovely aunt has alzheimer's but she is very happy as long as there is a family member to take her out for walks every day and her terrible back pain seems to have vanished. I know for some it's very hard to deal with but we are very lucky she is content and seams very happy but very distant but that's for us to deal with not her.</td>\n",
       "    </tr>\n",
       "    <tr>\n",
       "      <th>1521</th>\n",
       "      <td>I am glad I took the time to watch this today. We had a hard time last night (again) with my mother-in-law with PERSON. It's sad, we had a great, calm, easy day and every night when we get our 4 children to bed, and we are EXHAUSTED, she starts up. She accuses us of leaving her alone all day in \"isolation\"! We spend every extra minute with her and she is Never Alone! It is so hard. If it isn't that she finds all kinds of off the wall things to complain about, accuse us of and complain of being tired and wanting to go to bed. We try to redirect or distract her but it doesn't last long. When we try to take her to bed she says she isn't tired and doesn't want to. Even though she begs us to let her go to bed from like 7 p.m. til it is time for bed. My husband and I are exhausted and running ourselves down.</td>\n",
       "    </tr>\n",
       "    <tr>\n",
       "      <th>11583</th>\n",
       "      <td>Dude I’m sorry you were dealt this shitty hand... Just want you to know that we all have your back and always willing to help in anyway... much love brother</td>\n",
       "    </tr>\n",
       "    <tr>\n",
       "      <th>7790</th>\n",
       "      <td>That's so kind my grandmother has dementia, you now that mean one, she often runs away from home and before she lost her drivers license she sometimes drove in a circel around the place she  lived. Also she has the PERSON so yeah her flat looks like a nuclearbomb detonated there. So I always asked myself what's the cause of her dementia, thank you for making a video related to that topic.\\nSorry if I have typos or grammatical errors in my comment I'm from Germany.</td>\n",
       "    </tr>\n",
       "    <tr>\n",
       "      <th>4185</th>\n",
       "      <td>When my mom talks to her doctor she downplays her symptoms and does not tell the doctor the truth.  I think she believes what she is saying is correct but it is not.  The doctor spends more time looking at the computer screen than looking at her, so the doctor fails to pick up on any subtle clues.  My stepdad is more vocal and tries to provide additional information but my mom says he wants to control her.  I have seen my mom scream and yell at him and accuse him of stealing money from her checking account, which is not true.  I stayed with her for one month in her guest room and it was awful.  She accused me of ruining her life and I thought she was going to hurt my cat.  I feel like she has multiple personalities at times.  You never know who you will meet.  I know it is the disease talking but the mean mom has a viciousness which is hard to deal with.  Her doctor is still clueless about this.</td>\n",
       "    </tr>\n",
       "    <tr>\n",
       "      <th>8706</th>\n",
       "      <td>Please allow me to ask a basic question:   Can  you  tell  me  how  in  the  world  does  this  take  place  at  a  convalescent  home?   They  do  not  have  the  time  to  do  what  you're  asking.  So  that  leaves  me  to  believe  that  there  are   a  lot  of  elderly  patients  either  being  left  unbathed  or  the  workers  are  just  hosing  them  down  as  they  sit  naked  in  a  chair.\\n\\nThis  is  video  is  not  realistic.   When  my  mother  was  alive,  she  had  dementia  and  you  couldn't  even  mention  that  you  were  going  to  put  water  on  her  head,  let  alone  her  whole  body.   I  have  one  sister  that  she  would  allow  to  do  it  for  her,  but  even  then  it  was  very  difficult.</td>\n",
       "    </tr>\n",
       "    <tr>\n",
       "      <th>1128</th>\n",
       "      <td>This was an eye opener. My husband has this for sure. I can tell what he means to say but it comes out mixed up. Mostly he chooses different words from what he should say. And he often has a hard time comprehending what we are saying. We get thru it though 🙏</td>\n",
       "    </tr>\n",
       "    <tr>\n",
       "      <th>7630</th>\n",
       "      <td>My father was diagnosed Aug 2009. he is now entering the latter stages of this horrible disease. It has been a nightmare watching helplessly as my father has slowly disappeared. He still knows who I am though....</td>\n",
       "    </tr>\n",
       "    <tr>\n",
       "      <th>3541</th>\n",
       "      <td>I didn't care what others thought about my decision.  I cared that my husband wanted me 24/7 and when I couldn't physically do that  and he did go to memory care, that he was scared and more confused without me.  He had a stroke on top of being in the end stages of dementia, but the stroke rapidly sped up the disease.  I was able to care for him for about 6 weeks after the stroke, but he wandered, was physically strong, fell a lot, and was aggressive with the caregivers I hired to help me at home.  Nothing worked. He is deceased. I still have guilt.</td>\n",
       "    </tr>\n",
       "    <tr>\n",
       "      <th>8499</th>\n",
       "      <td>This makes me want to cry, it reminds me of my grandpa. He had alzheimer and he forgot everything, even how to move and how to breath, they put machines inside him so he could live. He couldn't even cry, I remember exactly what my dad told me \"I was sitting next to him and he wanted to cry but didn't know how, he didn't look like he was about to cry but 1 drop still fell off his eyes\"</td>\n",
       "    </tr>\n",
       "    <tr>\n",
       "      <th>4359</th>\n",
       "      <td>Tip one—\u0000 just answer the question\\nI find it helps to remember that you HAVE TO find something to talk about. Usually it will be relatively unimportant.   Answering the same question again simply relieves you of trying to find some other subject to discuss.  So,  i. This way, it is sort of a blessing\\n\\nTip four—\u0000put it o. A calendar or sign.\\nI write a note that Mom keeps PERSON of her to references and ruminate on over and over again as she tries to absorb the content\\nThis also helps with potentially argumentative issues.   My mom sometimes could not agree that this is her house, or that we are alone\\nSo, when she was more with it... I wrote a note with this information and had her sign it\\nThen,  when I show her the note it is not me arguing with her\\n\\nWhen my mom was a teacher, she had an ah ha moment to realize that children have different modes of learning\\nAnd that some children might absorb information better by hearing, others by writing, others by practical experiences \\nIt is the same information, but different pathways in the brain\\nAnd my mom definitely responds differently to hearing vs reading</td>\n",
       "    </tr>\n",
       "    <tr>\n",
       "      <th>4520</th>\n",
       "      <td>My grandmother has dementia and has always disliked me for being a male since i was little due to trauma when she was young. Maybe she'll forget that she hates me at some point lol...\\n\\nI know it's fucked but this has been my reality since as long as I can remember so bear with me :/</td>\n",
       "    </tr>\n",
       "    <tr>\n",
       "      <th>11749</th>\n",
       "      <td>Good on ya PERSON mate, you are so patient with your PERSON, Odin bless you both! xoxo</td>\n",
       "    </tr>\n",
       "  </tbody>\n",
       "</table>\n",
       "</div>"
      ],
      "text/plain": [
       "                                                                                                                                                                                                                                                                                                                                                                                                                                                                                                                                                                                                                                                                                                                                                                                                                                                                                                                                                                                                                                                                                                                                                                                                                                                                                            comment_text\n",
       "12275  I worked in a nursing home when I was younger and it was a bit different to others, in that if we had a patient with dementia and their partner had the option to also move in with them. One patient I nursed PERSON her husband PERSON lived with her they had a twin room and he was with her all of the time as well as group activities but he didn''t want to be apart from her at any time. \\n\\nTheir story was actually truly tragic they had two children and lost one to a drowing when they were 20 and the other to cancer at 42 meaning they had no immediate family left, so they were one anothers everything. PERSON died aged 86 and PERSON survived her by 2 years. I had the privilege of going with PERSON for his wife's funeral so got to say goodbye to her properly. \\n\\nPERSON had no care needs when he moved in with his wife and minimal care needs when she passed away and chose to return to the home and live out his life in the place he and PERSON had spent the last ten years of their marriage. This home is in the UK and I was happy during my time there and was relieved at how well the people were looked after and I know it is not always the case even in the UK we have horror stories of elderly abuse and it always breaks my heart to hear it.\n",
       "311    The one constant in my fathers Dementia is that he feels unsafe, I try to tell him he is safe. I found that even if it takes a while it seems to be the thing that he wants to know                                                                                                                                                                                                                                                                                                                                                                                                                                                                                                                                                                                                                                                                                                                                                                                                                                                                                                                                                                                                                                                                                                              \n",
       "6153   I’m a former carer with a qualification in dementia care and cared for those with dementia and much of what I learned goes against what we know to do in social interactions, but it’s for the persons best.\\nYou have to accept their narrative in most cases. If you’re “Betty” and your friend says you didn’t call earlier then you didn’t call earlier. If it’s Tuesday and you arrive at your parents house having last seen them on Friday but they are certain they saw you this morning then they are correct. All you do by arguing is confuse them, they won’t remember later why they were confused but they’ll remember that they were confused. They might not remember they saw the grandkids at one o’clock but they’ll have positive feelings that something happened earlier that made them feel happy and that is enough.\\n\\nI’m in my thirties, I don’t have dementia but it runs in my family, I’ve accepted there is a high chance that I’ll get it when I’m MUCH older, I’d rather spend my last years in blissful ignorance than confused panic.                                                                                                                                                                                                                         \n",
       "11016  My dad had the healthiest lifestyle, exercised at the gym until he was almost 70, regularly ate DHA fatty fish, never ate sugary milk chocolate etc. Yet he still came down with dementia in his 70s.                                                                                                                                                                                                                                                                                                                                                                                                                                                                                                                                                                                                                                                                                                                                                                                                                                                                                                                                                                                                                                                                                            \n",
       "7328   My husband died from Early Onset Alzheimer's.  At the end he didn't know my name but I was the only one who could hug him.  If I played slow music he would dance with me. Although he didn't know my name I know that he knew me. The nurses said he became calmer the minute he saw me everyday. I held him all the way to the end.                                                                                                                                                                                                                                                                                                                                                                                                                                                                                                                                                                                                                                                                                                                                                                                                                                                                                                                                                            \n",
       "565    A friend was told her parents had dementia and she assumed Altzeimers.  After they died she was told it was \"alcoholic dementia\".   She had been taking alcohol to them every day for an afternoon pick me up in the nursing home!  Yes, they had been heavy drinkers but she didn't know bringing alcohol would make them worse!                                                                                                                                                                                                                                                                                                                                                                                                                                                                                                                                                                                                                                                                                                                                                                                                                                                                                                                                                                \n",
       "80     This happened to a mate who gave up everything for loved one but when delusional he started ringing the police and they abused her as his flat was trashed due to his condition and they got social workers who further abused her and he lied to them and hospital, it was a nightmare.   It took a visit from a go between who on a visit said to her 'he thought they got it wrong'  Just before lockdown and a planned meeting at family court the go between attended a pre court meeting to remove power of attorned and harm mate she rang him and he said the case was dropped as it was not warranted.  No apology from safeguarding as shoddy social workers rang the job she had to leave due to the situation telling them she was on safeguarding.  This needs addressing.                                                                                                                                                                                                                                                                                                                                                                                                                                                                                                          \n",
       "3174   My Mom, who has Alzheimer, and has been staying with me, because my Dad is in the hospital.   Not only does she has Alzheimer, she is severely hard of hearing.  We have tried for at least 10 years for her to get hearing aides.  My Mom has tried a few different types of hearing aides for a short time, but will not use them.  My last try was to just get her a hand held amplifier, with ear buds.  She used it for a bit, but will not use it either.  It is really hard to do any of these really great tips that Dr. PERSON is suggesting, when everyone has to shout really loud at her to just hear basic things.  Mom cannot hear a conversation or it is hard for her to be a part of a conversation, because one cannot have a conversation continually shouting at her...it get's exhausting, and my voice gets hoarse. Although she has had two assessments at the geriatric clinic over several years; which they all agree she has Alzheimer, and I agree as well; I can't help but wonder how much is it the Alzheimer, and how much is it the hard of hearing, that is causing her not to understand. I was wondering if anyone can help or have some tips to help me out?                                                                                                \n",
       "13837  As a child of someone that passed that had dementia I watch her evaporated my brothers and sisters also and we could do nothing other than to love her and to be there for her until she became absolutely nonverbal and pass all I have to say is never stop loving your grandma no matter what she says or what she does.\\nLove conquers all just like it says in the Bible.                                                                                                                                                                                                                                                                                                                                                                                                                                                                                                                                                                                                                                                                                                                                                                                                                                                                                                                   \n",
       "8373   Couple weeks ago i visited my grandpa and i only heard from my family members or relatives that he forgets or acts lost. So for the first time he didnt recognize me..he was afraid to look because he \"didnt know\" me..i couldn't hold it in i teard up a bit                                                                                                                                                                                                                                                                                                                                                                                                                                                                                                                                                                                                                                                                                                                                                                                                                                                                                                                                                                                                                                   \n",
       "6075   My grandfather has dementia, and I went to visit him with my family very recently. We showed him a bunch of pictures from when he was younger, like at his wedding. He recognized his parents in the photos, and we were quite shocked. My grandpa can't even recognize my dad (his son) and my uncles, but when we showed him a picture of my dad when he was a very young child, my grandpa suddenly started talking abt my dad and saying things like \"he's a good boy.\" Suffice to say, there was a lot of emotion that day.                                                                                                                                                                                                                                                                                                                                                                                                                                                                                                                                                                                                                                                                                                                                                                 \n",
       "4678   The part where she did the Dementia/Alzheimer made me cry because it reminded me of my grandma who sadly passed away this January two weeks after her daughter's passing (my aunt). When I saw this video, it reminded of what my grandma did, she would accuse someone stealing and entering her house even though it wasn't true then she made up a story that we somehow believed lol then we will have a cycle of her asking the same question over and over again and revert back to her old attitude. As years passed from her diagnosis, she would have a hard time remembering us and her children's name but she tries her best and calls us random nicknames. What got us really emotional is despite that, she would repeatedly tell her old tale memories which happened in her last moments. It's been months but my heart aches missing her yet I know she's in her happy place with my grandpa and two kids.                                                                                                                                                                                                                                                                                                                                                                      \n",
       "13145  I run an adult day care center where the majority of my clients have some form of dementia. It is the most rewarding job, so much so that I have been there for nearly 30 years. I was destined for this type of work and truly love caring for those with this abhorrent disease. I see my purpose as giving my clients the best I ( my staff) have to offer them and what they deserve, love, dignity, respect laughter, honor, dance, fun, consideration, compassion, attentiveness, more fun, more love and lots more dancing!!! I can go on forever about my job, but I’ll end in just saying my motto is;  “No matter what my clients say  to me, I ALWAYS AGREE”                                                                                                                                                                                                                                                                                                                                                                                                                                                                                                                                                                                                                          \n",
       "7404   dad just wanted to say you went to heaven feb 23 2016 and I will miss you everyday   the holidays are tough without you and mom but I hugged you while you still knew me and I gotta hug you and let you know I LOVE YA DAD  ill see you in heaven  YOUR DAUGHTER   RHONDA                                                                                                                                                                                                                                                                                                                                                                                                                                                                                                                                                                                                                                                                                                                                                                                                                                                                                                                                                                                                                       \n",
       "11729  I'm in the same situation PERSON...im 29yo and i dunno what a have to do? can't a have a normal life,job doesn't works...i feel so lost...she drains my whole life...sometimes i feel so empty,no feelings...\\nTake care dude...a huge hug from Italy                                                                                                                                                                                                                                                                                                                                                                                                                                                                                                                                                                                                                                                                                                                                                                                                                                                                                                                                                                                                                                            \n",
       "3194   My problem is my wife's misdiagnosis \\nLabeled bipolar scitzoeffective disorder \\nReality she had spinal meningitis as a child and complex ptsd \\nListening to her she was constantly getting blood in urine ear infections \\nLived 2 blocks from old PERSON plant \\nEars bled out kidney failure school for deaf spinal stenosis 2 locations identified before age of 30 she was also given a shot in her back this is stuff in her memory \\nAs child they later said d she had adhd\\nShe was never properly treated for long-term sidefects of spinal meningitis as a child or  complex ptsd                                                                                                                                                                                                                                                                                                                                                                                                                                                                                                                                                                                                                                                                                                   \n",
       "9277   So sad. My dad was diagnosed about 15 years ago. I quit my job to take care of him full time, he had a good retirement as a fire captain so I could get by with that money coming in. My great wife worked full time and put her life with me on hold so I could do this for him. As my father went through all the stages of the disease I was so glad my mom was gone before him, I do not believe she could have watch it happen to him. It was the PERSON thing I ever had to do. There were days I felt as if my heart was going to stop with the unbearable weight of sadness that was upon me. I had my dad with me for 6 years before he was at rest with my mom. I remember the joy and sadness I felt when he went home. It took months for me not to wake up and run to see if he was ok after he was gone. I still feel guilt that maybe I could have done better for him but I did the best that I could. He was always feed, clean and cared for. But I guess we who have gone through such A horrible disease with our loved ones always feels that way. PERSON us who care for them.                                                                                                                                                                                             \n",
       "5976   This is amazing! My mom is a baby boomer. She turned 70 last year .I noticed in the last 2 years she cant hear as well and she repeats stuff she told me a week ago,a say ago,a few hours ago like she never told me . I dismiss it alot because it reminds me of my nan ( her mother) when she started doing the same thing and she wound up in a home with alzheimers. Luckily we now have video games or app games that test her memory and she is very tech savvy for her age. Bubble witch saga and candy crush are her favourite games. She can still drive but relies more on my stepfather to drive at night as she has a degenerative eye disease in one of her eyes that is more bothersome at night or bad weather driving. But she would love this place because she was born in 1949 and remembers all these diners and cars from her sisters and brothers.❤                                                                                                                                                                                                                                                                                                                                                                                                                        \n",
       "2984   It’s criminal that doctors do not study food as a healer! My mom is 94 with dementia living in a memory care unit. She actually made it to 90+ before she was unable to live in her assisted living apartment on her own. She never necessarily had the best diet, but it was better than any food she ever got in any of the places she has lived. The food is passable, but over processed, over cooked, over sweetened, etc., etc. She spent a few days in a rehab (nursing home) facility after a fall and the food was unrecognizable! Seriously - I could not tell what it was they were serving her. The food where she is now is pretty good, but nowhere near the kind of healthy it needs to be. And they always serve desert after every meal! Not fruit, not nuts or seeds, but cake, pie, pudding, etc. Nobody ever talks about nutrition! Thank you and I hope you can push your peers to talk about this more!                                                                                                                                                                                                                                                                                                                                                                    \n",
       "10233  My mom always do these things for us and I will hate myself if I she will be having the same situation...God I cried a lot watching this film...I just want everyone to know that I LOVE YOU MOM! Please love your parents always because life is only temporary.                                                                                                                                                                                                                                                                                                                                                                                                                                                                                                                                                                                                                                                                                                                                                                                                                                                                                                                                                                                                                                \n",
       "5638   Is  there  medicine  for  alzheimers?  Im  worried  about  a  friend  of  mine  he  complains  everyday  thinking  people  talks  about  him  randomly  and  he  halucinates  telling  me  he  hears  people  talking  from  inside  appartments  what  kind  of  doctor  does  he  need?  Hes  been  to  counselors  i  dont  know  whats  he  diagnosed  as?                                                                                                                                                                                                                                                                                                                                                                                                                                                                                                                                                                                                                                                                                                                                                                                                                                                                                                                                   \n",
       "9657   I want my Mom not to do what she can’t do but I want her to do what she can to keep her viable . Does that make sense ? Yes she is very sick . I would say she has severe moderate Alzheimer’s                                                                                                                                                                                                                                                                                                                                                                                                                                                                                                                                                                                                                                                                                                                                                                                                                                                                                                                                                                                                                                                                                                   \n",
       "593    At this moment, with my Mom ( 89 ) I would welcome her not knowing me. That may sound cruel. She has mostly short term memory problems and I am extremely patient - asking the same thing about 7 times in a row. I always answer her as if it the first time she has asked. \\n\\nBut she has always been critical of me as being “ lazy “ ( I was depressed as a teenager, but that does not exist in her old Slavic world ) \\nI am a mother of 4 and was a mother to my granddaughter as well. \\nI was extremely hardworking and became an athlete as well. \\nBut 8 years ago, I developed a disorder called ME/CFS - unfortunately, no biomarker and not studied in Med school. \\nFor four years - from 64 to 67 - I was bedbound. To my Mom, laziness and no note from any Dr. - illness is invalid. \\nThe lectures I received and still receive are exhausting. I had to stay away for 2 weeks for my health. BTW, 8 siblings were all here at our lake from all over N. America. So no lack of help. \\n\\nNow if this were my sister or husband, I would find them not knowing me heartbreaking and I would be glad of these wonderful strategies. \\nBut at the moment, no. I have spent so much of my life being criticized, I could finally do without it.                                 \n",
       "7830   My grandpa is 84 years old and has been in great shape both physically and mentally(knock on wood), aside from a few falls. I’m super grateful that at his age he’s still capable of taking care of himself, and I tear up imagining him this helpless, neglected and taken advantage of.                                                                                                                                                                                                                                                                                                                                                                                                                                                                                                                                                                                                                                                                                                                                                                                                                                                                                                                                                                                                        \n",
       "9717   My Mom has Dellusions, Hallucinations, Paranoia and Rages. And is at a point where she refuses meds and will eat less and will not sleep in bed she sees bugs and will not watch tv she see animals and people come out. She will sleep on her wheelchair. She hears helicopters. Will tell me my brother got killed or that she talked to him all night and that he came out of the chimney. So much more. There are Stages.                                                                                                                                                                                                                                                                                                                                                                                                                                                                                                                                                                                                                                                                                                                                                                                                                                                                    \n",
       "9406   My mother suffers with this n if someone is not with her she would not remember to eat. I moved away 6 years ago n when we moved she would just forget little things but now she cannot walk n really cannot do n e thing for herself so we have 24 hour care with her. My dad died in 2012 so he is not around to care for her n she is ready to go meet him in heaven. PERSON n love to all                                                                                                                                                                                                                                                                                                                                                                                                                                                                                                                                                                                                                                                                                                                                                                                                                                                                                                    \n",
       "11981  You are so strong and so isn't your mother. She knows when you're crying every time. You play it off like you're not, but she knows. She's your mom and no disease in the world would ever change that. Don't lie to your mother. haha  :)  \\n((Hugs))                                                                                                                                                                                                                                                                                                                                                                                                                                                                                                                                                                                                                                                                                                                                                                                                                                                                                                                                                                                                                                           \n",
       "77     I'm about to say some lie about Tylenol PM having a recall, or being out of stock because my MIL keeps requesting it, and her son keeps buying it no matter how many times I say to stop. I know she isn't my mother, but I know damn well she is not supposed to be taking anything with Diphenhydramine. I don't want to lose her earlier than she already has. I adore her, and respect her dignity. I can't allow her to keep taking it.                                                                                                                                                                                                                                                                                                                                                                                                                                                                                                                                                                                                                                                                                                                                                                                                                                                     \n",
       "11557  Hello PERSON, \\nThis is The First Video of Yours That i Have Seen, \\nIt's Very Moving To See Such A Beautiful Mana with Her Son, You Look So Close, & i Can Feel The Love You Have for Each Other, Am So Deeply Sorry Your Mom Has This Cruel Desease, it's So Confusing for Your Mum, i Sinserely Hope They Find A Cure Asap & That Your Mom Gets The Right Medication To Stop This in it's Tracks, \\nYour Mom is Very Lucky To Have Such A Big Hearted Son, Your Tender Manor & Thoughtful Conversation Really Helps Your Mum, Your Better Then Any Medication, \\nMuch Love To You & Your Beautiful Mom XOXO ♡                                                                                                                                                                                                                                                                                                                                                                                                                                                                                                                                                                                                                                                                                 \n",
       "11605  Continue being a wonderful and strong man for your mother. She loves you more than anything in the entire world. You’re her baby boy.. forever in her eyes.                                                                                                                                                                                                                                                                                                                                                                                                                                                                                                                                                                                                                                                                                                                                                                                                                                                                                                                                                                                                                                                                                                                                      \n",
       "5991   Oh my gosh this is brilliant!  My uncle was in his 90's and suffering from Alzheimer's and as far as he was concerned the here and now so so long ago that his parents were still alive and he and his brothers were young men before the army.  When I tried to remind him who I was, his youngest brother's daughter the look of confusion on his face was frightening.  Their history truly becomes there here and now, their current time.                                                                                                                                                                                                                                                                                                                                                                                                                                                                                                                                                                                                                                                                                                                                                                                                                                                   \n",
       "823    This was so extremely helpful I have kind of thought my husband could have dementia over the last year he forgets everything he never knows what day, month, year we are in he will ask me 50 times a day is it time for the kids to come home our kids get picked up by  the bus but he meets them at the bus stop so right after he gets home from taking them to the bus stop he starts asking me if it's time to go pick them up it pretty much every 5 to 10 minutes  all day until 3 pm its mentally taxing on me.  But the one thing you mentioned is psychiatric issues can be misdiagnosed and really it could be dementia  which makes so much sense  its only been  a year that I thought we were dealing with dementia but he has been dealing with psychiatric issues for 14 years its all so much clearer so he has been treated with medication for psych issues and it was probably dementia all along and it just got worse over the last year thank you for helping to clear this topic up for me.                                                                                                                                                                                                                                                                             \n",
       "8299   I got a score of 22 and I have to see a Neuropsych soon for a full 6 hour test and I am young and still in school so im really worried honestly                                                                                                                                                                                                                                                                                                                                                                                                                                                                                                                                                                                                                                                                                                                                                                                                                                                                                                                                                                                                                                                                                                                                                  \n",
       "272    I'm tapping this as I'm listening so you probably will go over it in one of your videos. My mom is in early stages and even before she was not the top to go to the doctor but she would go maybe once a year but now specially after covid turned political I don't know how to go to the doctor. She takes 10 Tylenol PMs every night which I know it's just going to probably speed up the process of dementia                                                                                                                                                                                                                                                                                                                                                                                                                                                                                                                                                                                                                                                                                                                                                                                                                                                                                \n",
       "12417  I’m caregiving for my 88 year old mom with vascular dementia. It’s extremely difficult .  She gets sundowners which is aweful. I try to be scarce when this happens because there’s nothing that helps other than putting on her PERSON and being in hearing distance in case she needs something.  😢😢😢                                                                                                                                                                                                                                                                                                                                                                                                                                                                                                                                                                                                                                                                                                                                                                                                                                                                                                                                                                                          \n",
       "14688  This brings tears to my eyes. They don't have alot of lucid moments. So happy for her and her father.  Her dads reply was so beautiful thats what we do. That is so true and now she's doing it for him. Cherish each and every moment you get. I  lived for each one with my father.                                                                                                                                                                                                                                                                                                                                                                                                                                                                                                                                                                                                                                                                                                                                                                                                                                                                                                                                                                                                            \n",
       "4136   Great video as usual! I'm currently wondering even about going to the opthalmologist because I'm not sure that my wife with FTD will be able to respond properly to their instructions when they're flipping the little lenses and asking her to read the letters on the wall, etc. Considering that I have to keep explaining to her over and over what an egg is, I just don't know if that's going to be worth the effort.  I do, of course, want to be sure that she can still see clearly, but one of the big problems with dementia is obviously that things that \"normal\" people do routinely can be very difficult. What if I tried to take a little Russian lady who spoke no English to the opthalmologist; how would that go?                                                                                                                                                                                                                                                                                                                                                                                                                                                                                                                                                         \n",
       "4995   My lovely aunt has alzheimer's but she is very happy as long as there is a family member to take her out for walks every day and her terrible back pain seems to have vanished. I know for some it's very hard to deal with but we are very lucky she is content and seams very happy but very distant but that's for us to deal with not her.                                                                                                                                                                                                                                                                                                                                                                                                                                                                                                                                                                                                                                                                                                                                                                                                                                                                                                                                                   \n",
       "1521   I am glad I took the time to watch this today. We had a hard time last night (again) with my mother-in-law with PERSON. It's sad, we had a great, calm, easy day and every night when we get our 4 children to bed, and we are EXHAUSTED, she starts up. She accuses us of leaving her alone all day in \"isolation\"! We spend every extra minute with her and she is Never Alone! It is so hard. If it isn't that she finds all kinds of off the wall things to complain about, accuse us of and complain of being tired and wanting to go to bed. We try to redirect or distract her but it doesn't last long. When we try to take her to bed she says she isn't tired and doesn't want to. Even though she begs us to let her go to bed from like 7 p.m. til it is time for bed. My husband and I are exhausted and running ourselves down.                                                                                                                                                                                                                                                                                                                                                                                                                                                    \n",
       "11583  Dude I’m sorry you were dealt this shitty hand... Just want you to know that we all have your back and always willing to help in anyway... much love brother                                                                                                                                                                                                                                                                                                                                                                                                                                                                                                                                                                                                                                                                                                                                                                                                                                                                                                                                                                                                                                                                                                                                     \n",
       "7790   That's so kind my grandmother has dementia, you now that mean one, she often runs away from home and before she lost her drivers license she sometimes drove in a circel around the place she  lived. Also she has the PERSON so yeah her flat looks like a nuclearbomb detonated there. So I always asked myself what's the cause of her dementia, thank you for making a video related to that topic.\\nSorry if I have typos or grammatical errors in my comment I'm from Germany.                                                                                                                                                                                                                                                                                                                                                                                                                                                                                                                                                                                                                                                                                                                                                                                                             \n",
       "4185   When my mom talks to her doctor she downplays her symptoms and does not tell the doctor the truth.  I think she believes what she is saying is correct but it is not.  The doctor spends more time looking at the computer screen than looking at her, so the doctor fails to pick up on any subtle clues.  My stepdad is more vocal and tries to provide additional information but my mom says he wants to control her.  I have seen my mom scream and yell at him and accuse him of stealing money from her checking account, which is not true.  I stayed with her for one month in her guest room and it was awful.  She accused me of ruining her life and I thought she was going to hurt my cat.  I feel like she has multiple personalities at times.  You never know who you will meet.  I know it is the disease talking but the mean mom has a viciousness which is hard to deal with.  Her doctor is still clueless about this.                                                                                                                                                                                                                                                                                                                                                     \n",
       "8706   Please allow me to ask a basic question:   Can  you  tell  me  how  in  the  world  does  this  take  place  at  a  convalescent  home?   They  do  not  have  the  time  to  do  what  you're  asking.  So  that  leaves  me  to  believe  that  there  are   a  lot  of  elderly  patients  either  being  left  unbathed  or  the  workers  are  just  hosing  them  down  as  they  sit  naked  in  a  chair.\\n\\nThis  is  video  is  not  realistic.   When  my  mother  was  alive,  she  had  dementia  and  you  couldn't  even  mention  that  you  were  going  to  put  water  on  her  head,  let  alone  her  whole  body.   I  have  one  sister  that  she  would  allow  to  do  it  for  her,  but  even  then  it  was  very  difficult.                                                                                                                                                                                                                                                                                                                                                                                                                                                                                                                                       \n",
       "1128   This was an eye opener. My husband has this for sure. I can tell what he means to say but it comes out mixed up. Mostly he chooses different words from what he should say. And he often has a hard time comprehending what we are saying. We get thru it though 🙏                                                                                                                                                                                                                                                                                                                                                                                                                                                                                                                                                                                                                                                                                                                                                                                                                                                                                                                                                                                                                               \n",
       "7630   My father was diagnosed Aug 2009. he is now entering the latter stages of this horrible disease. It has been a nightmare watching helplessly as my father has slowly disappeared. He still knows who I am though....                                                                                                                                                                                                                                                                                                                                                                                                                                                                                                                                                                                                                                                                                                                                                                                                                                                                                                                                                                                                                                                                             \n",
       "3541   I didn't care what others thought about my decision.  I cared that my husband wanted me 24/7 and when I couldn't physically do that  and he did go to memory care, that he was scared and more confused without me.  He had a stroke on top of being in the end stages of dementia, but the stroke rapidly sped up the disease.  I was able to care for him for about 6 weeks after the stroke, but he wandered, was physically strong, fell a lot, and was aggressive with the caregivers I hired to help me at home.  Nothing worked. He is deceased. I still have guilt.                                                                                                                                                                                                                                                                                                                                                                                                                                                                                                                                                                                                                                                                                                                      \n",
       "8499   This makes me want to cry, it reminds me of my grandpa. He had alzheimer and he forgot everything, even how to move and how to breath, they put machines inside him so he could live. He couldn't even cry, I remember exactly what my dad told me \"I was sitting next to him and he wanted to cry but didn't know how, he didn't look like he was about to cry but 1 drop still fell off his eyes\"                                                                                                                                                                                                                                                                                                                                                                                                                                                                                                                                                                                                                                                                                                                                                                                                                                                                                              \n",
       "4359   Tip one—\u0000 just answer the question\\nI find it helps to remember that you HAVE TO find something to talk about. Usually it will be relatively unimportant.   Answering the same question again simply relieves you of trying to find some other subject to discuss.  So,  i. This way, it is sort of a blessing\\n\\nTip four—\u0000put it o. A calendar or sign.\\nI write a note that Mom keeps PERSON of her to references and ruminate on over and over again as she tries to absorb the content\\nThis also helps with potentially argumentative issues.   My mom sometimes could not agree that this is her house, or that we are alone\\nSo, when she was more with it... I wrote a note with this information and had her sign it\\nThen,  when I show her the note it is not me arguing with her\\n\\nWhen my mom was a teacher, she had an ah ha moment to realize that children have different modes of learning\\nAnd that some children might absorb information better by hearing, others by writing, others by practical experiences \\nIt is the same information, but different pathways in the brain\\nAnd my mom definitely responds differently to hearing vs reading                                                                                                                         \n",
       "4520   My grandmother has dementia and has always disliked me for being a male since i was little due to trauma when she was young. Maybe she'll forget that she hates me at some point lol...\\n\\nI know it's fucked but this has been my reality since as long as I can remember so bear with me :/                                                                                                                                                                                                                                                                                                                                                                                                                                                                                                                                                                                                                                                                                                                                                                                                                                                                                                                                                                                                    \n",
       "11749  Good on ya PERSON mate, you are so patient with your PERSON, Odin bless you both! xoxo                                                                                                                                                                                                                                                                                                                                                                                                                                                                                                                                                                                                                                                                                                                                                                                                                                                                                                                                                                                                                                                                                                                                                                                                           "
      ]
     },
     "execution_count": 178,
     "metadata": {},
     "output_type": "execute_result"
    }
   ],
   "source": [
    "pd.set_option('display.max_colwidth', 0)\n",
    "text_df.sample(50)"
   ]
  },
  {
   "attachments": {},
   "cell_type": "markdown",
   "id": "6a50bf2c",
   "metadata": {},
   "source": [
    "### Compute Chain Level Features\n",
    "- Count of first-person subjective \"I\", filter out \"my\"\n",
    "- Root is PNOUN or NOUN\n",
    "- Create list of most common possessive, lemmatized heads\n",
    "\n",
    "### Compute Comment Level Features\n",
    "- Balance \"I\" against chains that reflect narration.\n",
    "- Ratio of \"I\" against narration chain. Histogram"
   ]
  }
 ],
 "metadata": {
  "kernelspec": {
   "display_name": "spacy_experimental",
   "language": "python",
   "name": "python3"
  },
  "language_info": {
   "codemirror_mode": {
    "name": "ipython",
    "version": 3
   },
   "file_extension": ".py",
   "mimetype": "text/x-python",
   "name": "python",
   "nbconvert_exporter": "python",
   "pygments_lexer": "ipython3",
   "version": "3.10.9"
  },
  "vscode": {
   "interpreter": {
    "hash": "92b7bdbe9c8b4b2b7b656b32167ffa41b338465919cff767a784d15e226e5886"
   }
  }
 },
 "nbformat": 4,
 "nbformat_minor": 5
}
