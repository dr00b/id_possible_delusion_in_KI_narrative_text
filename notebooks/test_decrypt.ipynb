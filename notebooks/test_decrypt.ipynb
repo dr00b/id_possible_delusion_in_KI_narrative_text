{
 "cells": [
  {
   "cell_type": "code",
   "execution_count": 1,
   "id": "ea95d4fe",
   "metadata": {},
   "outputs": [
    {
     "data": {
      "text/plain": [
       "True"
      ]
     },
     "execution_count": 1,
     "metadata": {},
     "output_type": "execute_result"
    }
   ],
   "source": [
    "from dotenv import load_dotenv\n",
    "import os\n",
    "load_dotenv()"
   ]
  },
  {
   "cell_type": "code",
   "execution_count": 15,
   "id": "78b19c99",
   "metadata": {},
   "outputs": [],
   "source": [
    "encrypted_channel_id = \"gAAAAABkBynxLdWuOGCm0DkhTacPgBDPT71YAjqRmXcCvkYSONostizAHkIRhElKRMD9eHpDupyZtZHBTfZxBzopbaC0iTUYIjWVDFOgmyz8QlSUpWvuJlg=\""
   ]
  },
  {
   "cell_type": "code",
   "execution_count": 12,
   "id": "62215db1",
   "metadata": {},
   "outputs": [],
   "source": [
    "from cryptography.fernet import Fernet\n",
    "from cryptography.hazmat.primitives import hashes\n",
    "from cryptography.hazmat.primitives.kdf.pbkdf2 import PBKDF2HMAC\n",
    "import base64"
   ]
  },
  {
   "cell_type": "code",
   "execution_count": 10,
   "id": "4f76c088",
   "metadata": {},
   "outputs": [],
   "source": [
    "encryption_key = os.getenv('ENCRYPTION_KEY')\n",
    "salt = os.getenv('SALT')"
   ]
  },
  {
   "cell_type": "code",
   "execution_count": 13,
   "id": "6e582750",
   "metadata": {},
   "outputs": [],
   "source": [
    "kdf = PBKDF2HMAC(\n",
    "            algorithm=hashes.SHA256(),\n",
    "            length=32,\n",
    "            salt=bytes(salt, 'utf-8'),\n",
    "            iterations=480000,\n",
    "        )\n",
    "key = base64.urlsafe_b64encode(kdf.derive(bytes(key, 'utf-8')))\n",
    "fernet = Fernet(key)"
   ]
  },
  {
   "attachments": {},
   "cell_type": "markdown",
   "id": "9887d22b",
   "metadata": {},
   "source": [
    "# It works!\n",
    "```fernet.decrypt(encrypted_channel_id.encode(\"utf-8\"))```\n",
    "\n",
    "You'll have to trust me, I'm not sharing the actual channel id :)\n",
    "\n",
    "In retrospect, fernet encryption was not the right approach... It's possible to decrypt, but due to inclusion of timestamp in final token, it's not useful as an anonymized dataset. The same video id, will have two different values as the paged api calls occurred at different timestamps.\n",
    "\n",
    "I should have chosen a simpler algorithm."
   ]
  }
 ],
 "metadata": {
  "kernelspec": {
   "display_name": "Python 3 (ipykernel)",
   "language": "python",
   "name": "python3"
  },
  "language_info": {
   "codemirror_mode": {
    "name": "ipython",
    "version": 3
   },
   "file_extension": ".py",
   "mimetype": "text/x-python",
   "name": "python",
   "nbconvert_exporter": "python",
   "pygments_lexer": "ipython3",
   "version": "3.10.9"
  }
 },
 "nbformat": 4,
 "nbformat_minor": 5
}
