{
 "cells": [
  {
   "cell_type": "code",
   "execution_count": 1,
   "id": "ea95d4fe",
   "metadata": {},
   "outputs": [
    {
     "data": {
      "text/plain": [
       "True"
      ]
     },
     "execution_count": 1,
     "metadata": {},
     "output_type": "execute_result"
    }
   ],
   "source": [
    "import spacy\n",
    "import pandas as pd\n",
    "import sqlite3\n",
    "import os\n",
    "from dotenv import load_dotenv\n",
    "load_dotenv()"
   ]
  },
  {
   "cell_type": "code",
   "execution_count": 2,
   "id": "6c5a66a0",
   "metadata": {},
   "outputs": [],
   "source": [
    "comments = pd.read_sql(\"SELECT ROWID, * FROM comments\", sqlite3.connect(os.path.join(\"..\", \"data\", os.environ[\"SQLITE_DB_NAME\"])))"
   ]
  },
  {
   "cell_type": "code",
   "execution_count": 3,
   "id": "cc26f36d",
   "metadata": {},
   "outputs": [
    {
     "data": {
      "text/plain": [
       "Index(['rowid', 'video_id', 'channel_id', 'comment_id', 'comment_text',\n",
       "       'comment_likes', 'comment_author_channel_id', 'comment_published_at',\n",
       "       'comment_updated_at', 'is_reply', 'reply_by_channel_owner', 'load_ts',\n",
       "       'to_classify', 'has_delu_keyword', 'is_delu_related_vid', 'is_deleted'],\n",
       "      dtype='object')"
      ]
     },
     "execution_count": 3,
     "metadata": {},
     "output_type": "execute_result"
    }
   ],
   "source": [
    "comments.columns"
   ]
  },
  {
   "cell_type": "code",
   "execution_count": 4,
   "id": "8a4204ac",
   "metadata": {},
   "outputs": [
    {
     "data": {
      "text/plain": [
       "rowid                                                                        1\n",
       "video_id                     gAAAAABkByl-aebF0Sarpou4f8QPIc1-PbwYvjP3PEl15S...\n",
       "channel_id                   gAAAAABkByl-JoirkNehFaTxDS4i-XOFijfaApekyi0WMg...\n",
       "comment_id                   gAAAAABkByl-G5AhiKGPllsEKxYMOQTrtpZ-q70szrQvdL...\n",
       "comment_text                 My 64 year old husband was diagnosed 3 weeks a...\n",
       "comment_likes                                                                0\n",
       "comment_author_channel_id    gAAAAABkByl-8ISief6K0WxnhhT-LNvl-uHqmycVIi2th0...\n",
       "comment_published_at                                      2023-03-07T08:37:04Z\n",
       "comment_updated_at                                        2023-03-07T08:37:04Z\n",
       "is_reply                                                                     0\n",
       "reply_by_channel_owner                                                       0\n",
       "load_ts                                                    2023-03-07 12:09:34\n",
       "to_classify                                                                NaN\n",
       "has_delu_keyword                                                             0\n",
       "is_delu_related_vid                                                        NaN\n",
       "is_deleted                                                                   0\n",
       "Name: 0, dtype: object"
      ]
     },
     "execution_count": 4,
     "metadata": {},
     "output_type": "execute_result"
    }
   ],
   "source": [
    "comments.iloc[0]"
   ]
  },
  {
   "cell_type": "code",
   "execution_count": 15,
   "id": "78b19c99",
   "metadata": {},
   "outputs": [],
   "source": [
    "encrypted_channel_id = \"gAAAAABkBynxLdWuOGCm0DkhTacPgBDPT71YAjqRmXcCvkYSONostizAHkIRhElKRMD9eHpDupyZtZHBTfZxBzopbaC0iTUYIjWVDFOgmyz8QlSUpWvuJlg=\""
   ]
  },
  {
   "cell_type": "code",
   "execution_count": 12,
   "id": "62215db1",
   "metadata": {},
   "outputs": [],
   "source": [
    "from cryptography.fernet import Fernet\n",
    "from cryptography.hazmat.primitives import hashes\n",
    "from cryptography.hazmat.primitives.kdf.pbkdf2 import PBKDF2HMAC\n",
    "import base64"
   ]
  },
  {
   "cell_type": "code",
   "execution_count": 10,
   "id": "4f76c088",
   "metadata": {},
   "outputs": [],
   "source": [
    "encryption_key = os.getenv('ENCRYPTION_KEY')\n",
    "salt = os.getenv('SALT')"
   ]
  },
  {
   "cell_type": "code",
   "execution_count": 13,
   "id": "6e582750",
   "metadata": {},
   "outputs": [],
   "source": [
    "kdf = PBKDF2HMAC(\n",
    "            algorithm=hashes.SHA256(),\n",
    "            length=32,\n",
    "            salt=bytes(salt, 'utf-8'),\n",
    "            iterations=480000,\n",
    "        )\n",
    "key = base64.urlsafe_b64encode(kdf.derive(bytes(key, 'utf-8')))\n",
    "fernet = Fernet(key)"
   ]
  },
  {
   "cell_type": "code",
   "execution_count": 16,
   "id": "f3dde7ab",
   "metadata": {},
   "outputs": [
    {
     "data": {
      "text/plain": [
       "'gAAAAABkLZi1h-1YeICvFFTyEIS9ORmvw4U8wo1yLNh4KxjSMj4oEb6rodnld6VyX_rB-IlPi1bWvmPCG4_ChzllHZ9ottiWfMFMeP3cVIIWGJrTCqbrfMU='"
      ]
     },
     "execution_count": 16,
     "metadata": {},
     "output_type": "execute_result"
    }
   ],
   "source": [
    "fernet.encrypt(bytes(\"UCVgK5-w1dilMx7bPVB5yNug\", 'utf-8')).decode('utf-8')"
   ]
  },
  {
   "cell_type": "code",
   "execution_count": 18,
   "id": "9887d22b",
   "metadata": {},
   "outputs": [
    {
     "data": {
      "text/plain": [
       "b'UCVgK5-w1dilMx7bPVB5yNug'"
      ]
     },
     "execution_count": 18,
     "metadata": {},
     "output_type": "execute_result"
    }
   ],
   "source": [
    "fernet.decrypt(encrypted_channel_id.encode(\"utf-8\"))"
   ]
  }
 ],
 "metadata": {
  "kernelspec": {
   "display_name": "Python 3 (ipykernel)",
   "language": "python",
   "name": "python3"
  },
  "language_info": {
   "codemirror_mode": {
    "name": "ipython",
    "version": 3
   },
   "file_extension": ".py",
   "mimetype": "text/x-python",
   "name": "python",
   "nbconvert_exporter": "python",
   "pygments_lexer": "ipython3",
   "version": "3.10.9"
  }
 },
 "nbformat": 4,
 "nbformat_minor": 5
}
