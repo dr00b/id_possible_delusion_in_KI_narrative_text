{
 "cells": [
  {
   "cell_type": "code",
   "execution_count": 51,
   "id": "8cfa8e1b",
   "metadata": {},
   "outputs": [
    {
     "data": {
      "text/plain": [
       "True"
      ]
     },
     "execution_count": 51,
     "metadata": {},
     "output_type": "execute_result"
    }
   ],
   "source": [
    "import pandas as pd\n",
    "import sqlite3\n",
    "import os\n",
    "from dotenv import load_dotenv\n",
    "import matplotlib.pyplot as plt\n",
    "import seaborn as sns\n",
    "import difflib\n",
    "load_dotenv()"
   ]
  },
  {
   "attachments": {},
   "cell_type": "markdown",
   "id": "9069b60c",
   "metadata": {},
   "source": [
    "### Evaluate \"Possible Delusion\" Classification Accuracy\n",
    "1. What is the level of agreement between annotators and the model?\n",
    "2. What is the level of agreement amongst annotators?"
   ]
  },
  {
   "cell_type": "code",
   "execution_count": 207,
   "id": "ac6f5232",
   "metadata": {},
   "outputs": [
    {
     "name": "stdout",
     "output_type": "stream",
     "text": [
      "324 comments available for comparison\n"
     ]
    }
   ],
   "source": [
    "qry = \"\"\"\n",
    "SELECT \n",
    "    co.ROWID, \n",
    "    co.comment_text, \n",
    "    cl.is_possible_delusion AS model_prediction,\n",
    "    an.possible_delusion AS annotated_class,\n",
    "    cl.excerpt AS model_excerpt,\n",
    "    an.excerpt AS annotated_excerpt,\n",
    "    cl.prompt_tokens\n",
    "FROM classifications cl\n",
    "INNER JOIN comments co ON cl.input_text_id = co.ROWID\n",
    "AND cl.prompt_version = 5\n",
    "INNER JOIN annotated an ON co.ROWID = an.comment_rowid\n",
    "WHERE an.batch = 2 -- the test set\n",
    "\"\"\"\n",
    "confused_df = pd.read_sql(qry, con=sqlite3.connect(os.path.join('..', 'data', os.getenv('SQLITE_DB_NAME'))))\n",
    "print(confused_df.shape[0], 'comments available for comparison')"
   ]
  },
  {
   "cell_type": "code",
   "execution_count": 187,
   "id": "f35c5ab3",
   "metadata": {},
   "outputs": [
    {
     "data": {
      "text/html": [
       "<div>\n",
       "<style scoped>\n",
       "    .dataframe tbody tr th:only-of-type {\n",
       "        vertical-align: middle;\n",
       "    }\n",
       "\n",
       "    .dataframe tbody tr th {\n",
       "        vertical-align: top;\n",
       "    }\n",
       "\n",
       "    .dataframe thead th {\n",
       "        text-align: right;\n",
       "    }\n",
       "</style>\n",
       "<table border=\"1\" class=\"dataframe\">\n",
       "  <thead>\n",
       "    <tr style=\"text-align: right;\">\n",
       "      <th></th>\n",
       "      <th>rowid</th>\n",
       "      <th>comment_text</th>\n",
       "      <th>model_prediction</th>\n",
       "      <th>annotated_class</th>\n",
       "      <th>model_excerpt</th>\n",
       "      <th>annotated_excerpt</th>\n",
       "      <th>prompt_tokens</th>\n",
       "    </tr>\n",
       "  </thead>\n",
       "  <tbody>\n",
       "    <tr>\n",
       "      <th>301</th>\n",
       "      <td>170617</td>\n",
       "      <td>I took care of my mom's during her time with dementia. She would could say some of the most funniest thing. It's a hard job for any care giver. They family would sit around her and list to her tell these made up stories and we would laugh. In the beginning I hate what she was going through, but I learned a lot. She die September 28 2015. I still love you and miss you mom's.</td>\n",
       "      <td>0.0</td>\n",
       "      <td>0</td>\n",
       "      <td>N/A</td>\n",
       "      <td>None</td>\n",
       "      <td>772</td>\n",
       "    </tr>\n",
       "    <tr>\n",
       "      <th>73</th>\n",
       "      <td>18626</td>\n",
       "      <td>Nothing is working for my dad. He won't sit still in the evenings. Me and my mum have tried to implement these strategies but they are not working. He doesn't believe who we say we are, does not want to live in his home and he does not sleep. Its been 3 weeks since we started these protocols and has slept around 8 hours in total. My mum is 83 and utterly exhausted. We resorted to PERSON the last two nights out of desperation and he still didn't sleep a wink.\\n\\nThis is a cruel disease on both sides of the spectrum.</td>\n",
       "      <td>1.0</td>\n",
       "      <td>1</td>\n",
       "      <td>\"He doesn't believe who we say we are, does not want to live in his home and he does not sleep.\"</td>\n",
       "      <td>He doesn't believe who we say we are, does not want to live in his home and he does not sleep.</td>\n",
       "      <td>799</td>\n",
       "    </tr>\n",
       "    <tr>\n",
       "      <th>95</th>\n",
       "      <td>22303</td>\n",
       "      <td>Thank you! I needed to hear this. I’m struggling with the fact it my mom lives with me and I lost all my helpers. Mom 85 watches me and wants me in her sight at all times during the day. If I leave the room she calls me. She thinks all my pictures on my walls and the tv are people staring at her through the windows. She has sundowners. I had just got a system in place where my siblings and adult children were helping daily while I went to work and to give me a break now because of PERSON 19 they’re not able to come for almost 3 months now! Also I return to work in August and my siblings suggest I hire a caregiver to help me from an outside source and that terrifies me. Any suggestions would be helpful. I’ve contact her Dr.</td>\n",
       "      <td>0.0</td>\n",
       "      <td>1</td>\n",
       "      <td>\"She thinks all my pictures on my walls and the tv are people staring at her through the windows.\"</td>\n",
       "      <td>She thinks all my pictures on my walls and the tv are people staring at her through the windows.</td>\n",
       "      <td>854</td>\n",
       "    </tr>\n",
       "    <tr>\n",
       "      <th>162</th>\n",
       "      <td>44537</td>\n",
       "      <td>holy fuck you're telling me ppl with alzheimers are midway through a conversation with someone in their head before they even get within 5 feet of them? if I start seeing low-poly vision im just gonna end it bruh</td>\n",
       "      <td>0.0</td>\n",
       "      <td>0</td>\n",
       "      <td>N/A</td>\n",
       "      <td>None</td>\n",
       "      <td>731</td>\n",
       "    </tr>\n",
       "    <tr>\n",
       "      <th>135</th>\n",
       "      <td>32538</td>\n",
       "      <td>O!! How I wish some one had told me about you when my husband was going through this. It was a time of anger and misunderstandings between us. I had asked our Dr. do you think he has Alzheimer’s, he laughed at me &amp; said he is smarter then both of us! I didn’t ask how smart he was, I ask do you think he has Alzheimer’s!!! Several Dr.s later a smart Dr. without ever knowing or seeing me said I can’t deal with your husband, I begged him to keep seeing him as every Dr. would fire him as a pt. He diagnosed him!!! He would stay an hour &amp; more with us most visits, after even the nurses had left the office. He would let us out to our car through the side door.</td>\n",
       "      <td>0.0</td>\n",
       "      <td>0</td>\n",
       "      <td>\"I had asked our Dr. do you think he has Alzheimer’s, he laughed at me &amp; said he is smarter then both of us!\"</td>\n",
       "      <td>None</td>\n",
       "      <td>850</td>\n",
       "    </tr>\n",
       "    <tr>\n",
       "      <th>29</th>\n",
       "      <td>9330</td>\n",
       "      <td>I really needed to hear this and know I’m not alone. The guilt, the shame, the sorrow are at times unbearable even though I know my LO’s  passing would be a relief for him. His daily crying and anxiety tear at both our hearts. \\nI’m thinking about getting a PERSON on my arm that says “Thanks, Grace, Forgive”  ……… \\n“Thanks” to remember &amp; be thankful for the great loving times my husband &amp; I had together.\\n“Grace” to remind myself how I would wish to be handled it if it were me. \\n “Forgive” to remind myself to forgive when  I am less than perfect in my ‘loving’ care, and his bad dementia behavior (that really has nothing to do with me or our love) is at its worst.\\nAnother choice would be “Stop, Breathe, Love”\\n\\nI thought about just putting post notes up, instead of a permanent PERSON, but I think I need a permanent reminder even after he’s gone, because I don’t think the grief of dementia and it’s scars go away upon the LO’s passing. I heard a comment once “Dementia Care a club no one ever wanted to join and death is the only way out”. But that’s not entirely true, there is no escape from the impact dementia has on everyone involved. 🥺</td>\n",
       "      <td>0.0</td>\n",
       "      <td>0</td>\n",
       "      <td>N/A</td>\n",
       "      <td>None</td>\n",
       "      <td>996</td>\n",
       "    </tr>\n",
       "    <tr>\n",
       "      <th>291</th>\n",
       "      <td>159383</td>\n",
       "      <td>Girl this lady is talented!!I wish I was there to give her a rose and tell her that she is talented and I hope she gets her memory back!!</td>\n",
       "      <td>0.0</td>\n",
       "      <td>0</td>\n",
       "      <td>N/A</td>\n",
       "      <td>None</td>\n",
       "      <td>715</td>\n",
       "    </tr>\n",
       "    <tr>\n",
       "      <th>43</th>\n",
       "      <td>12374</td>\n",
       "      <td>This is feedback for Tip 4. \"Do this after PERSON \" (PERSON, if this isn't the right place to post this please let me know so I can fix it🙄\")\\nI'm a caregiver/retired RN having worked many years in Long Term Care memory care units both as a CNA + then RN. I decided to hang up my RN coat to provide \"In Home Care\" to help folks in my community from having to move to a facility. Why is a whole other book.\\nChances are when your (PERSON=loved one) get the Diagnosis they are early on in the disease process.  The sooner you can embrace the fact that we're all going to die... no one lives forever, you'll have a different approach to \"caring\" for your \"PERSON.\"  The only difference now is your \"PERSON\" now has a Diagnosis associated with their death.\\nSo my advice is HAVE FUN ,seriously 😅\\nDo as much of whatever gives you joy...as much as possible.  Whatever that is. And you don't need a ton of money to do that. It can be as simple as doing more \"movie nights\" at home; going to eat at your favorite restaurants; babysitting your grandkids; have pajama days (one of my favorites 😁);\\nhave friends over for \"game nights\"; go camping; take that vacation you've been putting off for years!! Like I said, whatever it is just DO IT, no more procrastinating. \\nThere will come a day when your \"PERSON\" won't be able to do the things they love anymore, so consider the Diagnosis as a kick in the pants to get out and live life 💞\\n** a short story of mine is when I was called in to help the husband take care of his wife at home. She was in the advanced stage of her disease process. I quickly got to know the couple PERSON and what they enjoyed doing. And so happened mobility was the last thing Karon lost. Unfortunately the 2 of them had been homebound for YEARS, not knowing how/or if it was safe to do any activities.  So after doing a thorough assessment for safety...We loaded up their RV and hooked up the 4 wheeler to the toe hitch and went up Mt. Adams, WA to go glamping😍. When we got settled PERSON and I helped Karon on to the 4 wheeler. I was in front driving, Karon was behind me, and PERSON was behind Karon holding on to her. As we started on this logging trail thru gorgeous wooded terrain, the wind blowing back PERSON hair...a look of PEACE came over her face and I could feel all of her tightened muscles begin to relax. The transformation was sooo profound it brought tears to my eyes🥲,  a moment in time I'll never forget. Karon passed away peacefully at home a month later😌💕\\nThanks all for letting me share 🙏</td>\n",
       "      <td>0.0</td>\n",
       "      <td>0</td>\n",
       "      <td>N/A</td>\n",
       "      <td>None</td>\n",
       "      <td>1310</td>\n",
       "    </tr>\n",
       "    <tr>\n",
       "      <th>220</th>\n",
       "      <td>91646</td>\n",
       "      <td>Lost my Mom last month from dementia and my father 6 years ago also to dementia.....encourage all who are dealing with this same scenario - don't miss a moment to share with them ever but especially while they still know WHO YOU ARE!   Love you Mama &amp; Daddy and miss you so much!</td>\n",
       "      <td>0.0</td>\n",
       "      <td>0</td>\n",
       "      <td>N/A</td>\n",
       "      <td>None</td>\n",
       "      <td>743</td>\n",
       "    </tr>\n",
       "    <tr>\n",
       "      <th>157</th>\n",
       "      <td>41740</td>\n",
       "      <td>My Mom would do that with the floor after her hip replacement in the wheel chair . I thought she was trying to find her PERSON's which were at home with me . The vision thing explains a lot , I was trying to show her a bunny rabbit outside and I realized she could not see it .It was a giant French PERSON bunny rabbit that was all black . I knew something was going on with her eyes but I didn't know what ? This is all great information to know !</td>\n",
       "      <td>0.0</td>\n",
       "      <td>0</td>\n",
       "      <td>N/A</td>\n",
       "      <td>None</td>\n",
       "      <td>780</td>\n",
       "    </tr>\n",
       "  </tbody>\n",
       "</table>\n",
       "</div>"
      ],
      "text/plain": [
       "      rowid  \\\n",
       "301  170617   \n",
       "73   18626    \n",
       "95   22303    \n",
       "162  44537    \n",
       "135  32538    \n",
       "29   9330     \n",
       "291  159383   \n",
       "43   12374    \n",
       "220  91646    \n",
       "157  41740    \n",
       "\n",
       "                                                                                                                                                                                                                                                                                                                                                                                                                                                                                                                                                                                                                                                                                                                                                                                                                                                                                                                                                                                                                                                                                                                                                                                                                                                                                                                                                                                                                                                                                                                                                                                                                                                                                                                                                                                                                                                                                                                                                                                                                                                                                                                                                                                                                                                                                                                                                                                                                                                                                                                                                                                                                             comment_text  \\\n",
       "301  I took care of my mom's during her time with dementia. She would could say some of the most funniest thing. It's a hard job for any care giver. They family would sit around her and list to her tell these made up stories and we would laugh. In the beginning I hate what she was going through, but I learned a lot. She die September 28 2015. I still love you and miss you mom's.                                                                                                                                                                                                                                                                                                                                                                                                                                                                                                                                                                                                                                                                                                                                                                                                                                                                                                                                                                                                                                                                                                                                                                                                                                                                                                                                                                                                                                                                                                                                                                                                                                                                                                                                                                                                                                                                                                                                                                                                                                                                                                                                                                                                                                               \n",
       "73   Nothing is working for my dad. He won't sit still in the evenings. Me and my mum have tried to implement these strategies but they are not working. He doesn't believe who we say we are, does not want to live in his home and he does not sleep. Its been 3 weeks since we started these protocols and has slept around 8 hours in total. My mum is 83 and utterly exhausted. We resorted to PERSON the last two nights out of desperation and he still didn't sleep a wink.\\n\\nThis is a cruel disease on both sides of the spectrum.                                                                                                                                                                                                                                                                                                                                                                                                                                                                                                                                                                                                                                                                                                                                                                                                                                                                                                                                                                                                                                                                                                                                                                                                                                                                                                                                                                                                                                                                                                                                                                                                                                                                                                                                                                                                                                                                                                                                                                                                                                                                                               \n",
       "95   Thank you! I needed to hear this. I’m struggling with the fact it my mom lives with me and I lost all my helpers. Mom 85 watches me and wants me in her sight at all times during the day. If I leave the room she calls me. She thinks all my pictures on my walls and the tv are people staring at her through the windows. She has sundowners. I had just got a system in place where my siblings and adult children were helping daily while I went to work and to give me a break now because of PERSON 19 they’re not able to come for almost 3 months now! Also I return to work in August and my siblings suggest I hire a caregiver to help me from an outside source and that terrifies me. Any suggestions would be helpful. I’ve contact her Dr.                                                                                                                                                                                                                                                                                                                                                                                                                                                                                                                                                                                                                                                                                                                                                                                                                                                                                                                                                                                                                                                                                                                                                                                                                                                                                                                                                                                                                                                                                                                                                                                                                                                                                                                                                                                                                                                                           \n",
       "162  holy fuck you're telling me ppl with alzheimers are midway through a conversation with someone in their head before they even get within 5 feet of them? if I start seeing low-poly vision im just gonna end it bruh                                                                                                                                                                                                                                                                                                                                                                                                                                                                                                                                                                                                                                                                                                                                                                                                                                                                                                                                                                                                                                                                                                                                                                                                                                                                                                                                                                                                                                                                                                                                                                                                                                                                                                                                                                                                                                                                                                                                                                                                                                                                                                                                                                                                                                                                                                                                                                                                                   \n",
       "135  O!! How I wish some one had told me about you when my husband was going through this. It was a time of anger and misunderstandings between us. I had asked our Dr. do you think he has Alzheimer’s, he laughed at me & said he is smarter then both of us! I didn’t ask how smart he was, I ask do you think he has Alzheimer’s!!! Several Dr.s later a smart Dr. without ever knowing or seeing me said I can’t deal with your husband, I begged him to keep seeing him as every Dr. would fire him as a pt. He diagnosed him!!! He would stay an hour & more with us most visits, after even the nurses had left the office. He would let us out to our car through the side door.                                                                                                                                                                                                                                                                                                                                                                                                                                                                                                                                                                                                                                                                                                                                                                                                                                                                                                                                                                                                                                                                                                                                                                                                                                                                                                                                                                                                                                                                                                                                                                                                                                                                                                                                                                                                                                                                                                                                                   \n",
       "29   I really needed to hear this and know I’m not alone. The guilt, the shame, the sorrow are at times unbearable even though I know my LO’s  passing would be a relief for him. His daily crying and anxiety tear at both our hearts. \\nI’m thinking about getting a PERSON on my arm that says “Thanks, Grace, Forgive”  ……… \\n“Thanks” to remember & be thankful for the great loving times my husband & I had together.\\n“Grace” to remind myself how I would wish to be handled it if it were me. \\n “Forgive” to remind myself to forgive when  I am less than perfect in my ‘loving’ care, and his bad dementia behavior (that really has nothing to do with me or our love) is at its worst.\\nAnother choice would be “Stop, Breathe, Love”\\n\\nI thought about just putting post notes up, instead of a permanent PERSON, but I think I need a permanent reminder even after he’s gone, because I don’t think the grief of dementia and it’s scars go away upon the LO’s passing. I heard a comment once “Dementia Care a club no one ever wanted to join and death is the only way out”. But that’s not entirely true, there is no escape from the impact dementia has on everyone involved. 🥺                                                                                                                                                                                                                                                                                                                                                                                                                                                                                                                                                                                                                                                                                                                                                                                                                                                                                                                                                                                                                                                                                                                                                                                                                                                                                                                                                                                                                                    \n",
       "291  Girl this lady is talented!!I wish I was there to give her a rose and tell her that she is talented and I hope she gets her memory back!!                                                                                                                                                                                                                                                                                                                                                                                                                                                                                                                                                                                                                                                                                                                                                                                                                                                                                                                                                                                                                                                                                                                                                                                                                                                                                                                                                                                                                                                                                                                                                                                                                                                                                                                                                                                                                                                                                                                                                                                                                                                                                                                                                                                                                                                                                                                                                                                                                                                                                              \n",
       "43   This is feedback for Tip 4. \"Do this after PERSON \" (PERSON, if this isn't the right place to post this please let me know so I can fix it🙄\")\\nI'm a caregiver/retired RN having worked many years in Long Term Care memory care units both as a CNA + then RN. I decided to hang up my RN coat to provide \"In Home Care\" to help folks in my community from having to move to a facility. Why is a whole other book.\\nChances are when your (PERSON=loved one) get the Diagnosis they are early on in the disease process.  The sooner you can embrace the fact that we're all going to die... no one lives forever, you'll have a different approach to \"caring\" for your \"PERSON.\"  The only difference now is your \"PERSON\" now has a Diagnosis associated with their death.\\nSo my advice is HAVE FUN ,seriously 😅\\nDo as much of whatever gives you joy...as much as possible.  Whatever that is. And you don't need a ton of money to do that. It can be as simple as doing more \"movie nights\" at home; going to eat at your favorite restaurants; babysitting your grandkids; have pajama days (one of my favorites 😁);\\nhave friends over for \"game nights\"; go camping; take that vacation you've been putting off for years!! Like I said, whatever it is just DO IT, no more procrastinating. \\nThere will come a day when your \"PERSON\" won't be able to do the things they love anymore, so consider the Diagnosis as a kick in the pants to get out and live life 💞\\n** a short story of mine is when I was called in to help the husband take care of his wife at home. She was in the advanced stage of her disease process. I quickly got to know the couple PERSON and what they enjoyed doing. And so happened mobility was the last thing Karon lost. Unfortunately the 2 of them had been homebound for YEARS, not knowing how/or if it was safe to do any activities.  So after doing a thorough assessment for safety...We loaded up their RV and hooked up the 4 wheeler to the toe hitch and went up Mt. Adams, WA to go glamping😍. When we got settled PERSON and I helped Karon on to the 4 wheeler. I was in front driving, Karon was behind me, and PERSON was behind Karon holding on to her. As we started on this logging trail thru gorgeous wooded terrain, the wind blowing back PERSON hair...a look of PEACE came over her face and I could feel all of her tightened muscles begin to relax. The transformation was sooo profound it brought tears to my eyes🥲,  a moment in time I'll never forget. Karon passed away peacefully at home a month later😌💕\\nThanks all for letting me share 🙏   \n",
       "220  Lost my Mom last month from dementia and my father 6 years ago also to dementia.....encourage all who are dealing with this same scenario - don't miss a moment to share with them ever but especially while they still know WHO YOU ARE!   Love you Mama & Daddy and miss you so much!                                                                                                                                                                                                                                                                                                                                                                                                                                                                                                                                                                                                                                                                                                                                                                                                                                                                                                                                                                                                                                                                                                                                                                                                                                                                                                                                                                                                                                                                                                                                                                                                                                                                                                                                                                                                                                                                                                                                                                                                                                                                                                                                                                                                                                                                                                                                                \n",
       "157  My Mom would do that with the floor after her hip replacement in the wheel chair . I thought she was trying to find her PERSON's which were at home with me . The vision thing explains a lot , I was trying to show her a bunny rabbit outside and I realized she could not see it .It was a giant French PERSON bunny rabbit that was all black . I knew something was going on with her eyes but I didn't know what ? This is all great information to know !                                                                                                                                                                                                                                                                                                                                                                                                                                                                                                                                                                                                                                                                                                                                                                                                                                                                                                                                                                                                                                                                                                                                                                                                                                                                                                                                                                                                                                                                                                                                                                                                                                                                                                                                                                                                                                                                                                                                                                                                                                                                                                                                                                       \n",
       "\n",
       "     model_prediction  annotated_class  \\\n",
       "301  0.0               0                 \n",
       "73   1.0               1                 \n",
       "95   0.0               1                 \n",
       "162  0.0               0                 \n",
       "135  0.0               0                 \n",
       "29   0.0               0                 \n",
       "291  0.0               0                 \n",
       "43   0.0               0                 \n",
       "220  0.0               0                 \n",
       "157  0.0               0                 \n",
       "\n",
       "                                                                                                     model_excerpt  \\\n",
       "301  N/A                                                                                                             \n",
       "73   \"He doesn't believe who we say we are, does not want to live in his home and he does not sleep.\"                \n",
       "95   \"She thinks all my pictures on my walls and the tv are people staring at her through the windows.\"              \n",
       "162  N/A                                                                                                             \n",
       "135  \"I had asked our Dr. do you think he has Alzheimer’s, he laughed at me & said he is smarter then both of us!\"   \n",
       "29   N/A                                                                                                             \n",
       "291  N/A                                                                                                             \n",
       "43   N/A                                                                                                             \n",
       "220  N/A                                                                                                             \n",
       "157  N/A                                                                                                             \n",
       "\n",
       "                                                                                    annotated_excerpt  \\\n",
       "301  None                                                                                               \n",
       "73   He doesn't believe who we say we are, does not want to live in his home and he does not sleep.     \n",
       "95   She thinks all my pictures on my walls and the tv are people staring at her through the windows.   \n",
       "162  None                                                                                               \n",
       "135  None                                                                                               \n",
       "29   None                                                                                               \n",
       "291  None                                                                                               \n",
       "43   None                                                                                               \n",
       "220  None                                                                                               \n",
       "157  None                                                                                               \n",
       "\n",
       "     prompt_tokens  \n",
       "301  772            \n",
       "73   799            \n",
       "95   854            \n",
       "162  731            \n",
       "135  850            \n",
       "29   996            \n",
       "291  715            \n",
       "43   1310           \n",
       "220  743            \n",
       "157  780            "
      ]
     },
     "execution_count": 187,
     "metadata": {},
     "output_type": "execute_result"
    }
   ],
   "source": [
    "confused_df.sample(10)"
   ]
  },
  {
   "cell_type": "code",
   "execution_count": 208,
   "id": "b0114a49",
   "metadata": {},
   "outputs": [
    {
     "data": {
      "text/html": [
       "<div>\n",
       "<style scoped>\n",
       "    .dataframe tbody tr th:only-of-type {\n",
       "        vertical-align: middle;\n",
       "    }\n",
       "\n",
       "    .dataframe tbody tr th {\n",
       "        vertical-align: top;\n",
       "    }\n",
       "\n",
       "    .dataframe thead th {\n",
       "        text-align: right;\n",
       "    }\n",
       "</style>\n",
       "<table border=\"1\" class=\"dataframe\">\n",
       "  <thead>\n",
       "    <tr style=\"text-align: right;\">\n",
       "      <th></th>\n",
       "      <th>rowid</th>\n",
       "      <th>comment_text</th>\n",
       "      <th>model_prediction</th>\n",
       "      <th>annotated_class</th>\n",
       "      <th>model_excerpt</th>\n",
       "      <th>annotated_excerpt</th>\n",
       "      <th>prompt_tokens</th>\n",
       "    </tr>\n",
       "  </thead>\n",
       "  <tbody>\n",
       "    <tr>\n",
       "      <th>251</th>\n",
       "      <td>126734</td>\n",
       "      <td>My grandpa had dementia (very similar to this) but he got to the point where he couldn't talk. He would just sit there and stare into nothing. He passed away this January.. I never really got to know him💔 \\n\\nPERSON grandpa</td>\n",
       "      <td>NaN</td>\n",
       "      <td>0</td>\n",
       "      <td>None</td>\n",
       "      <td>None</td>\n",
       "      <td>739</td>\n",
       "    </tr>\n",
       "  </tbody>\n",
       "</table>\n",
       "</div>"
      ],
      "text/plain": [
       "      rowid  \\\n",
       "251  126734   \n",
       "\n",
       "                                                                                                                                                                                                                        comment_text  \\\n",
       "251  My grandpa had dementia (very similar to this) but he got to the point where he couldn't talk. He would just sit there and stare into nothing. He passed away this January.. I never really got to know him💔 \\n\\nPERSON grandpa   \n",
       "\n",
       "     model_prediction  annotated_class model_excerpt annotated_excerpt  \\\n",
       "251 NaN                0                None          None               \n",
       "\n",
       "     prompt_tokens  \n",
       "251  739            "
      ]
     },
     "execution_count": 208,
     "metadata": {},
     "output_type": "execute_result"
    }
   ],
   "source": [
    "# interesting... the model caused a parsing error in this comment. Appears to be the only issue in a set of 324 comments\n",
    "''''\n",
    "had dementia: true\n",
    "Excerpt: \"He passed away this January.. I never really got to know him💔\"\n",
    "'''\n",
    "confused_df.loc[confused_df.model_prediction.isna() | confused_df.annotated_class.isna(), :]"
   ]
  },
  {
   "cell_type": "code",
   "execution_count": 209,
   "id": "a373ada2",
   "metadata": {},
   "outputs": [
    {
     "name": "stdout",
     "output_type": "stream",
     "text": [
      "Dropped 1 model prediction with a missing classification\n"
     ]
    }
   ],
   "source": [
    "orig_size = confused_df.shape[0]\n",
    "confused_df.dropna(inplace=True, subset=['model_prediction', 'annotated_class'])\n",
    "print('Dropped', orig_size - confused_df.shape[0], 'model prediction with a missing classification')"
   ]
  },
  {
   "cell_type": "code",
   "execution_count": 212,
   "id": "c0201a5d",
   "metadata": {},
   "outputs": [
    {
     "name": "stdout",
     "output_type": "stream",
     "text": [
      "Underlying prevalence per annotators: 17.34%\n"
     ]
    }
   ],
   "source": [
    "print('Underlying prevalence per annotators: {:.2%}'.format(confused_df.annotated_class.mean()))"
   ]
  },
  {
   "cell_type": "code",
   "execution_count": 215,
   "metadata": {},
   "outputs": [
    {
     "name": "stdout",
     "output_type": "stream",
     "text": [
      "              precision    recall  f1-score   support\n",
      "\n",
      "           0       0.94      0.90      0.92       267\n",
      "           1       0.59      0.73      0.66        56\n",
      "\n",
      "    accuracy                           0.87       323\n",
      "   macro avg       0.77      0.81      0.79       323\n",
      "weighted avg       0.88      0.87      0.87       323\n",
      "\n"
     ]
    }
   ],
   "source": [
    "from sklearn.metrics import classification_report, confusion_matrix, ConfusionMatrixDisplay\n",
    "print(classification_report(confused_df.annotated_class, confused_df.model_prediction))"
   ]
  },
  {
   "cell_type": "code",
   "execution_count": 218,
   "id": "bb5f89bf",
   "metadata": {},
   "outputs": [
    {
     "name": "stdout",
     "output_type": "stream",
     "text": [
      "[[239  28]\n",
      " [ 15  41]]\n",
      "[[0.89513109 0.10486891]\n",
      " [0.26785714 0.73214286]]\n"
     ]
    }
   ],
   "source": [
    "print(confusion_matrix(confused_df.annotated_class, confused_df.model_prediction))\n",
    "print(confusion_matrix(confused_df.annotated_class, confused_df.model_prediction, normalize='true'))"
   ]
  },
  {
   "cell_type": "markdown",
   "id": "af1fcdb3",
   "metadata": {},
   "source": [
    "### Evaluate Evidence Instruction Following\n",
    "1. Did the model always extract an excerpt when making a positive classification?\n",
    "2. Did the model incorrectly extract an exctract when making a negative classifiction?\n",
    "3. Are extracted excerpts found in the original text?\n",
    "\n",
    "A summary of transformations applied to evaluate these questions:\n",
    "1. Remove all punc and case from comment and excerpt\n",
    "2. Treat N/A, None, and No Excerpt as no excerpt. None and No Excerpt were an error, or should we just say... unanticipated?\n",
    "3. Iterate all substrings of comment with the same length as the excerpt and calculate string similiarty. Take the maximum similarity.\n",
    "\n",
    "### Conclusions\n",
    "Without considering the relevance of the excerpt to a possible delusion classification, the model performed well in extracting excerpts that were actually found in the original text. In some cases, it's arguable that the model made improvements by correcting spelling, or inferring the referenced entity's pronoun when it was ommitted. However, it seems perferable to extract an exact excerpt and use deterministic methods to clean it up from there. Notably, the GPT series are know to correct themselves when errors are explicitly pointed out. Hence, it may be possible to use a function to identify excerpt extraction errors, and ask for a new result... Definitely a confusing computing paradigm!"
   ]
  },
  {
   "cell_type": "code",
   "execution_count": 162,
   "id": "840e8937",
   "metadata": {},
   "outputs": [
    {
     "data": {
      "text/plain": [
       "(1337, 5)"
      ]
     },
     "execution_count": 162,
     "metadata": {},
     "output_type": "execute_result"
    }
   ],
   "source": [
    "qry = \"\"\"\n",
    "SELECT co.ROWID, co.comment_text, cl.is_possible_delusion, cl.excerpt, cl.prompt_tokens FROM classifications cl\n",
    "INNER JOIN comments co ON cl.input_text_id = co.ROWID\n",
    "WHERE cl.prompt_version = 5\n",
    "\"\"\"\n",
    "llm_class_df = pd.read_sql(qry, con=sqlite3.connect(os.path.join('..', 'data', os.getenv('SQLITE_DB_NAME'))))\n",
    "llm_class_df.shape"
   ]
  },
  {
   "cell_type": "code",
   "execution_count": 165,
   "id": "1232da41",
   "metadata": {},
   "outputs": [],
   "source": [
    "is_positive = llm_class_df['is_possible_delusion'] == 1\n",
    "llm_class_df[\"comment_text_clean\"] = llm_class_df[\"comment_text\"].str.replace(r'[^a-zA-Z0-9]', '', regex=True).str.lower()\n",
    "llm_class_df[\"excerpt_clean\"] = llm_class_df[\"excerpt\"].str.replace(r'[^a-zA-Z0-9]', '', regex=True).str.lower() # added lower\n",
    "llm_class_df.loc[llm_class_df.excerpt.str.lower().isin([\"n/a\", \"none\", \"no excerpt\"]), \"excerpt_clean\"] = None\n",
    "llm_class_df[\"excerpt_clean_len\"] = llm_class_df[\"excerpt_clean\"].str.len()\n",
    "llm_class_df[\"excerpt_in_comment\"] = llm_class_df.apply(lambda row: row[\"excerpt_clean\"] in row[\"comment_text_clean\"] if row[\"excerpt_clean\"] else None, axis=1)\n",
    "\n",
    "def get_substrings_len_k(string, k):\n",
    "    return [string[i:i+int(k)] for i in range(len(string)-int(k)+1)]\n",
    "\n",
    "# sheds tear for using pandas apply\n",
    "llm_class_df[\"comment_text_clean_substr\"] = llm_class_df.apply(lambda x: get_substrings_len_k(x[\"comment_text_clean\"], x[\"excerpt_clean_len\"]) if pd.notnull(x[\"excerpt_clean_len\"]) else None, axis=1)\n",
    "def max_substr_ratio(row):\n",
    "    if row[\"comment_text_clean_substr\"] is None:\n",
    "        return None\n",
    "    else:\n",
    "        return max([difflib.SequenceMatcher(None, row[\"excerpt_clean\"], s).ratio() for s in row[\"comment_text_clean_substr\"]])\n",
    "llm_class_df[\"max_diff_ratio\"] = llm_class_df.apply(lambda x: max_substr_ratio(x), axis=1)"
   ]
  },
  {
   "attachments": {},
   "cell_type": "markdown",
   "id": "2b082be2",
   "metadata": {},
   "source": [
    "##### 1. Did the model always extract an excerpt when making a positive classification?\n",
    "Yes, it appears so."
   ]
  },
  {
   "cell_type": "code",
   "execution_count": 166,
   "id": "d182ff61",
   "metadata": {},
   "outputs": [
    {
     "name": "stdout",
     "output_type": "stream",
     "text": [
      "True    289\n",
      "Name: has_excerpt, dtype: int64\n",
      "True    1.0\n",
      "Name: has_excerpt, dtype: float64\n"
     ]
    }
   ],
   "source": [
    "llm_class_df[\"has_excerpt\"] = llm_class_df[\"excerpt_clean\"].notnull()\n",
    "print(llm_class_df.loc[llm_class_df.is_possible_delusion == 1, \"has_excerpt\"].value_counts())\n",
    "print(llm_class_df.loc[llm_class_df.is_possible_delusion == 1, \"has_excerpt\"].value_counts(normalize=True))"
   ]
  },
  {
   "attachments": {},
   "cell_type": "markdown",
   "id": "5abd03e3",
   "metadata": {},
   "source": [
    "##### 2. Did the model incorrectly extract an exctract when making a negative classifiction?\n",
    "Incorrectly extracted an excerpt 9% of the time"
   ]
  },
  {
   "cell_type": "code",
   "execution_count": 167,
   "id": "a685f285",
   "metadata": {},
   "outputs": [
    {
     "name": "stdout",
     "output_type": "stream",
     "text": [
      "False    960\n",
      "True     87 \n",
      "Name: has_excerpt, dtype: int64\n",
      "False    0.916905\n",
      "True     0.083095\n",
      "Name: has_excerpt, dtype: float64\n"
     ]
    }
   ],
   "source": [
    "print(llm_class_df.loc[llm_class_df.is_possible_delusion == 0, \"has_excerpt\"].value_counts())\n",
    "print(llm_class_df.loc[llm_class_df.is_possible_delusion == 0, \"has_excerpt\"].value_counts(normalize=True))"
   ]
  },
  {
   "attachments": {},
   "cell_type": "markdown",
   "id": "f23f8fea",
   "metadata": {},
   "source": [
    "##### 3. Are extracted excerpts found in the text?\n",
    "This is a more nuanced answer. 83% of the time, the original string (remove case and punc) was found in the original text."
   ]
  },
  {
   "cell_type": "code",
   "execution_count": 168,
   "id": "04fd3efc",
   "metadata": {},
   "outputs": [
    {
     "name": "stdout",
     "output_type": "stream",
     "text": [
      "True     314\n",
      "False    62 \n",
      "Name: excerpt_in_comment, dtype: int64\n",
      "True     0.835106\n",
      "False    0.164894\n",
      "Name: excerpt_in_comment, dtype: float64\n"
     ]
    }
   ],
   "source": [
    "llm_class_df_has_excerpt = llm_class_df.loc[llm_class_df.has_excerpt]\n",
    "print(llm_class_df_has_excerpt.excerpt_in_comment.value_counts())\n",
    "print(llm_class_df_has_excerpt.excerpt_in_comment.value_counts(normalize=True))"
   ]
  },
  {
   "cell_type": "markdown",
   "id": "b057496b",
   "metadata": {},
   "source": [
    "#### Max Similarity >0.9\n",
    "When calculuating a maximum diff ratio for substrings of equal length to the extracted excerpt, observe that nearly *25% have a string similarity over 0.9*. Inspecting a sample shows illustrates that the errors are not very meaningful to the excerpt task:\n",
    "- Addition of a pronoun where the original text has none. For example \"but has 1 or 2 delusions a month\" --> \"she but has 1 or 2 delusions a month\".\n",
    "- Correction of a spelling error. For example, \"sit there and cpunt the people\" --> \"sit there and count the people\"\n",
    "\n",
    "We'll call these low severity errors... It would be fairly simple, albiet computationally expensive, to write a program to compares the excerpt in the original text and extract the correct excerpt, without modification.\n",
    "\n",
    "#### Max Similarity Between 0.7 and 0.9\n",
    "- Combination of two non-contiguous portions of the original text. Sometimes adding a [...] in between.\n",
    "- Filling in an implicit statement, such as \"thinks he can \\[drive\\]\"\n",
    "- A few cases in which I somehow failed to remove new line characters\n",
    "\n",
    "#### Max Similarity <0.5\n",
    "Max similarity less than 0.5, which accounts for ~40% of cases, appears to be \"hallucinating\" in some cases, or regurgitating examples from the prompt."
   ]
  },
  {
   "cell_type": "code",
   "execution_count": 169,
   "id": "856060c5",
   "metadata": {},
   "outputs": [
    {
     "data": {
      "image/png": "[encoded data removed]",
      "text/plain": [
       "<Figure size 640x480 with 1 Axes>"
      ]
     },
     "metadata": {},
     "output_type": "display_data"
    }
   ],
   "source": [
    "excerpt_not_in_comment = ~llm_class_df_has_excerpt.excerpt_in_comment.astype(bool)\n",
    "llm_class_df_has_excerpt.loc[excerpt_not_in_comment, \"max_diff_ratio\"].hist(bins=20, cumulative=True, density=True)\n",
    "plt.ylabel(\"Cumulative Percentage\")\n",
    "plt.xlabel(\"Max Diff Ratio (excerpt vs. comment)\")\n",
    "plt.show()"
   ]
  },
  {
   "cell_type": "code",
   "execution_count": 156,
   "id": "e480b22c",
   "metadata": {},
   "outputs": [
    {
     "data": {
      "text/html": [
       "<div>\n",
       "<style scoped>\n",
       "    .dataframe tbody tr th:only-of-type {\n",
       "        vertical-align: middle;\n",
       "    }\n",
       "\n",
       "    .dataframe tbody tr th {\n",
       "        vertical-align: top;\n",
       "    }\n",
       "\n",
       "    .dataframe thead th {\n",
       "        text-align: right;\n",
       "    }\n",
       "</style>\n",
       "<table border=\"1\" class=\"dataframe\">\n",
       "  <thead>\n",
       "    <tr style=\"text-align: right;\">\n",
       "      <th></th>\n",
       "      <th>comment_text</th>\n",
       "      <th>excerpt</th>\n",
       "      <th>max_diff_ratio</th>\n",
       "    </tr>\n",
       "  </thead>\n",
       "  <tbody>\n",
       "    <tr>\n",
       "      <th>913</th>\n",
       "      <td>My father has it, it's awful we had to sell his house and most of his stuff, he's currently in a seniors residence but they want him out. My sister has him at her place during the day, but that's not working as he gets what's called sundowning. I'm afraid he's going to hurt someone or the police are going to hurt him . It's only because of the PERSON pandemic that he still lives where he is. Nursing home is next, but in Canada they don't want anyone who's trouble, in other words they don't care about the elderly in Canada. I love my father, but for his sake, while he still knows who we are I hope he goes peacefully in his sleep. Imagine being in a place, not remembering who we are, or even if we were just there, and abuse is rampant in Canadian nursing homes. I make little money, so I'm basically powerless. He already forgets where he is, doesn't remember seeing us in the very same day, he doesn't wash, and fights and tries to get people out of their cars because he thinks there his. This is brutal.</td>\n",
       "      <td>\"He fights and tries to get people out of their cars because he thinks there his.\"</td>\n",
       "      <td>0.968750</td>\n",
       "    </tr>\n",
       "    <tr>\n",
       "      <th>1089</th>\n",
       "      <td>Wow what a great video about dementia.  I lost my mother 5 years ago to dementia.  All of this makes so much sense. I learned to talk about right now . I never would tell my mom no. Instead I would say when she wanted me to take her \"home\" that I had to bring the car around and then leave. It was so hard and broke my heart to actually lie to her but it was the best I could do. She would of forgotten by the time I came back but still. Unfortunately for me I was going thru an illness that I no longer could work. .I didn't feel like driving.as much.. So I started calling her every morning. That worked out but I still tried to go see her.  She was about 1 1/2 hours away. My mom got very bad before she passed. She would be up all night and was trying to get out but luckily she was in a very secure place and they took very good care of her. I recommend anyone with a loved one with dementia to watch this or really anyone who want to know more about dementia.</td>\n",
       "      <td>\"She was trying to get out but luckily she was in a very secure place and they took very good care of her.\"</td>\n",
       "      <td>0.963415</td>\n",
       "    </tr>\n",
       "    <tr>\n",
       "      <th>1220</th>\n",
       "      <td>I had my grandpa with dementia who thought he was still the Bank manager as he was until retired, and we are his junior subordinates. He passed away in his 80's</td>\n",
       "      <td>\"He thought he was still the Bank manager as he was until retired.\"</td>\n",
       "      <td>0.980769</td>\n",
       "    </tr>\n",
       "    <tr>\n",
       "      <th>1319</th>\n",
       "      <td>I love how you are showing people what its really like. My mother just died in April from covid in which one of the nurses brought in and dementia. My mom was just this bad. She would call me 9 times a day crying her eyes out wanting me to come and get her from the nursing home in which she called it the hospital.I love my mom dearly but it broke my heart to see her this way.May she rest In peace..i love my angel above.  So i understand what you are going through  God be with you.</td>\n",
       "      <td>\"My mom would call me 9 times a day crying her eyes out wanting me to come and get her from the nursing home in which she called it the hospital.\"</td>\n",
       "      <td>0.955752</td>\n",
       "    </tr>\n",
       "    <tr>\n",
       "      <th>801</th>\n",
       "      <td>This was actually no help. My father sees people in the house all the time. Will sit there and cpunt the people. 25 people in the house or there were 15 people in his bed or he couldnt take a shower cuz someone was in there. It never ends. Someone is taking the tire off the car, I mean it is always something. So its not an object that he is seeing that he is misinterpreting.</td>\n",
       "      <td>\"My father sees people in the house all the time. Will sit there and count the people. 25 people in the house or there were 15 people in his bed or he couldnt take a shower cuz someone was in there.\"</td>\n",
       "      <td>0.993506</td>\n",
       "    </tr>\n",
       "    <tr>\n",
       "      <th>79</th>\n",
       "      <td>Losing my Great Grandma was one of the hardest things I had to go through. She was literally my best friend for almost 18 years. By the end of her life she had started calling me by my grandmothers name and would ask to see her long dead siblings. \\nIt was one of the hardest times in my life. \\nShe would have loved having something like this to do during the day</td>\n",
       "      <td>\"She would ask to see her long dead siblings.\"</td>\n",
       "      <td>0.914286</td>\n",
       "    </tr>\n",
       "    <tr>\n",
       "      <th>235</th>\n",
       "      <td>My aunt says a lot of things that are so outrageous. \\nA) her dog was poisoned ( when in fact she went to the vets to have her dog put down with a trusted friend)\\nB) she says her neighbour is crazy a and has been ringer doorbell at 7am several times \\nC) I’ve had three stokes\\nAt first I thought ok she misunderstood a sound? ( door bell or TV )\\nShe had guilt over her dog, so makes up a story to handle her grief\\nHas been having a few pains in her head, and or headaches, calls them a stroke?\\nDoes this all come from nowhere? Or do you think I’m on the right track?</td>\n",
       "      <td>\"She says her neighbour is crazy and has been ringing her doorbell at 7am several times\"</td>\n",
       "      <td>0.943662</td>\n",
       "    </tr>\n",
       "    <tr>\n",
       "      <th>1055</th>\n",
       "      <td>My mum told me her grandfather of her mother was 116 years old when he died and he was blind when he was 100, when my mother was 14 he was 116 years old and he said\"who are you, are you my grandchild?? \"that means he could see her and everyone was shocked cuz he was blind but he could see my mum that was so interesting he was so happy</td>\n",
       "      <td>\"he was 116 years old when he died and he was blind when he was 100, when my mother was 14 he was 116 years old and he said\"who are you, are you my grandchild?? \"that means he could see her and everyone was shocked cuz he was blind but he could see my mum\"</td>\n",
       "      <td>0.994845</td>\n",
       "    </tr>\n",
       "    <tr>\n",
       "      <th>405</th>\n",
       "      <td>Oh my gosh - I was very new to nursing and had a lovely lady who asked me when her husband was going to visit. Sadly he had been dead for quite a while and in my wish to be truthful, told her so.  How I wish I hadn’t.  She became distressed and couldn’t believe I would tell such a cruel lie.  I never made that mistake again. Just a few minutes later, she asked the same question - thankfully this time I said simply “He’s coming in a bit later.”  I felt bad for lying but saving her from that moment of distress made up for that.  Oh, how I wish this channel existed 30 years ago! Thank you for posting.</td>\n",
       "      <td>\"She asked when her husband was going to visit. Sadly he had been dead for quite a while and in my wish to be truthful, told her so. She became distressed and couldn’t believe I would tell such a cruel lie.\"</td>\n",
       "      <td>0.912500</td>\n",
       "    </tr>\n",
       "    <tr>\n",
       "      <th>49</th>\n",
       "      <td>My poor mother has had MS since age 32 and lived alone. She had an electric scooter and was fiercely independent. In 2015 she was transferring from the scooter to the couch and broke her leg.  She healed up and went to rehab but never really got back to the same level of independence.  She had filthy hair and stank of urine.  She would run off any caregivers we hired.  My brother came to her house to meet a tech to install internet so we could view and talk to her on camera and make sure that she was safe.  He found her lying on the floor by the scooter in a puddle of pee.  Shed fallen and spent the night there.  We got her to sign herself over to an assisted living home.  She was sad and angry at first but ended up making friends instead of being stuck alone in a house, stinking of poop and pee.  \\nMom has since been moved to the Memory care section. She never drinks enough fluids even when begged to do so, and she has had 2 heart attacks and several urinary tract infections.  Still, she is clean and better cared for than in assisted living.  Her old friends come and visit.  She remembers them but has 1 or 2 delusions a month, usually where she is going out to eat and driving herself.</td>\n",
       "      <td>\"She has 1 or 2 delusions a month, usually where she is going out to eat and driving herself.\"</td>\n",
       "      <td>0.958333</td>\n",
       "    </tr>\n",
       "  </tbody>\n",
       "</table>\n",
       "</div>"
      ],
      "text/plain": [
       "                                                                                                                                                                                                                                                                                                                                                                                                                                                                                                                                                                                                                                                                                                                                                                                                                                                                                                                                                                                                                                                                                                                                                                                                                                              comment_text  \\\n",
       "913   My father has it, it's awful we had to sell his house and most of his stuff, he's currently in a seniors residence but they want him out. My sister has him at her place during the day, but that's not working as he gets what's called sundowning. I'm afraid he's going to hurt someone or the police are going to hurt him . It's only because of the PERSON pandemic that he still lives where he is. Nursing home is next, but in Canada they don't want anyone who's trouble, in other words they don't care about the elderly in Canada. I love my father, but for his sake, while he still knows who we are I hope he goes peacefully in his sleep. Imagine being in a place, not remembering who we are, or even if we were just there, and abuse is rampant in Canadian nursing homes. I make little money, so I'm basically powerless. He already forgets where he is, doesn't remember seeing us in the very same day, he doesn't wash, and fights and tries to get people out of their cars because he thinks there his. This is brutal.                                                                                                                                                                                                 \n",
       "1089  Wow what a great video about dementia.  I lost my mother 5 years ago to dementia.  All of this makes so much sense. I learned to talk about right now . I never would tell my mom no. Instead I would say when she wanted me to take her \"home\" that I had to bring the car around and then leave. It was so hard and broke my heart to actually lie to her but it was the best I could do. She would of forgotten by the time I came back but still. Unfortunately for me I was going thru an illness that I no longer could work. .I didn't feel like driving.as much.. So I started calling her every morning. That worked out but I still tried to go see her.  She was about 1 1/2 hours away. My mom got very bad before she passed. She would be up all night and was trying to get out but luckily she was in a very secure place and they took very good care of her. I recommend anyone with a loved one with dementia to watch this or really anyone who want to know more about dementia.                                                                                                                                                                                                                                                  \n",
       "1220  I had my grandpa with dementia who thought he was still the Bank manager as he was until retired, and we are his junior subordinates. He passed away in his 80's                                                                                                                                                                                                                                                                                                                                                                                                                                                                                                                                                                                                                                                                                                                                                                                                                                                                                                                                                                                                                                                                                       \n",
       "1319  I love how you are showing people what its really like. My mother just died in April from covid in which one of the nurses brought in and dementia. My mom was just this bad. She would call me 9 times a day crying her eyes out wanting me to come and get her from the nursing home in which she called it the hospital.I love my mom dearly but it broke my heart to see her this way.May she rest In peace..i love my angel above.  So i understand what you are going through  God be with you.                                                                                                                                                                                                                                                                                                                                                                                                                                                                                                                                                                                                                                                                                                                                                  \n",
       "801   This was actually no help. My father sees people in the house all the time. Will sit there and cpunt the people. 25 people in the house or there were 15 people in his bed or he couldnt take a shower cuz someone was in there. It never ends. Someone is taking the tire off the car, I mean it is always something. So its not an object that he is seeing that he is misinterpreting.                                                                                                                                                                                                                                                                                                                                                                                                                                                                                                                                                                                                                                                                                                                                                                                                                                                              \n",
       "79    Losing my Great Grandma was one of the hardest things I had to go through. She was literally my best friend for almost 18 years. By the end of her life she had started calling me by my grandmothers name and would ask to see her long dead siblings. \\nIt was one of the hardest times in my life. \\nShe would have loved having something like this to do during the day                                                                                                                                                                                                                                                                                                                                                                                                                                                                                                                                                                                                                                                                                                                                                                                                                                                                           \n",
       "235   My aunt says a lot of things that are so outrageous. \\nA) her dog was poisoned ( when in fact she went to the vets to have her dog put down with a trusted friend)\\nB) she says her neighbour is crazy a and has been ringer doorbell at 7am several times \\nC) I’ve had three stokes\\nAt first I thought ok she misunderstood a sound? ( door bell or TV )\\nShe had guilt over her dog, so makes up a story to handle her grief\\nHas been having a few pains in her head, and or headaches, calls them a stroke?\\nDoes this all come from nowhere? Or do you think I’m on the right track?                                                                                                                                                                                                                                                                                                                                                                                                                                                                                                                                                                                                                                                            \n",
       "1055  My mum told me her grandfather of her mother was 116 years old when he died and he was blind when he was 100, when my mother was 14 he was 116 years old and he said\"who are you, are you my grandchild?? \"that means he could see her and everyone was shocked cuz he was blind but he could see my mum that was so interesting he was so happy                                                                                                                                                                                                                                                                                                                                                                                                                                                                                                                                                                                                                                                                                                                                                                                                                                                                                                       \n",
       "405   Oh my gosh - I was very new to nursing and had a lovely lady who asked me when her husband was going to visit. Sadly he had been dead for quite a while and in my wish to be truthful, told her so.  How I wish I hadn’t.  She became distressed and couldn’t believe I would tell such a cruel lie.  I never made that mistake again. Just a few minutes later, she asked the same question - thankfully this time I said simply “He’s coming in a bit later.”  I felt bad for lying but saving her from that moment of distress made up for that.  Oh, how I wish this channel existed 30 years ago! Thank you for posting.                                                                                                                                                                                                                                                                                                                                                                                                                                                                                                                                                                                                                          \n",
       "49    My poor mother has had MS since age 32 and lived alone. She had an electric scooter and was fiercely independent. In 2015 she was transferring from the scooter to the couch and broke her leg.  She healed up and went to rehab but never really got back to the same level of independence.  She had filthy hair and stank of urine.  She would run off any caregivers we hired.  My brother came to her house to meet a tech to install internet so we could view and talk to her on camera and make sure that she was safe.  He found her lying on the floor by the scooter in a puddle of pee.  Shed fallen and spent the night there.  We got her to sign herself over to an assisted living home.  She was sad and angry at first but ended up making friends instead of being stuck alone in a house, stinking of poop and pee.  \\nMom has since been moved to the Memory care section. She never drinks enough fluids even when begged to do so, and she has had 2 heart attacks and several urinary tract infections.  Still, she is clean and better cared for than in assisted living.  Her old friends come and visit.  She remembers them but has 1 or 2 delusions a month, usually where she is going out to eat and driving herself.   \n",
       "\n",
       "                                                                                                                                                                                                                                                               excerpt  \\\n",
       "913   \"He fights and tries to get people out of their cars because he thinks there his.\"                                                                                                                                                                                 \n",
       "1089  \"She was trying to get out but luckily she was in a very secure place and they took very good care of her.\"                                                                                                                                                        \n",
       "1220  \"He thought he was still the Bank manager as he was until retired.\"                                                                                                                                                                                                \n",
       "1319  \"My mom would call me 9 times a day crying her eyes out wanting me to come and get her from the nursing home in which she called it the hospital.\"                                                                                                                 \n",
       "801   \"My father sees people in the house all the time. Will sit there and count the people. 25 people in the house or there were 15 people in his bed or he couldnt take a shower cuz someone was in there.\"                                                            \n",
       "79    \"She would ask to see her long dead siblings.\"                                                                                                                                                                                                                     \n",
       "235   \"She says her neighbour is crazy and has been ringing her doorbell at 7am several times\"                                                                                                                                                                           \n",
       "1055  \"he was 116 years old when he died and he was blind when he was 100, when my mother was 14 he was 116 years old and he said\"who are you, are you my grandchild?? \"that means he could see her and everyone was shocked cuz he was blind but he could see my mum\"   \n",
       "405   \"She asked when her husband was going to visit. Sadly he had been dead for quite a while and in my wish to be truthful, told her so. She became distressed and couldn’t believe I would tell such a cruel lie.\"                                                    \n",
       "49    \"She has 1 or 2 delusions a month, usually where she is going out to eat and driving herself.\"                                                                                                                                                                     \n",
       "\n",
       "      max_diff_ratio  \n",
       "913   0.968750        \n",
       "1089  0.963415        \n",
       "1220  0.980769        \n",
       "1319  0.955752        \n",
       "801   0.993506        \n",
       "79    0.914286        \n",
       "235   0.943662        \n",
       "1055  0.994845        \n",
       "405   0.912500        \n",
       "49    0.958333        "
      ]
     },
     "execution_count": 156,
     "metadata": {},
     "output_type": "execute_result"
    }
   ],
   "source": [
    "llm_class_df_has_excerpt.loc[excerpt_not_in_comment & (llm_class_df_has_excerpt.max_diff_ratio > 0.90), [\"comment_text\", \"excerpt\", \"max_diff_ratio\"]].sample(10)"
   ]
  },
  {
   "cell_type": "code",
   "execution_count": 159,
   "id": "2cce91b2",
   "metadata": {},
   "outputs": [
    {
     "data": {
      "text/html": [
       "<div>\n",
       "<style scoped>\n",
       "    .dataframe tbody tr th:only-of-type {\n",
       "        vertical-align: middle;\n",
       "    }\n",
       "\n",
       "    .dataframe tbody tr th {\n",
       "        vertical-align: top;\n",
       "    }\n",
       "\n",
       "    .dataframe thead th {\n",
       "        text-align: right;\n",
       "    }\n",
       "</style>\n",
       "<table border=\"1\" class=\"dataframe\">\n",
       "  <thead>\n",
       "    <tr style=\"text-align: right;\">\n",
       "      <th></th>\n",
       "      <th>comment_text</th>\n",
       "      <th>excerpt</th>\n",
       "      <th>max_diff_ratio</th>\n",
       "    </tr>\n",
       "  </thead>\n",
       "  <tbody>\n",
       "    <tr>\n",
       "      <th>592</th>\n",
       "      <td>My husband is the same way none stop..BUT what can I do with him telling me that he sees men in bed with me!!  This is all day Everyday.. I'm going crazy cause I'm not doing anything but this is what he sees And he sees people men in our house he's always telling me that he can't take it him arguing with me Everyday he's on medication but the hallucinations doesn't go away .</td>\n",
       "      <td>\"he sees men in bed with me\" and \"he sees people men in our house\"</td>\n",
       "      <td>0.708333</td>\n",
       "    </tr>\n",
       "    <tr>\n",
       "      <th>1253</th>\n",
       "      <td>This is taking over my neighbor at the moment- It started with him forgetting where stuff was and that we were helping him with stuff and it just- deteriorated. he started talking to people who werent there, trying to drive his Car to dead friends houses, And the straw that broke the camels back was when he called the police on a break in when it was me deilvering him some soup my mom had made him- that wasnt fun explaining to the sherriff what was going on. Finally he deteriorated so far he couldnt live alone, and his son put him in a home while he was renevating his house so he could take him back to live with him and his wife and kids. \\ni couldnt imagine a worst way for a decorated war hero to go. He was an PERSON, better at trapping than anyone i ever knew and was the staunchest old man i ever knew and i treated him like the grandfather i didnt have. Hopefully he will be back soon, living with his son in his old house, along side the only person he remembers, his son.</td>\n",
       "      <td>\"He started talking to people who weren't there, trying to drive his car to dead friends houses, and called the police on a break in when it was me delivering him some soup.\"</td>\n",
       "      <td>0.713235</td>\n",
       "    </tr>\n",
       "    <tr>\n",
       "      <th>37</th>\n",
       "      <td>Hi Dr. PERSON,\\nI’m so happy that I stumbled upon your channel. My best friend is suffering from early onset Alzheimer’s &amp; going through your videos really helped me understand her situation a lot better. \\nI don’t live close to my friend, but am in contact with her wonderful husband through  phone calls &amp; texts. Today we spoke &amp; my heart broke for him. He is exhausted beyond belief between work, taking care of my friend &amp; raising their autistic son, but yet he’s always had a calm approach regarding his families devastating situation, until today. \\nHe was crying when we spoke, my friend told him that she no longer loves him anymore &amp; to move out. My friend can barely speak, so her &amp; her husband have kind of developed a language all their own, but she can’t communicate enough to explain the reason behind her anger towards him. He knows it’s the illness speaking, but he told me that what really hurts is that she believes what she is saying at that moment. \\nShe’s had hallucinations before, but together we’ve been kind of able to figure out where they were coming from, but we are both totally lost about this one. \\nI was hoping you had some ideas of how he can manage this situation with her. He’s her main care taker at home &amp; she’s so angry with him, that she won’t even look at him, where usually she’s very loving &amp; affectionate towards him. He’s really broken over this, so any ideas you have in dealing with this new behavior would be so very appreciated. \\nThanks for your time. \\nTake care,\\n Julie</td>\n",
       "      <td>\"My friend told him that she no longer loves him anymore &amp; to move out. He knows it's the illness speaking, but he told me that what really hurts is that she believes what she is saying at that moment.\"</td>\n",
       "      <td>0.762821</td>\n",
       "    </tr>\n",
       "    <tr>\n",
       "      <th>150</th>\n",
       "      <td>At the very end of his life my father would show concern for a baby, which he thought was in the next room. I would always go and check on the 'baby' and tell him that the child was fine. Just a few days before he died, I asked him who the baby was, he said, \"It's you\". When I told him I was sitting in front of him and now a adult, he looked at me as if I was rather slow and said \"Yes I know that, but you are also the baby next door as well\". Time doesn't appear so linear to those who are close to death.</td>\n",
       "      <td>\"He thought there was a baby in the next room...He said, 'It's you'...He looked at me as if I was rather slow and said 'Yes I know that, but you are also the baby next door as well.'\"</td>\n",
       "      <td>0.769231</td>\n",
       "    </tr>\n",
       "    <tr>\n",
       "      <th>228</th>\n",
       "      <td>I’m unable to get a diagnosis for my mom because she refuses to go to the doctor.  She has hallucinations, delusions, paranoia, lack of executive function, no longer understands time, and struggles with word recall.  She’s 80 but thinks she’s 52.</td>\n",
       "      <td>\"She has hallucinations, delusions, paranoia, [...] and thinks she's 52.\"</td>\n",
       "      <td>0.788462</td>\n",
       "    </tr>\n",
       "    <tr>\n",
       "      <th>608</th>\n",
       "      <td>I just found this channel. My 80 year old mom Is seeing people that are not there. And her favorite delusion is that she does not live in this house with me that she lives in another house down the street and wants to go home all the time. She gets to the point where she bundles all her stuff up and gets ready to go. I was telling her the truth and trying to reason with her but watching some of these videos I see I am supposed to go along with the delusion and redirect.</td>\n",
       "      <td>\"My 80 year old mom is seeing people that are not there\" and \"she does not live in this house with me that she lives in another house down the street and wants to go home all the time.\"</td>\n",
       "      <td>0.823944</td>\n",
       "    </tr>\n",
       "    <tr>\n",
       "      <th>502</th>\n",
       "      <td>My father has recently declined, 2nd time had surgery for broken hip. He came back considerably weaker and his dementia has gotten considerably worse. Prior to this 2nd break he was driving still to get an afternoon coffee. That was ‘pretty much it, just to the local McDonald’s.  But, now he’s pretty much limited to wheelchair, can only stand up to transfer from bed to chair. He’s not adjusting to not driving. He still thinks he can. We took the keys and had to move his car to my brothers because he kept going to it thinking he was going to go for a drive. He’d have some object in his hands and think maybe that would work as keys. Anyway, no he keeps trying to leave the house or from backyard. When we stop him he’s angry and verbally abusive. He will even take swings at us. He’s just so persistent and determined. We’re afraid to wheel him around in neighborhood because he may try to walk away and then he’s likely to fall and my mother and I can not lift though he’s only 150lbs. We’ve tried redirecting but not your way, at least not me. I’ll give a try and tell the other family members.\\nJust watched your video where you suggested changing environment. I’ll give that a try, too. Maybe, I can hang a canvas over the gate, and place potted plants in front of. Thank you, for your channel. 😁👍🏼😊</td>\n",
       "      <td>\"He still thinks he can [drive].\"</td>\n",
       "      <td>0.826087</td>\n",
       "    </tr>\n",
       "    <tr>\n",
       "      <th>549</th>\n",
       "      <td>My mother has trouble with sleeping. She says that we do things to her. She says she has no control over her finances, and her routines during the day. She also says we tell her doctor's lies about her health conditions. She is always mad, frustrated and always saying offensive things to us. We ignore all that. And get her off that subject. She'll be good for awhile. But will eventually go back to her angry mood again. We just don't know how to help her. But we will not give up.</td>\n",
       "      <td>\"She says we do things to her...She also says we tell her doctor's lies about her health conditions.\"</td>\n",
       "      <td>0.831169</td>\n",
       "    </tr>\n",
       "    <tr>\n",
       "      <th>1295</th>\n",
       "      <td>My Grammy was my best friend. Then she started thinking me and my kids were stealing her spoons, then anything else she lost. Turned the family against us. It was so hard. I miss her so much😩</td>\n",
       "      <td>\"My Grammy was thinking me and my kids were stealing her spoons, then anything else she lost.\"</td>\n",
       "      <td>0.864865</td>\n",
       "    </tr>\n",
       "  </tbody>\n",
       "</table>\n",
       "</div>"
      ],
      "text/plain": [
       "                                                                                                                                                                                                                                                                                                                                                                                                                                                                                                                                                                                                                                                                                                                                                                                                                                                                                                                                                                                                                                                                                                                                                                                                                                                                                                                                                                                                                                                                                                                                                                            comment_text  \\\n",
       "592   My husband is the same way none stop..BUT what can I do with him telling me that he sees men in bed with me!!  This is all day Everyday.. I'm going crazy cause I'm not doing anything but this is what he sees And he sees people men in our house he's always telling me that he can't take it him arguing with me Everyday he's on medication but the hallucinations doesn't go away .                                                                                                                                                                                                                                                                                                                                                                                                                                                                                                                                                                                                                                                                                                                                                                                                                                                                                                                                                                                                                                                                                                                                                                                            \n",
       "1253  This is taking over my neighbor at the moment- It started with him forgetting where stuff was and that we were helping him with stuff and it just- deteriorated. he started talking to people who werent there, trying to drive his Car to dead friends houses, And the straw that broke the camels back was when he called the police on a break in when it was me deilvering him some soup my mom had made him- that wasnt fun explaining to the sherriff what was going on. Finally he deteriorated so far he couldnt live alone, and his son put him in a home while he was renevating his house so he could take him back to live with him and his wife and kids. \\ni couldnt imagine a worst way for a decorated war hero to go. He was an PERSON, better at trapping than anyone i ever knew and was the staunchest old man i ever knew and i treated him like the grandfather i didnt have. Hopefully he will be back soon, living with his son in his old house, along side the only person he remembers, his son.                                                                                                                                                                                                                                                                                                                                                                                                                                                                                                                                                          \n",
       "37    Hi Dr. PERSON,\\nI’m so happy that I stumbled upon your channel. My best friend is suffering from early onset Alzheimer’s & going through your videos really helped me understand her situation a lot better. \\nI don’t live close to my friend, but am in contact with her wonderful husband through  phone calls & texts. Today we spoke & my heart broke for him. He is exhausted beyond belief between work, taking care of my friend & raising their autistic son, but yet he’s always had a calm approach regarding his families devastating situation, until today. \\nHe was crying when we spoke, my friend told him that she no longer loves him anymore & to move out. My friend can barely speak, so her & her husband have kind of developed a language all their own, but she can’t communicate enough to explain the reason behind her anger towards him. He knows it’s the illness speaking, but he told me that what really hurts is that she believes what she is saying at that moment. \\nShe’s had hallucinations before, but together we’ve been kind of able to figure out where they were coming from, but we are both totally lost about this one. \\nI was hoping you had some ideas of how he can manage this situation with her. He’s her main care taker at home & she’s so angry with him, that she won’t even look at him, where usually she’s very loving & affectionate towards him. He’s really broken over this, so any ideas you have in dealing with this new behavior would be so very appreciated. \\nThanks for your time. \\nTake care,\\n Julie   \n",
       "150   At the very end of his life my father would show concern for a baby, which he thought was in the next room. I would always go and check on the 'baby' and tell him that the child was fine. Just a few days before he died, I asked him who the baby was, he said, \"It's you\". When I told him I was sitting in front of him and now a adult, he looked at me as if I was rather slow and said \"Yes I know that, but you are also the baby next door as well\". Time doesn't appear so linear to those who are close to death.                                                                                                                                                                                                                                                                                                                                                                                                                                                                                                                                                                                                                                                                                                                                                                                                                                                                                                                                                                                                                                                        \n",
       "228   I’m unable to get a diagnosis for my mom because she refuses to go to the doctor.  She has hallucinations, delusions, paranoia, lack of executive function, no longer understands time, and struggles with word recall.  She’s 80 but thinks she’s 52.                                                                                                                                                                                                                                                                                                                                                                                                                                                                                                                                                                                                                                                                                                                                                                                                                                                                                                                                                                                                                                                                                                                                                                                                                                                                                                                               \n",
       "608   I just found this channel. My 80 year old mom Is seeing people that are not there. And her favorite delusion is that she does not live in this house with me that she lives in another house down the street and wants to go home all the time. She gets to the point where she bundles all her stuff up and gets ready to go. I was telling her the truth and trying to reason with her but watching some of these videos I see I am supposed to go along with the delusion and redirect.                                                                                                                                                                                                                                                                                                                                                                                                                                                                                                                                                                                                                                                                                                                                                                                                                                                                                                                                                                                                                                                                                           \n",
       "502   My father has recently declined, 2nd time had surgery for broken hip. He came back considerably weaker and his dementia has gotten considerably worse. Prior to this 2nd break he was driving still to get an afternoon coffee. That was ‘pretty much it, just to the local McDonald’s.  But, now he’s pretty much limited to wheelchair, can only stand up to transfer from bed to chair. He’s not adjusting to not driving. He still thinks he can. We took the keys and had to move his car to my brothers because he kept going to it thinking he was going to go for a drive. He’d have some object in his hands and think maybe that would work as keys. Anyway, no he keeps trying to leave the house or from backyard. When we stop him he’s angry and verbally abusive. He will even take swings at us. He’s just so persistent and determined. We’re afraid to wheel him around in neighborhood because he may try to walk away and then he’s likely to fall and my mother and I can not lift though he’s only 150lbs. We’ve tried redirecting but not your way, at least not me. I’ll give a try and tell the other family members.\\nJust watched your video where you suggested changing environment. I’ll give that a try, too. Maybe, I can hang a canvas over the gate, and place potted plants in front of. Thank you, for your channel. 😁👍🏼😊                                                                                                                                                                                                                        \n",
       "549   My mother has trouble with sleeping. She says that we do things to her. She says she has no control over her finances, and her routines during the day. She also says we tell her doctor's lies about her health conditions. She is always mad, frustrated and always saying offensive things to us. We ignore all that. And get her off that subject. She'll be good for awhile. But will eventually go back to her angry mood again. We just don't know how to help her. But we will not give up.                                                                                                                                                                                                                                                                                                                                                                                                                                                                                                                                                                                                                                                                                                                                                                                                                                                                                                                                                                                                                                                                                  \n",
       "1295  My Grammy was my best friend. Then she started thinking me and my kids were stealing her spoons, then anything else she lost. Turned the family against us. It was so hard. I miss her so much😩                                                                                                                                                                                                                                                                                                                                                                                                                                                                                                                                                                                                                                                                                                                                                                                                                                                                                                                                                                                                                                                                                                                                                                                                                                                                                                                                                                                      \n",
       "\n",
       "                                                                                                                                                                                                         excerpt  \\\n",
       "592   \"he sees men in bed with me\" and \"he sees people men in our house\"                                                                                                                                           \n",
       "1253  \"He started talking to people who weren't there, trying to drive his car to dead friends houses, and called the police on a break in when it was me delivering him some soup.\"                               \n",
       "37    \"My friend told him that she no longer loves him anymore & to move out. He knows it's the illness speaking, but he told me that what really hurts is that she believes what she is saying at that moment.\"   \n",
       "150   \"He thought there was a baby in the next room...He said, 'It's you'...He looked at me as if I was rather slow and said 'Yes I know that, but you are also the baby next door as well.'\"                      \n",
       "228   \"She has hallucinations, delusions, paranoia, [...] and thinks she's 52.\"                                                                                                                                    \n",
       "608   \"My 80 year old mom is seeing people that are not there\" and \"she does not live in this house with me that she lives in another house down the street and wants to go home all the time.\"                    \n",
       "502   \"He still thinks he can [drive].\"                                                                                                                                                                            \n",
       "549   \"She says we do things to her...She also says we tell her doctor's lies about her health conditions.\"                                                                                                        \n",
       "1295  \"My Grammy was thinking me and my kids were stealing her spoons, then anything else she lost.\"                                                                                                               \n",
       "\n",
       "      max_diff_ratio  \n",
       "592   0.708333        \n",
       "1253  0.713235        \n",
       "37    0.762821        \n",
       "150   0.769231        \n",
       "228   0.788462        \n",
       "608   0.823944        \n",
       "502   0.826087        \n",
       "549   0.831169        \n",
       "1295  0.864865        "
      ]
     },
     "execution_count": 159,
     "metadata": {},
     "output_type": "execute_result"
    }
   ],
   "source": [
    "llm_class_df_has_excerpt.loc[excerpt_not_in_comment\n",
    "                 & (llm_class_df_has_excerpt.max_diff_ratio > 0.70) \n",
    "                 & (llm_class_df_has_excerpt.max_diff_ratio < 0.90), \n",
    "                 [\"comment_text\", \"excerpt\", \"max_diff_ratio\"]].sort_values(\"max_diff_ratio\")\n"
   ]
  },
  {
   "cell_type": "code",
   "execution_count": 170,
   "id": "ccf78f9e",
   "metadata": {},
   "outputs": [
    {
     "data": {
      "text/html": [
       "<div>\n",
       "<style scoped>\n",
       "    .dataframe tbody tr th:only-of-type {\n",
       "        vertical-align: middle;\n",
       "    }\n",
       "\n",
       "    .dataframe tbody tr th {\n",
       "        vertical-align: top;\n",
       "    }\n",
       "\n",
       "    .dataframe thead th {\n",
       "        text-align: right;\n",
       "    }\n",
       "</style>\n",
       "<table border=\"1\" class=\"dataframe\">\n",
       "  <thead>\n",
       "    <tr style=\"text-align: right;\">\n",
       "      <th></th>\n",
       "      <th>comment_text</th>\n",
       "      <th>excerpt</th>\n",
       "      <th>max_diff_ratio</th>\n",
       "    </tr>\n",
       "  </thead>\n",
       "  <tbody>\n",
       "    <tr>\n",
       "      <th>899</th>\n",
       "      <td>I met. My. Mom. At 17 year's. Old,. And. In the. End. I took. Care. Of. Her,,. My. Sweet. Mom. Rest ❤️ Mama........</td>\n",
       "      <td>\"She was convinced that I was not her daughter.\"</td>\n",
       "      <td>0.324324</td>\n",
       "    </tr>\n",
       "    <tr>\n",
       "      <th>906</th>\n",
       "      <td>My grandmother has alzheimers its  a terrible disease. It's hard to see her like that. She doesn't remember me or my son or her 4 children</td>\n",
       "      <td>\"She thinks she's still married to my grandfather who passed away 10 years ago.\"</td>\n",
       "      <td>0.333333</td>\n",
       "    </tr>\n",
       "    <tr>\n",
       "      <th>131</th>\n",
       "      <td>My grandmother has Alzheimer’s, shes been showing signs of Alzheimer’s/dementia since 2017. I don’t know how long she has left so I spend as much time as I can with her.</td>\n",
       "      <td>\"She's been convinced that her abusive ex-husband has moved in next door and she's been getting mail from his new wife.\"</td>\n",
       "      <td>0.340426</td>\n",
       "    </tr>\n",
       "    <tr>\n",
       "      <th>1007</th>\n",
       "      <td>My sweet daddy has dementia. He's in the late stages now..we take care of him at home all those 12 years.  Awful sickness for the patient and for his family.  He got sick when he was 58.  My sweet daddy..</td>\n",
       "      <td>\"He's convinced that he's still working and that he's going to get paid for it.\"</td>\n",
       "      <td>0.350000</td>\n",
       "    </tr>\n",
       "    <tr>\n",
       "      <th>96</th>\n",
       "      <td>My aunt (she raiaed me)is on the early stages im trying to take of her myself but I know i will need help soon.</td>\n",
       "      <td>\"She keeps saying her abusive ex husband moved in next door. That's not true.\"</td>\n",
       "      <td>0.350000</td>\n",
       "    </tr>\n",
       "    <tr>\n",
       "      <th>189</th>\n",
       "      <td>I love this ❤️. We did the very same with a patient. Gave her a baby doll we kept for peds and she loved it. Also gave her some towels to fold.</td>\n",
       "      <td>\"She was convinced she was in a hotel and was folding towels for the guests.\"</td>\n",
       "      <td>0.350000</td>\n",
       "    </tr>\n",
       "    <tr>\n",
       "      <th>1002</th>\n",
       "      <td>My brother was just born and this remained me of him because he can't come home with us he has to stay in the hospital. And in latterly crying my eyes out</td>\n",
       "      <td>\"My mom said that he was taken away by the government and that they were going to use him for experiments.\"</td>\n",
       "      <td>0.392857</td>\n",
       "    </tr>\n",
       "    <tr>\n",
       "      <th>946</th>\n",
       "      <td>I'm in the exact same place.  My dad was diagnosed with dementia a couple years ago and is now in memory care/assisted living.  I go see him as much as I can just to make sure he doesn't forget who I am and that he's loved.</td>\n",
       "      <td>\"He's convinced that I'm his brother\"</td>\n",
       "      <td>0.392857</td>\n",
       "    </tr>\n",
       "    <tr>\n",
       "      <th>357</th>\n",
       "      <td>I work with dementia patients in a nursing home. The secret  to helping them is to roleplay in different  situations to try and disperse any anxiety they are feeling. It's  no use arguing with them.</td>\n",
       "      <td>\"one patient was convinced that her husband was coming to pick her up\"</td>\n",
       "      <td>0.428571</td>\n",
       "    </tr>\n",
       "    <tr>\n",
       "      <th>832</th>\n",
       "      <td>My grandpa had dementia and he forgot who I was. I was in the car with him, my mom and my grandma and he asked who is this girl?</td>\n",
       "      <td>\"He asked who is this girl? My mom said it's your granddaughter and he said no, she's not.\"</td>\n",
       "      <td>0.462687</td>\n",
       "    </tr>\n",
       "  </tbody>\n",
       "</table>\n",
       "</div>"
      ],
      "text/plain": [
       "                                                                                                                                                                                                                         comment_text  \\\n",
       "899   I met. My. Mom. At 17 year's. Old,. And. In the. End. I took. Care. Of. Her,,. My. Sweet. Mom. Rest ❤️ Mama........                                                                                                               \n",
       "906   My grandmother has alzheimers its  a terrible disease. It's hard to see her like that. She doesn't remember me or my son or her 4 children                                                                                        \n",
       "131   My grandmother has Alzheimer’s, shes been showing signs of Alzheimer’s/dementia since 2017. I don’t know how long she has left so I spend as much time as I can with her.                                                         \n",
       "1007  My sweet daddy has dementia. He's in the late stages now..we take care of him at home all those 12 years.  Awful sickness for the patient and for his family.  He got sick when he was 58.  My sweet daddy..                      \n",
       "96    My aunt (she raiaed me)is on the early stages im trying to take of her myself but I know i will need help soon.                                                                                                                   \n",
       "189   I love this ❤️. We did the very same with a patient. Gave her a baby doll we kept for peds and she loved it. Also gave her some towels to fold.                                                                                   \n",
       "1002  My brother was just born and this remained me of him because he can't come home with us he has to stay in the hospital. And in latterly crying my eyes out                                                                        \n",
       "946   I'm in the exact same place.  My dad was diagnosed with dementia a couple years ago and is now in memory care/assisted living.  I go see him as much as I can just to make sure he doesn't forget who I am and that he's loved.   \n",
       "357   I work with dementia patients in a nursing home. The secret  to helping them is to roleplay in different  situations to try and disperse any anxiety they are feeling. It's  no use arguing with them.                            \n",
       "832   My grandpa had dementia and he forgot who I was. I was in the car with him, my mom and my grandma and he asked who is this girl?                                                                                                  \n",
       "\n",
       "                                                                                                                       excerpt  \\\n",
       "899   \"She was convinced that I was not her daughter.\"                                                                           \n",
       "906   \"She thinks she's still married to my grandfather who passed away 10 years ago.\"                                           \n",
       "131   \"She's been convinced that her abusive ex-husband has moved in next door and she's been getting mail from his new wife.\"   \n",
       "1007  \"He's convinced that he's still working and that he's going to get paid for it.\"                                           \n",
       "96    \"She keeps saying her abusive ex husband moved in next door. That's not true.\"                                             \n",
       "189   \"She was convinced she was in a hotel and was folding towels for the guests.\"                                              \n",
       "1002  \"My mom said that he was taken away by the government and that they were going to use him for experiments.\"                \n",
       "946   \"He's convinced that I'm his brother\"                                                                                      \n",
       "357   \"one patient was convinced that her husband was coming to pick her up\"                                                     \n",
       "832   \"He asked who is this girl? My mom said it's your granddaughter and he said no, she's not.\"                                \n",
       "\n",
       "      max_diff_ratio  \n",
       "899   0.324324        \n",
       "906   0.333333        \n",
       "131   0.340426        \n",
       "1007  0.350000        \n",
       "96    0.350000        \n",
       "189   0.350000        \n",
       "1002  0.392857        \n",
       "946   0.392857        \n",
       "357   0.428571        \n",
       "832   0.462687        "
      ]
     },
     "execution_count": 170,
     "metadata": {},
     "output_type": "execute_result"
    }
   ],
   "source": [
    "# Are you being a good bing?\n",
    "llm_class_df_has_excerpt.loc[excerpt_not_in_comment\n",
    "                 & (llm_class_df_has_excerpt.max_diff_ratio < 0.50), \n",
    "                 [\"comment_text\", \"excerpt\", \"max_diff_ratio\"]].sample(10).sort_values(\"max_diff_ratio\")"
   ]
  }
 ],
 "metadata": {
  "kernelspec": {
   "display_name": "Python 3 (ipykernel)",
   "language": "python",
   "name": "python3"
  },
  "language_info": {
   "codemirror_mode": {
    "name": "ipython",
    "version": 3
   },
   "file_extension": ".py",
   "mimetype": "text/x-python",
   "name": "python",
   "nbconvert_exporter": "python",
   "pygments_lexer": "ipython3",
   "version": "3.10.9"
  }
 },
 "nbformat": 4,
 "nbformat_minor": 5
}
